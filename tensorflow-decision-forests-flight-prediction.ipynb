{
 "cells": [
  {
   "cell_type": "code",
   "execution_count": 1,
   "id": "974b9288",
   "metadata": {
    "execution": {
     "iopub.execute_input": "2022-03-12T11:10:39.285528Z",
     "iopub.status.busy": "2022-03-12T11:10:39.283897Z",
     "iopub.status.idle": "2022-03-12T11:11:46.229239Z",
     "shell.execute_reply": "2022-03-12T11:11:46.228604Z",
     "shell.execute_reply.started": "2022-03-12T10:35:18.675579Z"
    },
    "papermill": {
     "duration": 66.974855,
     "end_time": "2022-03-12T11:11:46.229399",
     "exception": false,
     "start_time": "2022-03-12T11:10:39.254544",
     "status": "completed"
    },
    "tags": []
   },
   "outputs": [
    {
     "name": "stdout",
     "output_type": "stream",
     "text": [
      "Collecting tensorflow_decision_forests\r\n",
      "  Downloading tensorflow_decision_forests-0.2.4-cp37-cp37m-manylinux_2_12_x86_64.manylinux2010_x86_64.whl (13.4 MB)\r\n",
      "     |████████████████████████████████| 13.4 MB 930 kB/s            \r\n",
      "\u001b[?25hCollecting tensorflow~=2.8.0\r\n",
      "  Downloading tensorflow-2.8.0-cp37-cp37m-manylinux2010_x86_64.whl (497.5 MB)\r\n",
      "     |████████████████████████████████| 497.5 MB 21 kB/s              \r\n",
      "\u001b[?25hCollecting wurlitzer\r\n",
      "  Downloading wurlitzer-3.0.2-py3-none-any.whl (7.3 kB)\r\n",
      "Requirement already satisfied: wheel in /opt/conda/lib/python3.7/site-packages (from tensorflow_decision_forests) (0.37.0)\r\n",
      "Requirement already satisfied: numpy in /opt/conda/lib/python3.7/site-packages (from tensorflow_decision_forests) (1.20.3)\r\n",
      "Requirement already satisfied: pandas in /opt/conda/lib/python3.7/site-packages (from tensorflow_decision_forests) (1.3.5)\r\n",
      "Requirement already satisfied: absl-py in /opt/conda/lib/python3.7/site-packages (from tensorflow_decision_forests) (0.15.0)\r\n",
      "Requirement already satisfied: six in /opt/conda/lib/python3.7/site-packages (from tensorflow_decision_forests) (1.16.0)\r\n",
      "Requirement already satisfied: termcolor>=1.1.0 in /opt/conda/lib/python3.7/site-packages (from tensorflow~=2.8.0->tensorflow_decision_forests) (1.1.0)\r\n",
      "Requirement already satisfied: opt-einsum>=2.3.2 in /opt/conda/lib/python3.7/site-packages (from tensorflow~=2.8.0->tensorflow_decision_forests) (3.3.0)\r\n",
      "Collecting tf-estimator-nightly==2.8.0.dev2021122109\r\n",
      "  Downloading tf_estimator_nightly-2.8.0.dev2021122109-py2.py3-none-any.whl (462 kB)\r\n",
      "     |████████████████████████████████| 462 kB 39.1 MB/s            \r\n",
      "\u001b[?25hRequirement already satisfied: astunparse>=1.6.0 in /opt/conda/lib/python3.7/site-packages (from tensorflow~=2.8.0->tensorflow_decision_forests) (1.6.3)\r\n",
      "Requirement already satisfied: typing-extensions>=3.6.6 in /opt/conda/lib/python3.7/site-packages (from tensorflow~=2.8.0->tensorflow_decision_forests) (4.1.1)\r\n",
      "Collecting tensorflow-io-gcs-filesystem>=0.23.1\r\n",
      "  Downloading tensorflow_io_gcs_filesystem-0.24.0-cp37-cp37m-manylinux_2_12_x86_64.manylinux2010_x86_64.whl (2.1 MB)\r\n",
      "     |████████████████████████████████| 2.1 MB 39.2 MB/s            \r\n",
      "\u001b[?25hRequirement already satisfied: keras-preprocessing>=1.1.1 in /opt/conda/lib/python3.7/site-packages (from tensorflow~=2.8.0->tensorflow_decision_forests) (1.1.2)\r\n",
      "Requirement already satisfied: wrapt>=1.11.0 in /opt/conda/lib/python3.7/site-packages (from tensorflow~=2.8.0->tensorflow_decision_forests) (1.13.3)\r\n",
      "Requirement already satisfied: flatbuffers>=1.12 in /opt/conda/lib/python3.7/site-packages (from tensorflow~=2.8.0->tensorflow_decision_forests) (1.12)\r\n",
      "Collecting keras<2.9,>=2.8.0rc0\r\n",
      "  Downloading keras-2.8.0-py2.py3-none-any.whl (1.4 MB)\r\n",
      "     |████████████████████████████████| 1.4 MB 42.0 MB/s            \r\n",
      "\u001b[?25hRequirement already satisfied: setuptools in /opt/conda/lib/python3.7/site-packages (from tensorflow~=2.8.0->tensorflow_decision_forests) (59.5.0)\r\n",
      "Requirement already satisfied: protobuf>=3.9.2 in /opt/conda/lib/python3.7/site-packages (from tensorflow~=2.8.0->tensorflow_decision_forests) (3.19.1)\r\n",
      "Requirement already satisfied: gast>=0.2.1 in /opt/conda/lib/python3.7/site-packages (from tensorflow~=2.8.0->tensorflow_decision_forests) (0.4.0)\r\n",
      "Requirement already satisfied: grpcio<2.0,>=1.24.3 in /opt/conda/lib/python3.7/site-packages (from tensorflow~=2.8.0->tensorflow_decision_forests) (1.43.0)\r\n",
      "Requirement already satisfied: google-pasta>=0.1.1 in /opt/conda/lib/python3.7/site-packages (from tensorflow~=2.8.0->tensorflow_decision_forests) (0.2.0)\r\n",
      "Collecting tensorboard<2.9,>=2.8\r\n",
      "  Downloading tensorboard-2.8.0-py3-none-any.whl (5.8 MB)\r\n",
      "     |████████████████████████████████| 5.8 MB 57.7 MB/s            \r\n",
      "\u001b[?25hRequirement already satisfied: h5py>=2.9.0 in /opt/conda/lib/python3.7/site-packages (from tensorflow~=2.8.0->tensorflow_decision_forests) (3.1.0)\r\n",
      "Collecting libclang>=9.0.1\r\n",
      "  Downloading libclang-13.0.0-py2.py3-none-manylinux1_x86_64.whl (14.5 MB)\r\n",
      "     |████████████████████████████████| 14.5 MB 48.8 MB/s            \r\n",
      "\u001b[?25hRequirement already satisfied: python-dateutil>=2.7.3 in /opt/conda/lib/python3.7/site-packages (from pandas->tensorflow_decision_forests) (2.8.2)\r\n",
      "Requirement already satisfied: pytz>=2017.3 in /opt/conda/lib/python3.7/site-packages (from pandas->tensorflow_decision_forests) (2021.3)\r\n",
      "Requirement already satisfied: cached-property in /opt/conda/lib/python3.7/site-packages (from h5py>=2.9.0->tensorflow~=2.8.0->tensorflow_decision_forests) (1.5.2)\r\n",
      "Requirement already satisfied: requests<3,>=2.21.0 in /opt/conda/lib/python3.7/site-packages (from tensorboard<2.9,>=2.8->tensorflow~=2.8.0->tensorflow_decision_forests) (2.26.0)\r\n",
      "Requirement already satisfied: google-auth-oauthlib<0.5,>=0.4.1 in /opt/conda/lib/python3.7/site-packages (from tensorboard<2.9,>=2.8->tensorflow~=2.8.0->tensorflow_decision_forests) (0.4.6)\r\n",
      "Requirement already satisfied: tensorboard-data-server<0.7.0,>=0.6.0 in /opt/conda/lib/python3.7/site-packages (from tensorboard<2.9,>=2.8->tensorflow~=2.8.0->tensorflow_decision_forests) (0.6.1)\r\n",
      "Requirement already satisfied: werkzeug>=0.11.15 in /opt/conda/lib/python3.7/site-packages (from tensorboard<2.9,>=2.8->tensorflow~=2.8.0->tensorflow_decision_forests) (2.0.2)\r\n",
      "Requirement already satisfied: tensorboard-plugin-wit>=1.6.0 in /opt/conda/lib/python3.7/site-packages (from tensorboard<2.9,>=2.8->tensorflow~=2.8.0->tensorflow_decision_forests) (1.8.0)\r\n",
      "Requirement already satisfied: google-auth<3,>=1.6.3 in /opt/conda/lib/python3.7/site-packages (from tensorboard<2.9,>=2.8->tensorflow~=2.8.0->tensorflow_decision_forests) (1.35.0)\r\n",
      "Requirement already satisfied: markdown>=2.6.8 in /opt/conda/lib/python3.7/site-packages (from tensorboard<2.9,>=2.8->tensorflow~=2.8.0->tensorflow_decision_forests) (3.3.6)\r\n",
      "Requirement already satisfied: cachetools<5.0,>=2.0.0 in /opt/conda/lib/python3.7/site-packages (from google-auth<3,>=1.6.3->tensorboard<2.9,>=2.8->tensorflow~=2.8.0->tensorflow_decision_forests) (4.2.4)\r\n",
      "Requirement already satisfied: pyasn1-modules>=0.2.1 in /opt/conda/lib/python3.7/site-packages (from google-auth<3,>=1.6.3->tensorboard<2.9,>=2.8->tensorflow~=2.8.0->tensorflow_decision_forests) (0.2.7)\r\n",
      "Requirement already satisfied: rsa<5,>=3.1.4 in /opt/conda/lib/python3.7/site-packages (from google-auth<3,>=1.6.3->tensorboard<2.9,>=2.8->tensorflow~=2.8.0->tensorflow_decision_forests) (4.8)\r\n",
      "Requirement already satisfied: requests-oauthlib>=0.7.0 in /opt/conda/lib/python3.7/site-packages (from google-auth-oauthlib<0.5,>=0.4.1->tensorboard<2.9,>=2.8->tensorflow~=2.8.0->tensorflow_decision_forests) (1.3.0)\r\n",
      "Requirement already satisfied: importlib-metadata>=4.4 in /opt/conda/lib/python3.7/site-packages (from markdown>=2.6.8->tensorboard<2.9,>=2.8->tensorflow~=2.8.0->tensorflow_decision_forests) (4.11.2)\r\n",
      "Requirement already satisfied: charset-normalizer~=2.0.0 in /opt/conda/lib/python3.7/site-packages (from requests<3,>=2.21.0->tensorboard<2.9,>=2.8->tensorflow~=2.8.0->tensorflow_decision_forests) (2.0.9)\r\n",
      "Requirement already satisfied: certifi>=2017.4.17 in /opt/conda/lib/python3.7/site-packages (from requests<3,>=2.21.0->tensorboard<2.9,>=2.8->tensorflow~=2.8.0->tensorflow_decision_forests) (2021.10.8)\r\n",
      "Requirement already satisfied: urllib3<1.27,>=1.21.1 in /opt/conda/lib/python3.7/site-packages (from requests<3,>=2.21.0->tensorboard<2.9,>=2.8->tensorflow~=2.8.0->tensorflow_decision_forests) (1.26.7)\r\n",
      "Requirement already satisfied: idna<4,>=2.5 in /opt/conda/lib/python3.7/site-packages (from requests<3,>=2.21.0->tensorboard<2.9,>=2.8->tensorflow~=2.8.0->tensorflow_decision_forests) (3.1)\r\n",
      "Requirement already satisfied: zipp>=0.5 in /opt/conda/lib/python3.7/site-packages (from importlib-metadata>=4.4->markdown>=2.6.8->tensorboard<2.9,>=2.8->tensorflow~=2.8.0->tensorflow_decision_forests) (3.6.0)\r\n",
      "Requirement already satisfied: pyasn1<0.5.0,>=0.4.6 in /opt/conda/lib/python3.7/site-packages (from pyasn1-modules>=0.2.1->google-auth<3,>=1.6.3->tensorboard<2.9,>=2.8->tensorflow~=2.8.0->tensorflow_decision_forests) (0.4.8)\r\n",
      "Requirement already satisfied: oauthlib>=3.0.0 in /opt/conda/lib/python3.7/site-packages (from requests-oauthlib>=0.7.0->google-auth-oauthlib<0.5,>=0.4.1->tensorboard<2.9,>=2.8->tensorflow~=2.8.0->tensorflow_decision_forests) (3.1.1)\r\n",
      "Installing collected packages: tf-estimator-nightly, tensorflow-io-gcs-filesystem, tensorboard, libclang, keras, wurlitzer, tensorflow, tensorflow-decision-forests\r\n",
      "  Attempting uninstall: tensorboard\r\n",
      "    Found existing installation: tensorboard 2.6.0\r\n",
      "    Uninstalling tensorboard-2.6.0:\r\n",
      "      Successfully uninstalled tensorboard-2.6.0\r\n",
      "  Attempting uninstall: keras\r\n",
      "    Found existing installation: keras 2.6.0\r\n",
      "    Uninstalling keras-2.6.0:\r\n",
      "      Successfully uninstalled keras-2.6.0\r\n",
      "  Attempting uninstall: tensorflow\r\n",
      "    Found existing installation: tensorflow 2.6.2\r\n",
      "    Uninstalling tensorflow-2.6.2:\r\n",
      "      Successfully uninstalled tensorflow-2.6.2\r\n",
      "\u001b[31mERROR: pip's dependency resolver does not currently take into account all the packages that are installed. This behaviour is the source of the following dependency conflicts.\r\n",
      "explainable-ai-sdk 1.3.2 requires xai-image-widget, which is not installed.\r\n",
      "tfx-bsl 1.5.0 requires absl-py<0.13,>=0.9, but you have absl-py 0.15.0 which is incompatible.\r\n",
      "tfx-bsl 1.5.0 requires numpy<1.20,>=1.16, but you have numpy 1.20.3 which is incompatible.\r\n",
      "tfx-bsl 1.5.0 requires pyarrow<6,>=1, but you have pyarrow 6.0.1 which is incompatible.\r\n",
      "tensorflow-transform 1.5.0 requires absl-py<0.13,>=0.9, but you have absl-py 0.15.0 which is incompatible.\r\n",
      "tensorflow-transform 1.5.0 requires numpy<1.20,>=1.16, but you have numpy 1.20.3 which is incompatible.\r\n",
      "tensorflow-transform 1.5.0 requires pyarrow<6,>=1, but you have pyarrow 6.0.1 which is incompatible.\r\n",
      "tensorflow-transform 1.5.0 requires tensorflow!=2.0.*,!=2.1.*,!=2.2.*,!=2.3.*,!=2.4.*,!=2.5.*,!=2.6.*,<2.8,>=1.15.2, but you have tensorflow 2.8.0 which is incompatible.\r\n",
      "tensorflow-io 0.21.0 requires tensorflow<2.7.0,>=2.6.0, but you have tensorflow 2.8.0 which is incompatible.\r\n",
      "tensorflow-io 0.21.0 requires tensorflow-io-gcs-filesystem==0.21.0, but you have tensorflow-io-gcs-filesystem 0.24.0 which is incompatible.\u001b[0m\r\n",
      "Successfully installed keras-2.8.0 libclang-13.0.0 tensorboard-2.8.0 tensorflow-2.8.0 tensorflow-decision-forests-0.2.4 tensorflow-io-gcs-filesystem-0.24.0 tf-estimator-nightly-2.8.0.dev2021122109 wurlitzer-3.0.2\r\n",
      "\u001b[33mWARNING: Running pip as the 'root' user can result in broken permissions and conflicting behaviour with the system package manager. It is recommended to use a virtual environment instead: https://pip.pypa.io/warnings/venv\u001b[0m\r\n"
     ]
    }
   ],
   "source": [
    "!pip install -U tensorflow_decision_forests"
   ]
  },
  {
   "cell_type": "code",
   "execution_count": 2,
   "id": "6b26b3a8",
   "metadata": {
    "execution": {
     "iopub.execute_input": "2022-03-12T11:11:46.659665Z",
     "iopub.status.busy": "2022-03-12T11:11:46.656913Z",
     "iopub.status.idle": "2022-03-12T11:11:50.498365Z",
     "shell.execute_reply": "2022-03-12T11:11:50.497856Z",
     "shell.execute_reply.started": "2022-03-12T10:35:26.319038Z"
    },
    "papermill": {
     "duration": 4.055113,
     "end_time": "2022-03-12T11:11:50.498487",
     "exception": false,
     "start_time": "2022-03-12T11:11:46.443374",
     "status": "completed"
    },
    "tags": []
   },
   "outputs": [],
   "source": [
    "import tensorflow as tf\n",
    "import pandas as pd\n",
    "import numpy as np\n",
    "import urllib\n",
    "import math\n",
    "\n",
    "from tensorflow import keras\n",
    "from tensorflow.keras.layers import *\n",
    "\n",
    "import tensorflow_decision_forests as tfdf\n",
    "\n",
    "\n",
    "from wurlitzer import sys_pipes"
   ]
  },
  {
   "cell_type": "code",
   "execution_count": 3,
   "id": "a3ab8c84",
   "metadata": {
    "execution": {
     "iopub.execute_input": "2022-03-12T11:11:50.921835Z",
     "iopub.status.busy": "2022-03-12T11:11:50.921168Z",
     "iopub.status.idle": "2022-03-12T11:11:50.985692Z",
     "shell.execute_reply": "2022-03-12T11:11:50.986667Z",
     "shell.execute_reply.started": "2022-03-12T10:35:29.024103Z"
    },
    "papermill": {
     "duration": 0.279295,
     "end_time": "2022-03-12T11:11:50.986853",
     "exception": false,
     "start_time": "2022-03-12T11:11:50.707558",
     "status": "completed"
    },
    "tags": []
   },
   "outputs": [
    {
     "data": {
      "text/html": [
       "<div>\n",
       "<style scoped>\n",
       "    .dataframe tbody tr th:only-of-type {\n",
       "        vertical-align: middle;\n",
       "    }\n",
       "\n",
       "    .dataframe tbody tr th {\n",
       "        vertical-align: top;\n",
       "    }\n",
       "\n",
       "    .dataframe thead th {\n",
       "        text-align: right;\n",
       "    }\n",
       "</style>\n",
       "<table border=\"1\" class=\"dataframe\">\n",
       "  <thead>\n",
       "    <tr style=\"text-align: right;\">\n",
       "      <th></th>\n",
       "      <th>Airline</th>\n",
       "      <th>Date_of_Journey</th>\n",
       "      <th>Source</th>\n",
       "      <th>Destination</th>\n",
       "      <th>Route</th>\n",
       "      <th>Dep_Time</th>\n",
       "      <th>Arrival_Time</th>\n",
       "      <th>Duration</th>\n",
       "      <th>Total_Stops</th>\n",
       "      <th>Additional_Info</th>\n",
       "      <th>Price</th>\n",
       "    </tr>\n",
       "  </thead>\n",
       "  <tbody>\n",
       "    <tr>\n",
       "      <th>0</th>\n",
       "      <td>IndiGo</td>\n",
       "      <td>24/03/2019</td>\n",
       "      <td>Banglore</td>\n",
       "      <td>New Delhi</td>\n",
       "      <td>BLR ? DEL</td>\n",
       "      <td>22:20</td>\n",
       "      <td>01:10 22 Mar</td>\n",
       "      <td>2h 50m</td>\n",
       "      <td>non-stop</td>\n",
       "      <td>No info</td>\n",
       "      <td>3897</td>\n",
       "    </tr>\n",
       "    <tr>\n",
       "      <th>1</th>\n",
       "      <td>Air India</td>\n",
       "      <td>1/05/2019</td>\n",
       "      <td>Kolkata</td>\n",
       "      <td>Banglore</td>\n",
       "      <td>CCU ? IXR ? BBI ? BLR</td>\n",
       "      <td>05:50</td>\n",
       "      <td>13:15</td>\n",
       "      <td>7h 25m</td>\n",
       "      <td>2 stops</td>\n",
       "      <td>No info</td>\n",
       "      <td>7662</td>\n",
       "    </tr>\n",
       "    <tr>\n",
       "      <th>2</th>\n",
       "      <td>Jet Airways</td>\n",
       "      <td>9/06/2019</td>\n",
       "      <td>Delhi</td>\n",
       "      <td>Cochin</td>\n",
       "      <td>DEL ? LKO ? BOM ? COK</td>\n",
       "      <td>09:25</td>\n",
       "      <td>04:25 10 Jun</td>\n",
       "      <td>19h</td>\n",
       "      <td>2 stops</td>\n",
       "      <td>No info</td>\n",
       "      <td>13882</td>\n",
       "    </tr>\n",
       "    <tr>\n",
       "      <th>3</th>\n",
       "      <td>IndiGo</td>\n",
       "      <td>12/05/2019</td>\n",
       "      <td>Kolkata</td>\n",
       "      <td>Banglore</td>\n",
       "      <td>CCU ? NAG ? BLR</td>\n",
       "      <td>18:05</td>\n",
       "      <td>23:30</td>\n",
       "      <td>5h 25m</td>\n",
       "      <td>1 stop</td>\n",
       "      <td>No info</td>\n",
       "      <td>6218</td>\n",
       "    </tr>\n",
       "    <tr>\n",
       "      <th>4</th>\n",
       "      <td>IndiGo</td>\n",
       "      <td>01/03/2019</td>\n",
       "      <td>Banglore</td>\n",
       "      <td>New Delhi</td>\n",
       "      <td>BLR ? NAG ? DEL</td>\n",
       "      <td>16:50</td>\n",
       "      <td>21:35</td>\n",
       "      <td>4h 45m</td>\n",
       "      <td>1 stop</td>\n",
       "      <td>No info</td>\n",
       "      <td>13302</td>\n",
       "    </tr>\n",
       "  </tbody>\n",
       "</table>\n",
       "</div>"
      ],
      "text/plain": [
       "       Airline Date_of_Journey    Source Destination                  Route  \\\n",
       "0       IndiGo      24/03/2019  Banglore   New Delhi              BLR ? DEL   \n",
       "1    Air India       1/05/2019   Kolkata    Banglore  CCU ? IXR ? BBI ? BLR   \n",
       "2  Jet Airways       9/06/2019     Delhi      Cochin  DEL ? LKO ? BOM ? COK   \n",
       "3       IndiGo      12/05/2019   Kolkata    Banglore        CCU ? NAG ? BLR   \n",
       "4       IndiGo      01/03/2019  Banglore   New Delhi        BLR ? NAG ? DEL   \n",
       "\n",
       "  Dep_Time  Arrival_Time Duration Total_Stops Additional_Info  Price  \n",
       "0    22:20  01:10 22 Mar   2h 50m    non-stop         No info   3897  \n",
       "1    05:50         13:15   7h 25m     2 stops         No info   7662  \n",
       "2    09:25  04:25 10 Jun      19h     2 stops         No info  13882  \n",
       "3    18:05         23:30   5h 25m      1 stop         No info   6218  \n",
       "4    16:50         21:35   4h 45m      1 stop         No info  13302  "
      ]
     },
     "execution_count": 3,
     "metadata": {},
     "output_type": "execute_result"
    }
   ],
   "source": [
    "df = pd.read_csv(\"../input/flight-fare/Data_Train.csv\")\n",
    "df.head()"
   ]
  },
  {
   "cell_type": "code",
   "execution_count": 4,
   "id": "e8af6db8",
   "metadata": {
    "execution": {
     "iopub.execute_input": "2022-03-12T11:11:51.420834Z",
     "iopub.status.busy": "2022-03-12T11:11:51.420078Z",
     "iopub.status.idle": "2022-03-12T11:11:51.436193Z",
     "shell.execute_reply": "2022-03-12T11:11:51.435770Z",
     "shell.execute_reply.started": "2022-03-12T10:35:29.087703Z"
    },
    "papermill": {
     "duration": 0.234998,
     "end_time": "2022-03-12T11:11:51.436315",
     "exception": false,
     "start_time": "2022-03-12T11:11:51.201317",
     "status": "completed"
    },
    "tags": []
   },
   "outputs": [],
   "source": [
    "df['journey_day'] = pd.to_datetime(df.Date_of_Journey,format='%d/%m/%Y').dt.day\n",
    "df['journey_month'] = pd.to_datetime(df.Date_of_Journey,format='%d/%m/%Y').dt.month\n",
    "df.drop(['Date_of_Journey'],axis=1,inplace=True)"
   ]
  },
  {
   "cell_type": "code",
   "execution_count": 5,
   "id": "e5878d04",
   "metadata": {
    "execution": {
     "iopub.execute_input": "2022-03-12T11:11:51.886575Z",
     "iopub.status.busy": "2022-03-12T11:11:51.884868Z",
     "iopub.status.idle": "2022-03-12T11:11:51.887167Z",
     "shell.execute_reply": "2022-03-12T11:11:51.887611Z",
     "shell.execute_reply.started": "2022-03-12T10:35:29.111158Z"
    },
    "papermill": {
     "duration": 0.242653,
     "end_time": "2022-03-12T11:11:51.887756",
     "exception": false,
     "start_time": "2022-03-12T11:11:51.645103",
     "status": "completed"
    },
    "tags": []
   },
   "outputs": [],
   "source": [
    "duration = list(df[\"Duration\"])\n",
    "\n",
    "for i in range(len(duration)):\n",
    "    if len(duration[i].split()) != 2:    # Check if duration contains only hour or mins\n",
    "        if \"h\" in duration[i]:\n",
    "            duration[i] = duration[i].strip() + \" 0m\"   # Adds 0 minute\n",
    "        else:\n",
    "            duration[i] = \"0h \" + duration[i]           # Adds 0 hour\n",
    "\n",
    "duration_hours = []\n",
    "duration_mins = []\n",
    "for i in range(len(duration)):\n",
    "    duration_hours.append(int(duration[i].split(sep = \"h\")[0]))    # Extract hours from duration\n",
    "    duration_mins.append(int(duration[i].split(sep = \"m\")[0].split()[-1]))  "
   ]
  },
  {
   "cell_type": "code",
   "execution_count": 6,
   "id": "c97a0d98",
   "metadata": {
    "execution": {
     "iopub.execute_input": "2022-03-12T11:11:52.347907Z",
     "iopub.status.busy": "2022-03-12T11:11:52.346494Z",
     "iopub.status.idle": "2022-03-12T11:11:52.357464Z",
     "shell.execute_reply": "2022-03-12T11:11:52.358134Z",
     "shell.execute_reply.started": "2022-03-12T10:35:29.147697Z"
    },
    "papermill": {
     "duration": 0.26378,
     "end_time": "2022-03-12T11:11:52.358363",
     "exception": false,
     "start_time": "2022-03-12T11:11:52.094583",
     "status": "completed"
    },
    "tags": []
   },
   "outputs": [],
   "source": [
    "df['Duration_hrs'] = duration_hours\n",
    "df['Duration_mins'] = duration_mins\n",
    "df.drop(['Duration'],axis=1,inplace=True)"
   ]
  },
  {
   "cell_type": "code",
   "execution_count": 7,
   "id": "17af0e94",
   "metadata": {
    "execution": {
     "iopub.execute_input": "2022-03-12T11:11:53.089843Z",
     "iopub.status.busy": "2022-03-12T11:11:53.088987Z",
     "iopub.status.idle": "2022-03-12T11:11:53.104593Z",
     "shell.execute_reply": "2022-03-12T11:11:53.105737Z",
     "shell.execute_reply.started": "2022-03-12T10:35:29.168943Z"
    },
    "papermill": {
     "duration": 0.397118,
     "end_time": "2022-03-12T11:11:53.105939",
     "exception": false,
     "start_time": "2022-03-12T11:11:52.708821",
     "status": "completed"
    },
    "tags": []
   },
   "outputs": [
    {
     "data": {
      "text/html": [
       "<div>\n",
       "<style scoped>\n",
       "    .dataframe tbody tr th:only-of-type {\n",
       "        vertical-align: middle;\n",
       "    }\n",
       "\n",
       "    .dataframe tbody tr th {\n",
       "        vertical-align: top;\n",
       "    }\n",
       "\n",
       "    .dataframe thead th {\n",
       "        text-align: right;\n",
       "    }\n",
       "</style>\n",
       "<table border=\"1\" class=\"dataframe\">\n",
       "  <thead>\n",
       "    <tr style=\"text-align: right;\">\n",
       "      <th></th>\n",
       "      <th>Airline</th>\n",
       "      <th>Source</th>\n",
       "      <th>Destination</th>\n",
       "      <th>Route</th>\n",
       "      <th>Dep_Time</th>\n",
       "      <th>Arrival_Time</th>\n",
       "      <th>Total_Stops</th>\n",
       "      <th>Additional_Info</th>\n",
       "      <th>Price</th>\n",
       "      <th>journey_day</th>\n",
       "      <th>journey_month</th>\n",
       "      <th>Duration_hrs</th>\n",
       "      <th>Duration_mins</th>\n",
       "    </tr>\n",
       "  </thead>\n",
       "  <tbody>\n",
       "    <tr>\n",
       "      <th>0</th>\n",
       "      <td>IndiGo</td>\n",
       "      <td>Banglore</td>\n",
       "      <td>New Delhi</td>\n",
       "      <td>BLR ? DEL</td>\n",
       "      <td>22:20</td>\n",
       "      <td>01:10 22 Mar</td>\n",
       "      <td>non-stop</td>\n",
       "      <td>No info</td>\n",
       "      <td>3897</td>\n",
       "      <td>24</td>\n",
       "      <td>3</td>\n",
       "      <td>2</td>\n",
       "      <td>50</td>\n",
       "    </tr>\n",
       "    <tr>\n",
       "      <th>1</th>\n",
       "      <td>Air India</td>\n",
       "      <td>Kolkata</td>\n",
       "      <td>Banglore</td>\n",
       "      <td>CCU ? IXR ? BBI ? BLR</td>\n",
       "      <td>05:50</td>\n",
       "      <td>13:15</td>\n",
       "      <td>2 stops</td>\n",
       "      <td>No info</td>\n",
       "      <td>7662</td>\n",
       "      <td>1</td>\n",
       "      <td>5</td>\n",
       "      <td>7</td>\n",
       "      <td>25</td>\n",
       "    </tr>\n",
       "    <tr>\n",
       "      <th>2</th>\n",
       "      <td>Jet Airways</td>\n",
       "      <td>Delhi</td>\n",
       "      <td>Cochin</td>\n",
       "      <td>DEL ? LKO ? BOM ? COK</td>\n",
       "      <td>09:25</td>\n",
       "      <td>04:25 10 Jun</td>\n",
       "      <td>2 stops</td>\n",
       "      <td>No info</td>\n",
       "      <td>13882</td>\n",
       "      <td>9</td>\n",
       "      <td>6</td>\n",
       "      <td>19</td>\n",
       "      <td>0</td>\n",
       "    </tr>\n",
       "    <tr>\n",
       "      <th>3</th>\n",
       "      <td>IndiGo</td>\n",
       "      <td>Kolkata</td>\n",
       "      <td>Banglore</td>\n",
       "      <td>CCU ? NAG ? BLR</td>\n",
       "      <td>18:05</td>\n",
       "      <td>23:30</td>\n",
       "      <td>1 stop</td>\n",
       "      <td>No info</td>\n",
       "      <td>6218</td>\n",
       "      <td>12</td>\n",
       "      <td>5</td>\n",
       "      <td>5</td>\n",
       "      <td>25</td>\n",
       "    </tr>\n",
       "    <tr>\n",
       "      <th>4</th>\n",
       "      <td>IndiGo</td>\n",
       "      <td>Banglore</td>\n",
       "      <td>New Delhi</td>\n",
       "      <td>BLR ? NAG ? DEL</td>\n",
       "      <td>16:50</td>\n",
       "      <td>21:35</td>\n",
       "      <td>1 stop</td>\n",
       "      <td>No info</td>\n",
       "      <td>13302</td>\n",
       "      <td>1</td>\n",
       "      <td>3</td>\n",
       "      <td>4</td>\n",
       "      <td>45</td>\n",
       "    </tr>\n",
       "  </tbody>\n",
       "</table>\n",
       "</div>"
      ],
      "text/plain": [
       "       Airline    Source Destination                  Route Dep_Time  \\\n",
       "0       IndiGo  Banglore   New Delhi              BLR ? DEL    22:20   \n",
       "1    Air India   Kolkata    Banglore  CCU ? IXR ? BBI ? BLR    05:50   \n",
       "2  Jet Airways     Delhi      Cochin  DEL ? LKO ? BOM ? COK    09:25   \n",
       "3       IndiGo   Kolkata    Banglore        CCU ? NAG ? BLR    18:05   \n",
       "4       IndiGo  Banglore   New Delhi        BLR ? NAG ? DEL    16:50   \n",
       "\n",
       "   Arrival_Time Total_Stops Additional_Info  Price  journey_day  \\\n",
       "0  01:10 22 Mar    non-stop         No info   3897           24   \n",
       "1         13:15     2 stops         No info   7662            1   \n",
       "2  04:25 10 Jun     2 stops         No info  13882            9   \n",
       "3         23:30      1 stop         No info   6218           12   \n",
       "4         21:35      1 stop         No info  13302            1   \n",
       "\n",
       "   journey_month  Duration_hrs  Duration_mins  \n",
       "0              3             2             50  \n",
       "1              5             7             25  \n",
       "2              6            19              0  \n",
       "3              5             5             25  \n",
       "4              3             4             45  "
      ]
     },
     "execution_count": 7,
     "metadata": {},
     "output_type": "execute_result"
    }
   ],
   "source": [
    "df.head()"
   ]
  },
  {
   "cell_type": "code",
   "execution_count": 8,
   "id": "c0818c7a",
   "metadata": {
    "execution": {
     "iopub.execute_input": "2022-03-12T11:11:53.760020Z",
     "iopub.status.busy": "2022-03-12T11:11:53.757739Z",
     "iopub.status.idle": "2022-03-12T11:11:53.973118Z",
     "shell.execute_reply": "2022-03-12T11:11:53.974230Z",
     "shell.execute_reply.started": "2022-03-12T10:35:29.186753Z"
    },
    "papermill": {
     "duration": 0.458716,
     "end_time": "2022-03-12T11:11:53.974451",
     "exception": false,
     "start_time": "2022-03-12T11:11:53.515735",
     "status": "completed"
    },
    "tags": []
   },
   "outputs": [],
   "source": [
    "df['dep_hr'] = pd.to_datetime(df['Dep_Time']).dt.hour\n",
    "df['dep_min'] = pd.to_datetime(df['Dep_Time']).dt.hour\n",
    "df.drop(['Dep_Time'],axis=1,inplace=True)\n",
    "\n",
    "df['Arr_hr'] = pd.to_datetime(df['Arrival_Time']).dt.hour\n",
    "df['Arr_min'] = pd.to_datetime(df['Arrival_Time']).dt.hour\n",
    "df.drop(['Arrival_Time'],axis=1,inplace=True)"
   ]
  },
  {
   "cell_type": "code",
   "execution_count": 9,
   "id": "2595f11f",
   "metadata": {
    "execution": {
     "iopub.execute_input": "2022-03-12T11:11:54.443233Z",
     "iopub.status.busy": "2022-03-12T11:11:54.442367Z",
     "iopub.status.idle": "2022-03-12T11:11:54.445687Z",
     "shell.execute_reply": "2022-03-12T11:11:54.445168Z",
     "shell.execute_reply.started": "2022-03-12T10:35:29.407272Z"
    },
    "papermill": {
     "duration": 0.241454,
     "end_time": "2022-03-12T11:11:54.445816",
     "exception": false,
     "start_time": "2022-03-12T11:11:54.204362",
     "status": "completed"
    },
    "tags": []
   },
   "outputs": [],
   "source": [
    "df.drop(['Route','Additional_Info'],axis=1,inplace=True)"
   ]
  },
  {
   "cell_type": "code",
   "execution_count": 10,
   "id": "ac6d9db1",
   "metadata": {
    "execution": {
     "iopub.execute_input": "2022-03-12T11:11:54.917455Z",
     "iopub.status.busy": "2022-03-12T11:11:54.910356Z",
     "iopub.status.idle": "2022-03-12T11:11:54.935267Z",
     "shell.execute_reply": "2022-03-12T11:11:54.934713Z",
     "shell.execute_reply.started": "2022-03-12T10:35:29.414088Z"
    },
    "papermill": {
     "duration": 0.260092,
     "end_time": "2022-03-12T11:11:54.935416",
     "exception": false,
     "start_time": "2022-03-12T11:11:54.675324",
     "status": "completed"
    },
    "tags": []
   },
   "outputs": [],
   "source": [
    "df.replace({'non-stop':0,'1 stop':1,'2 stops':2,'3 stops':3,'4 stops':4},inplace=True)"
   ]
  },
  {
   "cell_type": "code",
   "execution_count": 11,
   "id": "64ee2a0b",
   "metadata": {
    "execution": {
     "iopub.execute_input": "2022-03-12T11:11:55.401191Z",
     "iopub.status.busy": "2022-03-12T11:11:55.400353Z",
     "iopub.status.idle": "2022-03-12T11:11:55.414000Z",
     "shell.execute_reply": "2022-03-12T11:11:55.414454Z",
     "shell.execute_reply.started": "2022-03-12T10:35:29.442529Z"
    },
    "papermill": {
     "duration": 0.25073,
     "end_time": "2022-03-12T11:11:55.414633",
     "exception": false,
     "start_time": "2022-03-12T11:11:55.163903",
     "status": "completed"
    },
    "tags": []
   },
   "outputs": [
    {
     "data": {
      "text/html": [
       "<div>\n",
       "<style scoped>\n",
       "    .dataframe tbody tr th:only-of-type {\n",
       "        vertical-align: middle;\n",
       "    }\n",
       "\n",
       "    .dataframe tbody tr th {\n",
       "        vertical-align: top;\n",
       "    }\n",
       "\n",
       "    .dataframe thead th {\n",
       "        text-align: right;\n",
       "    }\n",
       "</style>\n",
       "<table border=\"1\" class=\"dataframe\">\n",
       "  <thead>\n",
       "    <tr style=\"text-align: right;\">\n",
       "      <th></th>\n",
       "      <th>Airline</th>\n",
       "      <th>Source</th>\n",
       "      <th>Destination</th>\n",
       "      <th>Total_Stops</th>\n",
       "      <th>Price</th>\n",
       "      <th>journey_day</th>\n",
       "      <th>journey_month</th>\n",
       "      <th>Duration_hrs</th>\n",
       "      <th>Duration_mins</th>\n",
       "      <th>dep_hr</th>\n",
       "      <th>dep_min</th>\n",
       "      <th>Arr_hr</th>\n",
       "      <th>Arr_min</th>\n",
       "    </tr>\n",
       "  </thead>\n",
       "  <tbody>\n",
       "    <tr>\n",
       "      <th>0</th>\n",
       "      <td>IndiGo</td>\n",
       "      <td>Banglore</td>\n",
       "      <td>New Delhi</td>\n",
       "      <td>0.0</td>\n",
       "      <td>3897</td>\n",
       "      <td>24</td>\n",
       "      <td>3</td>\n",
       "      <td>2</td>\n",
       "      <td>50</td>\n",
       "      <td>22</td>\n",
       "      <td>22</td>\n",
       "      <td>1</td>\n",
       "      <td>1</td>\n",
       "    </tr>\n",
       "    <tr>\n",
       "      <th>1</th>\n",
       "      <td>Air India</td>\n",
       "      <td>Kolkata</td>\n",
       "      <td>Banglore</td>\n",
       "      <td>2.0</td>\n",
       "      <td>7662</td>\n",
       "      <td>1</td>\n",
       "      <td>5</td>\n",
       "      <td>7</td>\n",
       "      <td>25</td>\n",
       "      <td>5</td>\n",
       "      <td>5</td>\n",
       "      <td>13</td>\n",
       "      <td>13</td>\n",
       "    </tr>\n",
       "  </tbody>\n",
       "</table>\n",
       "</div>"
      ],
      "text/plain": [
       "     Airline    Source Destination  Total_Stops  Price  journey_day  \\\n",
       "0     IndiGo  Banglore   New Delhi          0.0   3897           24   \n",
       "1  Air India   Kolkata    Banglore          2.0   7662            1   \n",
       "\n",
       "   journey_month  Duration_hrs  Duration_mins  dep_hr  dep_min  Arr_hr  \\\n",
       "0              3             2             50      22       22       1   \n",
       "1              5             7             25       5        5      13   \n",
       "\n",
       "   Arr_min  \n",
       "0        1  \n",
       "1       13  "
      ]
     },
     "execution_count": 11,
     "metadata": {},
     "output_type": "execute_result"
    }
   ],
   "source": [
    "df.head(2)"
   ]
  },
  {
   "cell_type": "code",
   "execution_count": 12,
   "id": "f6b87d00",
   "metadata": {
    "execution": {
     "iopub.execute_input": "2022-03-12T11:11:55.862729Z",
     "iopub.status.busy": "2022-03-12T11:11:55.858307Z",
     "iopub.status.idle": "2022-03-12T11:11:55.876007Z",
     "shell.execute_reply": "2022-03-12T11:11:55.876386Z",
     "shell.execute_reply.started": "2022-03-12T10:35:29.459032Z"
    },
    "papermill": {
     "duration": 0.233629,
     "end_time": "2022-03-12T11:11:55.876546",
     "exception": false,
     "start_time": "2022-03-12T11:11:55.642917",
     "status": "completed"
    },
    "tags": []
   },
   "outputs": [
    {
     "name": "stdout",
     "output_type": "stream",
     "text": [
      "<class 'pandas.core.frame.DataFrame'>\n",
      "RangeIndex: 10683 entries, 0 to 10682\n",
      "Data columns (total 13 columns):\n",
      " #   Column         Non-Null Count  Dtype  \n",
      "---  ------         --------------  -----  \n",
      " 0   Airline        10683 non-null  object \n",
      " 1   Source         10683 non-null  object \n",
      " 2   Destination    10683 non-null  object \n",
      " 3   Total_Stops    10682 non-null  float64\n",
      " 4   Price          10683 non-null  int64  \n",
      " 5   journey_day    10683 non-null  int64  \n",
      " 6   journey_month  10683 non-null  int64  \n",
      " 7   Duration_hrs   10683 non-null  int64  \n",
      " 8   Duration_mins  10683 non-null  int64  \n",
      " 9   dep_hr         10683 non-null  int64  \n",
      " 10  dep_min        10683 non-null  int64  \n",
      " 11  Arr_hr         10683 non-null  int64  \n",
      " 12  Arr_min        10683 non-null  int64  \n",
      "dtypes: float64(1), int64(9), object(3)\n",
      "memory usage: 1.1+ MB\n"
     ]
    }
   ],
   "source": [
    "df.info()"
   ]
  },
  {
   "cell_type": "code",
   "execution_count": 13,
   "id": "2042cd5b",
   "metadata": {
    "execution": {
     "iopub.execute_input": "2022-03-12T11:11:56.449194Z",
     "iopub.status.busy": "2022-03-12T11:11:56.448324Z",
     "iopub.status.idle": "2022-03-12T11:11:56.450164Z",
     "shell.execute_reply": "2022-03-12T11:11:56.449723Z",
     "shell.execute_reply.started": "2022-03-12T10:35:29.481430Z"
    },
    "papermill": {
     "duration": 0.365919,
     "end_time": "2022-03-12T11:11:56.450285",
     "exception": false,
     "start_time": "2022-03-12T11:11:56.084366",
     "status": "completed"
    },
    "tags": []
   },
   "outputs": [],
   "source": [
    "label = \"Price\""
   ]
  },
  {
   "cell_type": "code",
   "execution_count": 14,
   "id": "caed214e",
   "metadata": {
    "execution": {
     "iopub.execute_input": "2022-03-12T11:11:56.874852Z",
     "iopub.status.busy": "2022-03-12T11:11:56.873991Z",
     "iopub.status.idle": "2022-03-12T11:11:56.879324Z",
     "shell.execute_reply": "2022-03-12T11:11:56.878887Z",
     "shell.execute_reply.started": "2022-03-12T10:35:29.488864Z"
    },
    "papermill": {
     "duration": 0.221293,
     "end_time": "2022-03-12T11:11:56.879440",
     "exception": false,
     "start_time": "2022-03-12T11:11:56.658147",
     "status": "completed"
    },
    "tags": []
   },
   "outputs": [
    {
     "name": "stdout",
     "output_type": "stream",
     "text": [
      "7415 examples in training, 3268 examples for testing.\n"
     ]
    }
   ],
   "source": [
    "def split_dataset(dataset, test_ratio=0.30):\n",
    "    test_indices = np.random.rand(len(dataset)) < test_ratio\n",
    "    return dataset[~test_indices], dataset[test_indices]\n",
    "\n",
    "\n",
    "train_ds_pd, test_ds_pd = split_dataset(df)\n",
    "print(\"{} examples in training, {} examples for testing.\".format(\n",
    "    len(train_ds_pd), len(test_ds_pd)))"
   ]
  },
  {
   "cell_type": "code",
   "execution_count": 15,
   "id": "93fc9ca6",
   "metadata": {
    "execution": {
     "iopub.execute_input": "2022-03-12T11:11:57.303127Z",
     "iopub.status.busy": "2022-03-12T11:11:57.302325Z",
     "iopub.status.idle": "2022-03-12T11:11:57.507583Z",
     "shell.execute_reply": "2022-03-12T11:11:57.508051Z",
     "shell.execute_reply.started": "2022-03-12T10:35:29.502397Z"
    },
    "papermill": {
     "duration": 0.422571,
     "end_time": "2022-03-12T11:11:57.508200",
     "exception": false,
     "start_time": "2022-03-12T11:11:57.085629",
     "status": "completed"
    },
    "tags": []
   },
   "outputs": [
    {
     "name": "stderr",
     "output_type": "stream",
     "text": [
      "/opt/conda/lib/python3.7/site-packages/tensorflow_decision_forests/keras/core.py:2036: FutureWarning: In a future version of pandas all arguments of DataFrame.drop except for the argument 'labels' will be keyword-only\n",
      "  features_dataframe = dataframe.drop(label, 1)\n",
      "2022-03-12 11:11:57.443575: W tensorflow/stream_executor/platform/default/dso_loader.cc:64] Could not load dynamic library 'libcusolver.so.11'; dlerror: libcusolver.so.11: cannot open shared object file: No such file or directory; LD_LIBRARY_PATH: /usr/local/cuda/lib64:/usr/local/cuda/lib:/usr/local/lib/x86_64-linux-gnu:/usr/local/nvidia/lib:/usr/local/nvidia/lib64:/usr/local/nvidia/lib:/usr/local/nvidia/lib64\n",
      "2022-03-12 11:11:57.469975: W tensorflow/core/common_runtime/gpu/gpu_device.cc:1850] Cannot dlopen some GPU libraries. Please make sure the missing libraries mentioned above are installed properly if you would like to use GPU. Follow the guide at https://www.tensorflow.org/install/gpu for how to download and setup the required libraries for your platform.\n",
      "Skipping registering GPU devices...\n"
     ]
    }
   ],
   "source": [
    "train_ds = tfdf.keras.pd_dataframe_to_tf_dataset(train_ds_pd, label, tfdf.keras.Task.REGRESSION)\n",
    "test_ds = tfdf.keras.pd_dataframe_to_tf_dataset(test_ds_pd, label, tfdf.keras.Task.REGRESSION)"
   ]
  },
  {
   "cell_type": "code",
   "execution_count": 16,
   "id": "c7c273e3",
   "metadata": {
    "execution": {
     "iopub.execute_input": "2022-03-12T11:11:57.975433Z",
     "iopub.status.busy": "2022-03-12T11:11:57.974896Z",
     "iopub.status.idle": "2022-03-12T11:12:08.145929Z",
     "shell.execute_reply": "2022-03-12T11:12:08.146431Z",
     "shell.execute_reply.started": "2022-03-12T10:35:29.572228Z"
    },
    "papermill": {
     "duration": 10.393042,
     "end_time": "2022-03-12T11:12:08.146628",
     "exception": false,
     "start_time": "2022-03-12T11:11:57.753586",
     "status": "completed"
    },
    "tags": []
   },
   "outputs": [
    {
     "name": "stdout",
     "output_type": "stream",
     "text": [
      "Use /tmp/tmph3nsgv4e as temporary training directory\n",
      "Starting reading the dataset\n",
      "8/8 [==============================] - ETA: 0s \n",
      "Dataset read in 0:00:04.601975\n",
      "Training model\n",
      "Model trained in 0:00:03.297996\n",
      "Compiling model\n"
     ]
    },
    {
     "name": "stderr",
     "output_type": "stream",
     "text": [
      "[INFO kernel.cc:1153] Loading model from path\n",
      "[INFO abstract_model.cc:1063] Engine \"GradientBoostedTreesOptPred\" built\n",
      "[INFO kernel.cc:1001] Use fast generic engine\n"
     ]
    },
    {
     "name": "stdout",
     "output_type": "stream",
     "text": [
      "8/8 [==============================] - 8s 487ms/step\n",
      "WARNING: AutoGraph could not transform <function simple_ml_inference_op_with_handle at 0x7eff16484710> and will run it as-is.\n",
      "Please report this to the TensorFlow team. When filing the bug, set the verbosity to 10 (on Linux, `export AUTOGRAPH_VERBOSITY=10`) and attach the full output.\n",
      "Cause: could not get source code\n",
      "To silence this warning, decorate the function with @tf.autograph.experimental.do_not_convert\n"
     ]
    }
   ],
   "source": [
    "model_rf = tfdf.keras.GradientBoostedTreesModel(task=tfdf.keras.Task.REGRESSION,num_trees=500,max_depth=8,\n",
    "                                               maximum_training_duration_seconds=100.0,verbose=1)\n",
    "model_rf.compile(metrics=[\"mse\", \"mape\"])\n",
    "with sys_pipes():\n",
    "    model_rf.fit(x=train_ds)"
   ]
  },
  {
   "cell_type": "code",
   "execution_count": 17,
   "id": "b07a5341",
   "metadata": {
    "execution": {
     "iopub.execute_input": "2022-03-12T11:12:08.580091Z",
     "iopub.status.busy": "2022-03-12T11:12:08.579255Z",
     "iopub.status.idle": "2022-03-12T11:12:09.026453Z",
     "shell.execute_reply": "2022-03-12T11:12:09.026963Z",
     "shell.execute_reply.started": "2022-03-12T10:35:41.102276Z"
    },
    "papermill": {
     "duration": 0.665619,
     "end_time": "2022-03-12T11:12:09.027193",
     "exception": false,
     "start_time": "2022-03-12T11:12:08.361574",
     "status": "completed"
    },
    "tags": []
   },
   "outputs": [
    {
     "name": "stdout",
     "output_type": "stream",
     "text": [
      "4/4 [==============================] - 0s 9ms/step - loss: 0.0000e+00 - mse: 4263760.0000 - mape: 13.7928\n",
      "{'loss': 0.0, 'mse': 4263760.0, 'mape': 13.792808532714844}\n",
      "MSE: 4263760.00\n",
      "RMSE: 2064.89\n",
      "MAPE: 13.79\n"
     ]
    }
   ],
   "source": [
    "evaluation = model_rf.evaluate(test_ds, return_dict=True)\n",
    "\n",
    "print(evaluation)\n",
    "print(f\"MSE: {evaluation['mse']:.2f}\")\n",
    "print(f\"RMSE: {math.sqrt(evaluation['mse']):.2f}\")\n",
    "print(f\"MAPE: {evaluation['mape']:.2f}\")"
   ]
  },
  {
   "cell_type": "code",
   "execution_count": 18,
   "id": "80dd5417",
   "metadata": {
    "execution": {
     "iopub.execute_input": "2022-03-12T11:12:09.683127Z",
     "iopub.status.busy": "2022-03-12T11:12:09.682278Z",
     "iopub.status.idle": "2022-03-12T11:12:09.919053Z",
     "shell.execute_reply": "2022-03-12T11:12:09.919491Z",
     "shell.execute_reply.started": "2022-03-12T10:35:41.727652Z"
    },
    "papermill": {
     "duration": 0.61255,
     "end_time": "2022-03-12T11:12:09.919669",
     "exception": false,
     "start_time": "2022-03-12T11:12:09.307119",
     "status": "completed"
    },
    "tags": []
   },
   "outputs": [
    {
     "name": "stdout",
     "output_type": "stream",
     "text": [
      "The r2_square score is 0.81003\n"
     ]
    }
   ],
   "source": [
    "predictions = model_rf.predict(test_ds)\n",
    "y_true      = test_ds_pd[\"Price\"]\n",
    "\n",
    "from sklearn.metrics import r2_score\n",
    "r2 = r2_score(y_true, predictions)\n",
    "print(\"The r2_square score is %.5f\" % r2 )"
   ]
  },
  {
   "cell_type": "code",
   "execution_count": 19,
   "id": "601053c6",
   "metadata": {
    "execution": {
     "iopub.execute_input": "2022-03-12T11:12:10.359507Z",
     "iopub.status.busy": "2022-03-12T11:12:10.358581Z",
     "iopub.status.idle": "2022-03-12T11:12:10.432442Z",
     "shell.execute_reply": "2022-03-12T11:12:10.431973Z",
     "shell.execute_reply.started": "2022-03-12T10:42:48.396801Z"
    },
    "papermill": {
     "duration": 0.299327,
     "end_time": "2022-03-12T11:12:10.432596",
     "exception": false,
     "start_time": "2022-03-12T11:12:10.133269",
     "status": "completed"
    },
    "tags": []
   },
   "outputs": [],
   "source": [
    " with open(\"plot.html\", \"w\") as f:\n",
    "    f.write(tfdf.model_plotter.plot_model(model_rf))"
   ]
  },
  {
   "cell_type": "code",
   "execution_count": 20,
   "id": "57e231e4",
   "metadata": {
    "execution": {
     "iopub.execute_input": "2022-03-12T11:12:10.865356Z",
     "iopub.status.busy": "2022-03-12T11:12:10.864459Z",
     "iopub.status.idle": "2022-03-12T11:12:10.868721Z",
     "shell.execute_reply": "2022-03-12T11:12:10.869101Z",
     "shell.execute_reply.started": "2022-03-12T10:35:41.958961Z"
    },
    "papermill": {
     "duration": 0.224907,
     "end_time": "2022-03-12T11:12:10.869242",
     "exception": false,
     "start_time": "2022-03-12T11:12:10.644335",
     "status": "completed"
    },
    "tags": []
   },
   "outputs": [
    {
     "name": "stdout",
     "output_type": "stream",
     "text": [
      "103\n"
     ]
    }
   ],
   "source": [
    "inspector = model_rf.make_inspector()\n",
    "print(inspector.num_trees())"
   ]
  },
  {
   "cell_type": "code",
   "execution_count": 21,
   "id": "5448861a",
   "metadata": {
    "execution": {
     "iopub.execute_input": "2022-03-12T11:12:11.301101Z",
     "iopub.status.busy": "2022-03-12T11:12:11.300188Z",
     "iopub.status.idle": "2022-03-12T11:12:11.303490Z",
     "shell.execute_reply": "2022-03-12T11:12:11.303913Z",
     "shell.execute_reply.started": "2022-03-12T10:35:41.968044Z"
    },
    "papermill": {
     "duration": 0.22348,
     "end_time": "2022-03-12T11:12:11.304050",
     "exception": false,
     "start_time": "2022-03-12T11:12:11.080570",
     "status": "completed"
    },
    "tags": []
   },
   "outputs": [
    {
     "data": {
      "text/plain": [
       "[\"Airline\" (4; #0),\n",
       " \"Arr_hr\" (1; #1),\n",
       " \"Arr_min\" (1; #2),\n",
       " \"Destination\" (4; #3),\n",
       " \"Duration_hrs\" (1; #4),\n",
       " \"Duration_mins\" (1; #5),\n",
       " \"Source\" (4; #6),\n",
       " \"Total_Stops\" (1; #7),\n",
       " \"dep_hr\" (1; #8),\n",
       " \"dep_min\" (1; #9),\n",
       " \"journey_day\" (1; #10),\n",
       " \"journey_month\" (1; #11)]"
      ]
     },
     "execution_count": 21,
     "metadata": {},
     "output_type": "execute_result"
    }
   ],
   "source": [
    "inspector.features()"
   ]
  },
  {
   "cell_type": "code",
   "execution_count": 22,
   "id": "bd409519",
   "metadata": {
    "execution": {
     "iopub.execute_input": "2022-03-12T11:12:11.773001Z",
     "iopub.status.busy": "2022-03-12T11:12:11.771606Z",
     "iopub.status.idle": "2022-03-12T11:12:11.775403Z",
     "shell.execute_reply": "2022-03-12T11:12:11.774970Z",
     "shell.execute_reply.started": "2022-03-12T10:35:41.980499Z"
    },
    "papermill": {
     "duration": 0.251978,
     "end_time": "2022-03-12T11:12:11.775516",
     "exception": false,
     "start_time": "2022-03-12T11:12:11.523538",
     "status": "completed"
    },
    "tags": []
   },
   "outputs": [
    {
     "data": {
      "text/plain": [
       "{'SUM_SCORE': [(\"Duration_hrs\" (1; #4), 317593418625.1678),\n",
       "  (\"Airline\" (4; #0), 120601786974.48021),\n",
       "  (\"journey_month\" (1; #11), 76463772113.70587),\n",
       "  (\"journey_day\" (1; #10), 70396109025.6493),\n",
       "  (\"Total_Stops\" (1; #7), 19037286451.994385),\n",
       "  (\"Destination\" (4; #3), 18072398084.64113),\n",
       "  (\"Duration_mins\" (1; #5), 13734466117.29792),\n",
       "  (\"Source\" (4; #6), 10774617008.37079),\n",
       "  (\"Arr_min\" (1; #2), 9796338003.015808),\n",
       "  (\"Arr_hr\" (1; #1), 9146087857.662254),\n",
       "  (\"dep_min\" (1; #9), 6849243669.327583),\n",
       "  (\"dep_hr\" (1; #8), 6614811544.105774)],\n",
       " 'NUM_NODES': [(\"journey_day\" (1; #10), 1231.0),\n",
       "  (\"Airline\" (4; #0), 972.0),\n",
       "  (\"Duration_mins\" (1; #5), 900.0),\n",
       "  (\"journey_month\" (1; #11), 836.0),\n",
       "  (\"Duration_hrs\" (1; #4), 812.0),\n",
       "  (\"Arr_hr\" (1; #1), 468.0),\n",
       "  (\"Arr_min\" (1; #2), 427.0),\n",
       "  (\"dep_min\" (1; #9), 418.0),\n",
       "  (\"dep_hr\" (1; #8), 407.0),\n",
       "  (\"Destination\" (4; #3), 387.0),\n",
       "  (\"Total_Stops\" (1; #7), 272.0),\n",
       "  (\"Source\" (4; #6), 261.0)],\n",
       " 'NUM_AS_ROOT': [(\"Duration_hrs\" (1; #4), 37.0),\n",
       "  (\"Airline\" (4; #0), 32.0),\n",
       "  (\"dep_hr\" (1; #8), 9.0),\n",
       "  (\"journey_day\" (1; #10), 9.0),\n",
       "  (\"dep_min\" (1; #9), 7.0),\n",
       "  (\"Total_Stops\" (1; #7), 4.0),\n",
       "  (\"Arr_hr\" (1; #1), 2.0),\n",
       "  (\"Duration_mins\" (1; #5), 2.0),\n",
       "  (\"Arr_min\" (1; #2), 1.0)],\n",
       " 'MEAN_MIN_DEPTH': [(\"__LABEL\" (1; #12), 6.682990687905611),\n",
       "  (\"Source\" (4; #6), 6.327132736022932),\n",
       "  (\"Arr_min\" (1; #2), 5.931715321547569),\n",
       "  (\"Arr_hr\" (1; #1), 5.667850487677122),\n",
       "  (\"Destination\" (4; #3), 5.569140582232354),\n",
       "  (\"dep_min\" (1; #9), 5.550043932488155),\n",
       "  (\"Total_Stops\" (1; #7), 5.480472470746984),\n",
       "  (\"dep_hr\" (1; #8), 5.27292757509505),\n",
       "  (\"Duration_mins\" (1; #5), 5.2512512662490956),\n",
       "  (\"journey_month\" (1; #11), 4.93454699347462),\n",
       "  (\"journey_day\" (1; #10), 4.181908745043053),\n",
       "  (\"Duration_hrs\" (1; #4), 2.8294104128074875),\n",
       "  (\"Airline\" (4; #0), 1.8687126153092346)]}"
      ]
     },
     "execution_count": 22,
     "metadata": {},
     "output_type": "execute_result"
    }
   ],
   "source": [
    "inspector.variable_importances()"
   ]
  },
  {
   "cell_type": "code",
   "execution_count": null,
   "id": "1b976bc6",
   "metadata": {
    "papermill": {
     "duration": 0.216839,
     "end_time": "2022-03-12T11:12:12.214238",
     "exception": false,
     "start_time": "2022-03-12T11:12:11.997399",
     "status": "completed"
    },
    "tags": []
   },
   "outputs": [],
   "source": []
  }
 ],
 "metadata": {
  "kernelspec": {
   "display_name": "Python 3",
   "language": "python",
   "name": "python3"
  },
  "language_info": {
   "codemirror_mode": {
    "name": "ipython",
    "version": 3
   },
   "file_extension": ".py",
   "mimetype": "text/x-python",
   "name": "python",
   "nbconvert_exporter": "python",
   "pygments_lexer": "ipython3",
   "version": "3.7.12"
  },
  "papermill": {
   "default_parameters": {},
   "duration": 104.480925,
   "end_time": "2022-03-12T11:12:15.822775",
   "environment_variables": {},
   "exception": null,
   "input_path": "__notebook__.ipynb",
   "output_path": "__notebook__.ipynb",
   "parameters": {},
   "start_time": "2022-03-12T11:10:31.341850",
   "version": "2.3.3"
  }
 },
 "nbformat": 4,
 "nbformat_minor": 5
}
