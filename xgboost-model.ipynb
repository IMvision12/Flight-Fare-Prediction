{
 "cells": [
  {
   "cell_type": "code",
   "execution_count": 1,
   "id": "6738d486",
   "metadata": {
    "execution": {
     "iopub.execute_input": "2022-04-19T12:02:06.809926Z",
     "iopub.status.busy": "2022-04-19T12:02:06.809127Z",
     "iopub.status.idle": "2022-04-19T12:02:07.625893Z",
     "shell.execute_reply": "2022-04-19T12:02:07.624920Z",
     "shell.execute_reply.started": "2022-04-19T11:36:57.613634Z"
    },
    "papermill": {
     "duration": 0.880162,
     "end_time": "2022-04-19T12:02:07.626062",
     "exception": false,
     "start_time": "2022-04-19T12:02:06.745900",
     "status": "completed"
    },
    "tags": []
   },
   "outputs": [],
   "source": [
    "import pandas as pd\n",
    "import numpy as np\n",
    "import matplotlib.pyplot as plt\n",
    "import seaborn as sns\n",
    "import os\n",
    "\n",
    "import warnings\n",
    "warnings.filterwarnings('ignore')"
   ]
  },
  {
   "cell_type": "code",
   "execution_count": 2,
   "id": "a3a67d46",
   "metadata": {
    "execution": {
     "iopub.execute_input": "2022-04-19T12:02:07.731344Z",
     "iopub.status.busy": "2022-04-19T12:02:07.730523Z",
     "iopub.status.idle": "2022-04-19T12:02:17.509618Z",
     "shell.execute_reply": "2022-04-19T12:02:17.509120Z",
     "shell.execute_reply.started": "2022-04-19T11:36:58.588768Z"
    },
    "papermill": {
     "duration": 9.833257,
     "end_time": "2022-04-19T12:02:17.509758",
     "exception": false,
     "start_time": "2022-04-19T12:02:07.676501",
     "status": "completed"
    },
    "tags": []
   },
   "outputs": [
    {
     "name": "stdout",
     "output_type": "stream",
     "text": [
      "Collecting openpyxl\r\n",
      "  Downloading openpyxl-3.0.9-py2.py3-none-any.whl (242 kB)\r\n",
      "     |████████████████████████████████| 242 kB 928 kB/s            \r\n",
      "\u001b[?25hCollecting et-xmlfile\r\n",
      "  Downloading et_xmlfile-1.1.0-py3-none-any.whl (4.7 kB)\r\n",
      "Installing collected packages: et-xmlfile, openpyxl\r\n",
      "Successfully installed et-xmlfile-1.1.0 openpyxl-3.0.9\r\n",
      "\u001b[33mWARNING: Running pip as the 'root' user can result in broken permissions and conflicting behaviour with the system package manager. It is recommended to use a virtual environment instead: https://pip.pypa.io/warnings/venv\u001b[0m\r\n"
     ]
    }
   ],
   "source": [
    "!pip install openpyxl"
   ]
  },
  {
   "cell_type": "code",
   "execution_count": 3,
   "id": "d73dc39c",
   "metadata": {
    "execution": {
     "iopub.execute_input": "2022-04-19T12:02:17.622881Z",
     "iopub.status.busy": "2022-04-19T12:02:17.622302Z",
     "iopub.status.idle": "2022-04-19T12:02:20.016425Z",
     "shell.execute_reply": "2022-04-19T12:02:20.016883Z",
     "shell.execute_reply.started": "2022-04-19T11:37:09.547023Z"
    },
    "papermill": {
     "duration": 2.454072,
     "end_time": "2022-04-19T12:02:20.017042",
     "exception": false,
     "start_time": "2022-04-19T12:02:17.562970",
     "status": "completed"
    },
    "tags": []
   },
   "outputs": [
    {
     "data": {
      "text/html": [
       "<div>\n",
       "<style scoped>\n",
       "    .dataframe tbody tr th:only-of-type {\n",
       "        vertical-align: middle;\n",
       "    }\n",
       "\n",
       "    .dataframe tbody tr th {\n",
       "        vertical-align: top;\n",
       "    }\n",
       "\n",
       "    .dataframe thead th {\n",
       "        text-align: right;\n",
       "    }\n",
       "</style>\n",
       "<table border=\"1\" class=\"dataframe\">\n",
       "  <thead>\n",
       "    <tr style=\"text-align: right;\">\n",
       "      <th></th>\n",
       "      <th>Airline</th>\n",
       "      <th>Date_of_Journey</th>\n",
       "      <th>Source</th>\n",
       "      <th>Destination</th>\n",
       "      <th>Route</th>\n",
       "      <th>Dep_Time</th>\n",
       "      <th>Arrival_Time</th>\n",
       "      <th>Duration</th>\n",
       "      <th>Total_Stops</th>\n",
       "      <th>Additional_Info</th>\n",
       "      <th>Price</th>\n",
       "    </tr>\n",
       "  </thead>\n",
       "  <tbody>\n",
       "    <tr>\n",
       "      <th>0</th>\n",
       "      <td>IndiGo</td>\n",
       "      <td>24/03/2019</td>\n",
       "      <td>Banglore</td>\n",
       "      <td>New Delhi</td>\n",
       "      <td>BLR → DEL</td>\n",
       "      <td>22:20</td>\n",
       "      <td>01:10 22 Mar</td>\n",
       "      <td>2h 50m</td>\n",
       "      <td>non-stop</td>\n",
       "      <td>No info</td>\n",
       "      <td>3897</td>\n",
       "    </tr>\n",
       "    <tr>\n",
       "      <th>1</th>\n",
       "      <td>Air India</td>\n",
       "      <td>1/05/2019</td>\n",
       "      <td>Kolkata</td>\n",
       "      <td>Banglore</td>\n",
       "      <td>CCU → IXR → BBI → BLR</td>\n",
       "      <td>05:50</td>\n",
       "      <td>13:15</td>\n",
       "      <td>7h 25m</td>\n",
       "      <td>2 stops</td>\n",
       "      <td>No info</td>\n",
       "      <td>7662</td>\n",
       "    </tr>\n",
       "    <tr>\n",
       "      <th>2</th>\n",
       "      <td>Jet Airways</td>\n",
       "      <td>9/06/2019</td>\n",
       "      <td>Delhi</td>\n",
       "      <td>Cochin</td>\n",
       "      <td>DEL → LKO → BOM → COK</td>\n",
       "      <td>09:25</td>\n",
       "      <td>04:25 10 Jun</td>\n",
       "      <td>19h</td>\n",
       "      <td>2 stops</td>\n",
       "      <td>No info</td>\n",
       "      <td>13882</td>\n",
       "    </tr>\n",
       "    <tr>\n",
       "      <th>3</th>\n",
       "      <td>IndiGo</td>\n",
       "      <td>12/05/2019</td>\n",
       "      <td>Kolkata</td>\n",
       "      <td>Banglore</td>\n",
       "      <td>CCU → NAG → BLR</td>\n",
       "      <td>18:05</td>\n",
       "      <td>23:30</td>\n",
       "      <td>5h 25m</td>\n",
       "      <td>1 stop</td>\n",
       "      <td>No info</td>\n",
       "      <td>6218</td>\n",
       "    </tr>\n",
       "    <tr>\n",
       "      <th>4</th>\n",
       "      <td>IndiGo</td>\n",
       "      <td>01/03/2019</td>\n",
       "      <td>Banglore</td>\n",
       "      <td>New Delhi</td>\n",
       "      <td>BLR → NAG → DEL</td>\n",
       "      <td>16:50</td>\n",
       "      <td>21:35</td>\n",
       "      <td>4h 45m</td>\n",
       "      <td>1 stop</td>\n",
       "      <td>No info</td>\n",
       "      <td>13302</td>\n",
       "    </tr>\n",
       "  </tbody>\n",
       "</table>\n",
       "</div>"
      ],
      "text/plain": [
       "       Airline Date_of_Journey    Source Destination                  Route  \\\n",
       "0       IndiGo      24/03/2019  Banglore   New Delhi              BLR → DEL   \n",
       "1    Air India       1/05/2019   Kolkata    Banglore  CCU → IXR → BBI → BLR   \n",
       "2  Jet Airways       9/06/2019     Delhi      Cochin  DEL → LKO → BOM → COK   \n",
       "3       IndiGo      12/05/2019   Kolkata    Banglore        CCU → NAG → BLR   \n",
       "4       IndiGo      01/03/2019  Banglore   New Delhi        BLR → NAG → DEL   \n",
       "\n",
       "  Dep_Time  Arrival_Time Duration Total_Stops Additional_Info  Price  \n",
       "0    22:20  01:10 22 Mar   2h 50m    non-stop         No info   3897  \n",
       "1    05:50         13:15   7h 25m     2 stops         No info   7662  \n",
       "2    09:25  04:25 10 Jun      19h     2 stops         No info  13882  \n",
       "3    18:05         23:30   5h 25m      1 stop         No info   6218  \n",
       "4    16:50         21:35   4h 45m      1 stop         No info  13302  "
      ]
     },
     "execution_count": 3,
     "metadata": {},
     "output_type": "execute_result"
    }
   ],
   "source": [
    "df = pd.read_excel(\"../input/flight-fare-prediction-mh/Data_Train.xlsx\")\n",
    "pd.set_option('display.max_columns',None)\n",
    "df.head()"
   ]
  },
  {
   "cell_type": "code",
   "execution_count": 4,
   "id": "e9c2773f",
   "metadata": {
    "execution": {
     "iopub.execute_input": "2022-04-19T12:02:20.145371Z",
     "iopub.status.busy": "2022-04-19T12:02:20.144394Z",
     "iopub.status.idle": "2022-04-19T12:02:20.164101Z",
     "shell.execute_reply": "2022-04-19T12:02:20.164825Z",
     "shell.execute_reply.started": "2022-04-19T11:37:11.685299Z"
    },
    "papermill": {
     "duration": 0.09499,
     "end_time": "2022-04-19T12:02:20.165038",
     "exception": false,
     "start_time": "2022-04-19T12:02:20.070048",
     "status": "completed"
    },
    "tags": []
   },
   "outputs": [
    {
     "name": "stdout",
     "output_type": "stream",
     "text": [
      "<class 'pandas.core.frame.DataFrame'>\n",
      "RangeIndex: 10683 entries, 0 to 10682\n",
      "Data columns (total 11 columns):\n",
      " #   Column           Non-Null Count  Dtype \n",
      "---  ------           --------------  ----- \n",
      " 0   Airline          10683 non-null  object\n",
      " 1   Date_of_Journey  10683 non-null  object\n",
      " 2   Source           10683 non-null  object\n",
      " 3   Destination      10683 non-null  object\n",
      " 4   Route            10682 non-null  object\n",
      " 5   Dep_Time         10683 non-null  object\n",
      " 6   Arrival_Time     10683 non-null  object\n",
      " 7   Duration         10683 non-null  object\n",
      " 8   Total_Stops      10682 non-null  object\n",
      " 9   Additional_Info  10683 non-null  object\n",
      " 10  Price            10683 non-null  int64 \n",
      "dtypes: int64(1), object(10)\n",
      "memory usage: 918.2+ KB\n"
     ]
    }
   ],
   "source": [
    "df.info()"
   ]
  },
  {
   "cell_type": "code",
   "execution_count": 5,
   "id": "039700e9",
   "metadata": {
    "execution": {
     "iopub.execute_input": "2022-04-19T12:02:20.295342Z",
     "iopub.status.busy": "2022-04-19T12:02:20.294580Z",
     "iopub.status.idle": "2022-04-19T12:02:20.297656Z",
     "shell.execute_reply": "2022-04-19T12:02:20.298110Z",
     "shell.execute_reply.started": "2022-04-19T11:37:11.717613Z"
    },
    "papermill": {
     "duration": 0.06979,
     "end_time": "2022-04-19T12:02:20.298255",
     "exception": false,
     "start_time": "2022-04-19T12:02:20.228465",
     "status": "completed"
    },
    "tags": []
   },
   "outputs": [
    {
     "data": {
      "text/plain": [
       "(10683, 11)"
      ]
     },
     "execution_count": 5,
     "metadata": {},
     "output_type": "execute_result"
    }
   ],
   "source": [
    "df.shape"
   ]
  },
  {
   "cell_type": "code",
   "execution_count": 6,
   "id": "9904d371",
   "metadata": {
    "execution": {
     "iopub.execute_input": "2022-04-19T12:02:20.435750Z",
     "iopub.status.busy": "2022-04-19T12:02:20.423567Z",
     "iopub.status.idle": "2022-04-19T12:02:20.442122Z",
     "shell.execute_reply": "2022-04-19T12:02:20.442607Z",
     "shell.execute_reply.started": "2022-04-19T11:37:11.725307Z"
    },
    "papermill": {
     "duration": 0.083967,
     "end_time": "2022-04-19T12:02:20.442770",
     "exception": false,
     "start_time": "2022-04-19T12:02:20.358803",
     "status": "completed"
    },
    "tags": []
   },
   "outputs": [
    {
     "data": {
      "text/plain": [
       "Airline            0\n",
       "Date_of_Journey    0\n",
       "Source             0\n",
       "Destination        0\n",
       "Route              1\n",
       "Dep_Time           0\n",
       "Arrival_Time       0\n",
       "Duration           0\n",
       "Total_Stops        1\n",
       "Additional_Info    0\n",
       "Price              0\n",
       "dtype: int64"
      ]
     },
     "execution_count": 6,
     "metadata": {},
     "output_type": "execute_result"
    }
   ],
   "source": [
    "df.isnull().sum()"
   ]
  },
  {
   "cell_type": "code",
   "execution_count": 7,
   "id": "c3f6c4f4",
   "metadata": {
    "execution": {
     "iopub.execute_input": "2022-04-19T12:02:20.576109Z",
     "iopub.status.busy": "2022-04-19T12:02:20.575287Z",
     "iopub.status.idle": "2022-04-19T12:02:20.594415Z",
     "shell.execute_reply": "2022-04-19T12:02:20.594917Z",
     "shell.execute_reply.started": "2022-04-19T11:37:11.745390Z"
    },
    "papermill": {
     "duration": 0.093123,
     "end_time": "2022-04-19T12:02:20.595084",
     "exception": false,
     "start_time": "2022-04-19T12:02:20.501961",
     "status": "completed"
    },
    "tags": []
   },
   "outputs": [
    {
     "data": {
      "text/html": [
       "<div>\n",
       "<style scoped>\n",
       "    .dataframe tbody tr th:only-of-type {\n",
       "        vertical-align: middle;\n",
       "    }\n",
       "\n",
       "    .dataframe tbody tr th {\n",
       "        vertical-align: top;\n",
       "    }\n",
       "\n",
       "    .dataframe thead th {\n",
       "        text-align: right;\n",
       "    }\n",
       "</style>\n",
       "<table border=\"1\" class=\"dataframe\">\n",
       "  <thead>\n",
       "    <tr style=\"text-align: right;\">\n",
       "      <th></th>\n",
       "      <th>Airline</th>\n",
       "      <th>Date_of_Journey</th>\n",
       "      <th>Source</th>\n",
       "      <th>Destination</th>\n",
       "      <th>Route</th>\n",
       "      <th>Dep_Time</th>\n",
       "      <th>Arrival_Time</th>\n",
       "      <th>Duration</th>\n",
       "      <th>Total_Stops</th>\n",
       "      <th>Additional_Info</th>\n",
       "      <th>Price</th>\n",
       "    </tr>\n",
       "  </thead>\n",
       "  <tbody>\n",
       "    <tr>\n",
       "      <th>0</th>\n",
       "      <td>IndiGo</td>\n",
       "      <td>24/03/2019</td>\n",
       "      <td>Banglore</td>\n",
       "      <td>New Delhi</td>\n",
       "      <td>BLR → DEL</td>\n",
       "      <td>22:20</td>\n",
       "      <td>01:10 22 Mar</td>\n",
       "      <td>2h 50m</td>\n",
       "      <td>non-stop</td>\n",
       "      <td>No info</td>\n",
       "      <td>3897</td>\n",
       "    </tr>\n",
       "    <tr>\n",
       "      <th>1</th>\n",
       "      <td>Air India</td>\n",
       "      <td>1/05/2019</td>\n",
       "      <td>Kolkata</td>\n",
       "      <td>Banglore</td>\n",
       "      <td>CCU → IXR → BBI → BLR</td>\n",
       "      <td>05:50</td>\n",
       "      <td>13:15</td>\n",
       "      <td>7h 25m</td>\n",
       "      <td>2 stops</td>\n",
       "      <td>No info</td>\n",
       "      <td>7662</td>\n",
       "    </tr>\n",
       "    <tr>\n",
       "      <th>2</th>\n",
       "      <td>Jet Airways</td>\n",
       "      <td>9/06/2019</td>\n",
       "      <td>Delhi</td>\n",
       "      <td>Cochin</td>\n",
       "      <td>DEL → LKO → BOM → COK</td>\n",
       "      <td>09:25</td>\n",
       "      <td>04:25 10 Jun</td>\n",
       "      <td>19h</td>\n",
       "      <td>2 stops</td>\n",
       "      <td>No info</td>\n",
       "      <td>13882</td>\n",
       "    </tr>\n",
       "    <tr>\n",
       "      <th>3</th>\n",
       "      <td>IndiGo</td>\n",
       "      <td>12/05/2019</td>\n",
       "      <td>Kolkata</td>\n",
       "      <td>Banglore</td>\n",
       "      <td>CCU → NAG → BLR</td>\n",
       "      <td>18:05</td>\n",
       "      <td>23:30</td>\n",
       "      <td>5h 25m</td>\n",
       "      <td>1 stop</td>\n",
       "      <td>No info</td>\n",
       "      <td>6218</td>\n",
       "    </tr>\n",
       "    <tr>\n",
       "      <th>4</th>\n",
       "      <td>IndiGo</td>\n",
       "      <td>01/03/2019</td>\n",
       "      <td>Banglore</td>\n",
       "      <td>New Delhi</td>\n",
       "      <td>BLR → NAG → DEL</td>\n",
       "      <td>16:50</td>\n",
       "      <td>21:35</td>\n",
       "      <td>4h 45m</td>\n",
       "      <td>1 stop</td>\n",
       "      <td>No info</td>\n",
       "      <td>13302</td>\n",
       "    </tr>\n",
       "  </tbody>\n",
       "</table>\n",
       "</div>"
      ],
      "text/plain": [
       "       Airline Date_of_Journey    Source Destination                  Route  \\\n",
       "0       IndiGo      24/03/2019  Banglore   New Delhi              BLR → DEL   \n",
       "1    Air India       1/05/2019   Kolkata    Banglore  CCU → IXR → BBI → BLR   \n",
       "2  Jet Airways       9/06/2019     Delhi      Cochin  DEL → LKO → BOM → COK   \n",
       "3       IndiGo      12/05/2019   Kolkata    Banglore        CCU → NAG → BLR   \n",
       "4       IndiGo      01/03/2019  Banglore   New Delhi        BLR → NAG → DEL   \n",
       "\n",
       "  Dep_Time  Arrival_Time Duration Total_Stops Additional_Info  Price  \n",
       "0    22:20  01:10 22 Mar   2h 50m    non-stop         No info   3897  \n",
       "1    05:50         13:15   7h 25m     2 stops         No info   7662  \n",
       "2    09:25  04:25 10 Jun      19h     2 stops         No info  13882  \n",
       "3    18:05         23:30   5h 25m      1 stop         No info   6218  \n",
       "4    16:50         21:35   4h 45m      1 stop         No info  13302  "
      ]
     },
     "execution_count": 7,
     "metadata": {},
     "output_type": "execute_result"
    }
   ],
   "source": [
    "df.dropna(inplace=True)\n",
    "df.reset_index()\n",
    "df.head()"
   ]
  },
  {
   "cell_type": "markdown",
   "id": "b85948a2",
   "metadata": {
    "papermill": {
     "duration": 0.057102,
     "end_time": "2022-04-19T12:02:20.711313",
     "exception": false,
     "start_time": "2022-04-19T12:02:20.654211",
     "status": "completed"
    },
    "tags": []
   },
   "source": [
    "### Handling date of journey"
   ]
  },
  {
   "cell_type": "code",
   "execution_count": 8,
   "id": "917edc0a",
   "metadata": {
    "execution": {
     "iopub.execute_input": "2022-04-19T12:02:20.826723Z",
     "iopub.status.busy": "2022-04-19T12:02:20.825916Z",
     "iopub.status.idle": "2022-04-19T12:02:20.838773Z",
     "shell.execute_reply": "2022-04-19T12:02:20.838335Z",
     "shell.execute_reply.started": "2022-04-19T11:37:11.775509Z"
    },
    "papermill": {
     "duration": 0.073318,
     "end_time": "2022-04-19T12:02:20.838908",
     "exception": false,
     "start_time": "2022-04-19T12:02:20.765590",
     "status": "completed"
    },
    "tags": []
   },
   "outputs": [],
   "source": [
    "df['journey_day'] = pd.to_datetime(df.Date_of_Journey,format='%d/%m/%Y').dt.day\n",
    "df['journey_month'] = pd.to_datetime(df.Date_of_Journey,format='%d/%m/%Y').dt.month\n",
    "#Not taking year as the whole data is of same year"
   ]
  },
  {
   "cell_type": "code",
   "execution_count": 9,
   "id": "18117ca4",
   "metadata": {
    "execution": {
     "iopub.execute_input": "2022-04-19T12:02:20.954076Z",
     "iopub.status.busy": "2022-04-19T12:02:20.953237Z",
     "iopub.status.idle": "2022-04-19T12:02:20.957209Z",
     "shell.execute_reply": "2022-04-19T12:02:20.956733Z",
     "shell.execute_reply.started": "2022-04-19T11:37:11.793605Z"
    },
    "papermill": {
     "duration": 0.063503,
     "end_time": "2022-04-19T12:02:20.957326",
     "exception": false,
     "start_time": "2022-04-19T12:02:20.893823",
     "status": "completed"
    },
    "tags": []
   },
   "outputs": [],
   "source": [
    "df.drop(['Date_of_Journey'],axis=1,inplace=True)"
   ]
  },
  {
   "cell_type": "code",
   "execution_count": 10,
   "id": "0f8fa1d7",
   "metadata": {
    "execution": {
     "iopub.execute_input": "2022-04-19T12:02:21.081717Z",
     "iopub.status.busy": "2022-04-19T12:02:21.080482Z",
     "iopub.status.idle": "2022-04-19T12:02:21.084288Z",
     "shell.execute_reply": "2022-04-19T12:02:21.083803Z",
     "shell.execute_reply.started": "2022-04-19T11:37:11.803374Z"
    },
    "papermill": {
     "duration": 0.072085,
     "end_time": "2022-04-19T12:02:21.084406",
     "exception": false,
     "start_time": "2022-04-19T12:02:21.012321",
     "status": "completed"
    },
    "tags": []
   },
   "outputs": [
    {
     "data": {
      "text/html": [
       "<div>\n",
       "<style scoped>\n",
       "    .dataframe tbody tr th:only-of-type {\n",
       "        vertical-align: middle;\n",
       "    }\n",
       "\n",
       "    .dataframe tbody tr th {\n",
       "        vertical-align: top;\n",
       "    }\n",
       "\n",
       "    .dataframe thead th {\n",
       "        text-align: right;\n",
       "    }\n",
       "</style>\n",
       "<table border=\"1\" class=\"dataframe\">\n",
       "  <thead>\n",
       "    <tr style=\"text-align: right;\">\n",
       "      <th></th>\n",
       "      <th>Airline</th>\n",
       "      <th>Source</th>\n",
       "      <th>Destination</th>\n",
       "      <th>Route</th>\n",
       "      <th>Dep_Time</th>\n",
       "      <th>Arrival_Time</th>\n",
       "      <th>Duration</th>\n",
       "      <th>Total_Stops</th>\n",
       "      <th>Additional_Info</th>\n",
       "      <th>Price</th>\n",
       "      <th>journey_day</th>\n",
       "      <th>journey_month</th>\n",
       "    </tr>\n",
       "  </thead>\n",
       "  <tbody>\n",
       "    <tr>\n",
       "      <th>0</th>\n",
       "      <td>IndiGo</td>\n",
       "      <td>Banglore</td>\n",
       "      <td>New Delhi</td>\n",
       "      <td>BLR → DEL</td>\n",
       "      <td>22:20</td>\n",
       "      <td>01:10 22 Mar</td>\n",
       "      <td>2h 50m</td>\n",
       "      <td>non-stop</td>\n",
       "      <td>No info</td>\n",
       "      <td>3897</td>\n",
       "      <td>24</td>\n",
       "      <td>3</td>\n",
       "    </tr>\n",
       "    <tr>\n",
       "      <th>1</th>\n",
       "      <td>Air India</td>\n",
       "      <td>Kolkata</td>\n",
       "      <td>Banglore</td>\n",
       "      <td>CCU → IXR → BBI → BLR</td>\n",
       "      <td>05:50</td>\n",
       "      <td>13:15</td>\n",
       "      <td>7h 25m</td>\n",
       "      <td>2 stops</td>\n",
       "      <td>No info</td>\n",
       "      <td>7662</td>\n",
       "      <td>1</td>\n",
       "      <td>5</td>\n",
       "    </tr>\n",
       "  </tbody>\n",
       "</table>\n",
       "</div>"
      ],
      "text/plain": [
       "     Airline    Source Destination                  Route Dep_Time  \\\n",
       "0     IndiGo  Banglore   New Delhi              BLR → DEL    22:20   \n",
       "1  Air India   Kolkata    Banglore  CCU → IXR → BBI → BLR    05:50   \n",
       "\n",
       "   Arrival_Time Duration Total_Stops Additional_Info  Price  journey_day  \\\n",
       "0  01:10 22 Mar   2h 50m    non-stop         No info   3897           24   \n",
       "1         13:15   7h 25m     2 stops         No info   7662            1   \n",
       "\n",
       "   journey_month  \n",
       "0              3  \n",
       "1              5  "
      ]
     },
     "execution_count": 10,
     "metadata": {},
     "output_type": "execute_result"
    }
   ],
   "source": [
    "df.head(2)"
   ]
  },
  {
   "cell_type": "markdown",
   "id": "333d7a1d",
   "metadata": {
    "papermill": {
     "duration": 0.054428,
     "end_time": "2022-04-19T12:02:21.193471",
     "exception": false,
     "start_time": "2022-04-19T12:02:21.139043",
     "status": "completed"
    },
    "tags": []
   },
   "source": [
    "## Handling Dep_time"
   ]
  },
  {
   "cell_type": "code",
   "execution_count": 11,
   "id": "93271ddb",
   "metadata": {
    "execution": {
     "iopub.execute_input": "2022-04-19T12:02:21.313612Z",
     "iopub.status.busy": "2022-04-19T12:02:21.312758Z",
     "iopub.status.idle": "2022-04-19T12:02:21.341068Z",
     "shell.execute_reply": "2022-04-19T12:02:21.340614Z",
     "shell.execute_reply.started": "2022-04-19T11:37:11.818964Z"
    },
    "papermill": {
     "duration": 0.090206,
     "end_time": "2022-04-19T12:02:21.341180",
     "exception": false,
     "start_time": "2022-04-19T12:02:21.250974",
     "status": "completed"
    },
    "tags": []
   },
   "outputs": [],
   "source": [
    "df['dep_hr'] = pd.to_datetime(df['Dep_Time']).dt.hour\n",
    "df['dep_min'] = pd.to_datetime(df['Dep_Time']).dt.minute\n",
    "df.drop(['Dep_Time'],axis=1,inplace=True)"
   ]
  },
  {
   "cell_type": "code",
   "execution_count": 12,
   "id": "f569eb6c",
   "metadata": {
    "execution": {
     "iopub.execute_input": "2022-04-19T12:02:21.463049Z",
     "iopub.status.busy": "2022-04-19T12:02:21.462424Z",
     "iopub.status.idle": "2022-04-19T12:02:21.465190Z",
     "shell.execute_reply": "2022-04-19T12:02:21.465600Z",
     "shell.execute_reply.started": "2022-04-19T11:37:11.854745Z"
    },
    "papermill": {
     "duration": 0.069713,
     "end_time": "2022-04-19T12:02:21.465731",
     "exception": false,
     "start_time": "2022-04-19T12:02:21.396018",
     "status": "completed"
    },
    "tags": []
   },
   "outputs": [
    {
     "data": {
      "text/html": [
       "<div>\n",
       "<style scoped>\n",
       "    .dataframe tbody tr th:only-of-type {\n",
       "        vertical-align: middle;\n",
       "    }\n",
       "\n",
       "    .dataframe tbody tr th {\n",
       "        vertical-align: top;\n",
       "    }\n",
       "\n",
       "    .dataframe thead th {\n",
       "        text-align: right;\n",
       "    }\n",
       "</style>\n",
       "<table border=\"1\" class=\"dataframe\">\n",
       "  <thead>\n",
       "    <tr style=\"text-align: right;\">\n",
       "      <th></th>\n",
       "      <th>Airline</th>\n",
       "      <th>Source</th>\n",
       "      <th>Destination</th>\n",
       "      <th>Route</th>\n",
       "      <th>Arrival_Time</th>\n",
       "      <th>Duration</th>\n",
       "      <th>Total_Stops</th>\n",
       "      <th>Additional_Info</th>\n",
       "      <th>Price</th>\n",
       "      <th>journey_day</th>\n",
       "      <th>journey_month</th>\n",
       "      <th>dep_hr</th>\n",
       "      <th>dep_min</th>\n",
       "    </tr>\n",
       "  </thead>\n",
       "  <tbody>\n",
       "    <tr>\n",
       "      <th>0</th>\n",
       "      <td>IndiGo</td>\n",
       "      <td>Banglore</td>\n",
       "      <td>New Delhi</td>\n",
       "      <td>BLR → DEL</td>\n",
       "      <td>01:10 22 Mar</td>\n",
       "      <td>2h 50m</td>\n",
       "      <td>non-stop</td>\n",
       "      <td>No info</td>\n",
       "      <td>3897</td>\n",
       "      <td>24</td>\n",
       "      <td>3</td>\n",
       "      <td>22</td>\n",
       "      <td>20</td>\n",
       "    </tr>\n",
       "    <tr>\n",
       "      <th>1</th>\n",
       "      <td>Air India</td>\n",
       "      <td>Kolkata</td>\n",
       "      <td>Banglore</td>\n",
       "      <td>CCU → IXR → BBI → BLR</td>\n",
       "      <td>13:15</td>\n",
       "      <td>7h 25m</td>\n",
       "      <td>2 stops</td>\n",
       "      <td>No info</td>\n",
       "      <td>7662</td>\n",
       "      <td>1</td>\n",
       "      <td>5</td>\n",
       "      <td>5</td>\n",
       "      <td>50</td>\n",
       "    </tr>\n",
       "  </tbody>\n",
       "</table>\n",
       "</div>"
      ],
      "text/plain": [
       "     Airline    Source Destination                  Route  Arrival_Time  \\\n",
       "0     IndiGo  Banglore   New Delhi              BLR → DEL  01:10 22 Mar   \n",
       "1  Air India   Kolkata    Banglore  CCU → IXR → BBI → BLR         13:15   \n",
       "\n",
       "  Duration Total_Stops Additional_Info  Price  journey_day  journey_month  \\\n",
       "0   2h 50m    non-stop         No info   3897           24              3   \n",
       "1   7h 25m     2 stops         No info   7662            1              5   \n",
       "\n",
       "   dep_hr  dep_min  \n",
       "0      22       20  \n",
       "1       5       50  "
      ]
     },
     "execution_count": 12,
     "metadata": {},
     "output_type": "execute_result"
    }
   ],
   "source": [
    "df.head(2)"
   ]
  },
  {
   "cell_type": "markdown",
   "id": "dddda8bf",
   "metadata": {
    "papermill": {
     "duration": 0.054907,
     "end_time": "2022-04-19T12:02:21.576102",
     "exception": false,
     "start_time": "2022-04-19T12:02:21.521195",
     "status": "completed"
    },
    "tags": []
   },
   "source": [
    "## Handling Arrival_time"
   ]
  },
  {
   "cell_type": "code",
   "execution_count": 13,
   "id": "e168c239",
   "metadata": {
    "execution": {
     "iopub.execute_input": "2022-04-19T12:02:21.696440Z",
     "iopub.status.busy": "2022-04-19T12:02:21.695589Z",
     "iopub.status.idle": "2022-04-19T12:02:21.867050Z",
     "shell.execute_reply": "2022-04-19T12:02:21.866374Z",
     "shell.execute_reply.started": "2022-04-19T11:37:11.872489Z"
    },
    "papermill": {
     "duration": 0.236029,
     "end_time": "2022-04-19T12:02:21.867188",
     "exception": false,
     "start_time": "2022-04-19T12:02:21.631159",
     "status": "completed"
    },
    "tags": []
   },
   "outputs": [],
   "source": [
    "df['Arr_hr'] = pd.to_datetime(df['Arrival_Time']).dt.hour\n",
    "df['Arr_min'] = pd.to_datetime(df['Arrival_Time']).dt.minute\n",
    "df.drop(['Arrival_Time'],axis=1,inplace=True)"
   ]
  },
  {
   "cell_type": "code",
   "execution_count": 14,
   "id": "f6a97817",
   "metadata": {
    "execution": {
     "iopub.execute_input": "2022-04-19T12:02:21.993157Z",
     "iopub.status.busy": "2022-04-19T12:02:21.992509Z",
     "iopub.status.idle": "2022-04-19T12:02:21.995501Z",
     "shell.execute_reply": "2022-04-19T12:02:21.995929Z",
     "shell.execute_reply.started": "2022-04-19T11:37:12.053126Z"
    },
    "papermill": {
     "duration": 0.072979,
     "end_time": "2022-04-19T12:02:21.996067",
     "exception": false,
     "start_time": "2022-04-19T12:02:21.923088",
     "status": "completed"
    },
    "tags": []
   },
   "outputs": [
    {
     "data": {
      "text/html": [
       "<div>\n",
       "<style scoped>\n",
       "    .dataframe tbody tr th:only-of-type {\n",
       "        vertical-align: middle;\n",
       "    }\n",
       "\n",
       "    .dataframe tbody tr th {\n",
       "        vertical-align: top;\n",
       "    }\n",
       "\n",
       "    .dataframe thead th {\n",
       "        text-align: right;\n",
       "    }\n",
       "</style>\n",
       "<table border=\"1\" class=\"dataframe\">\n",
       "  <thead>\n",
       "    <tr style=\"text-align: right;\">\n",
       "      <th></th>\n",
       "      <th>Airline</th>\n",
       "      <th>Source</th>\n",
       "      <th>Destination</th>\n",
       "      <th>Route</th>\n",
       "      <th>Duration</th>\n",
       "      <th>Total_Stops</th>\n",
       "      <th>Additional_Info</th>\n",
       "      <th>Price</th>\n",
       "      <th>journey_day</th>\n",
       "      <th>journey_month</th>\n",
       "      <th>dep_hr</th>\n",
       "      <th>dep_min</th>\n",
       "      <th>Arr_hr</th>\n",
       "      <th>Arr_min</th>\n",
       "    </tr>\n",
       "  </thead>\n",
       "  <tbody>\n",
       "    <tr>\n",
       "      <th>0</th>\n",
       "      <td>IndiGo</td>\n",
       "      <td>Banglore</td>\n",
       "      <td>New Delhi</td>\n",
       "      <td>BLR → DEL</td>\n",
       "      <td>2h 50m</td>\n",
       "      <td>non-stop</td>\n",
       "      <td>No info</td>\n",
       "      <td>3897</td>\n",
       "      <td>24</td>\n",
       "      <td>3</td>\n",
       "      <td>22</td>\n",
       "      <td>20</td>\n",
       "      <td>1</td>\n",
       "      <td>10</td>\n",
       "    </tr>\n",
       "    <tr>\n",
       "      <th>1</th>\n",
       "      <td>Air India</td>\n",
       "      <td>Kolkata</td>\n",
       "      <td>Banglore</td>\n",
       "      <td>CCU → IXR → BBI → BLR</td>\n",
       "      <td>7h 25m</td>\n",
       "      <td>2 stops</td>\n",
       "      <td>No info</td>\n",
       "      <td>7662</td>\n",
       "      <td>1</td>\n",
       "      <td>5</td>\n",
       "      <td>5</td>\n",
       "      <td>50</td>\n",
       "      <td>13</td>\n",
       "      <td>15</td>\n",
       "    </tr>\n",
       "  </tbody>\n",
       "</table>\n",
       "</div>"
      ],
      "text/plain": [
       "     Airline    Source Destination                  Route Duration  \\\n",
       "0     IndiGo  Banglore   New Delhi              BLR → DEL   2h 50m   \n",
       "1  Air India   Kolkata    Banglore  CCU → IXR → BBI → BLR   7h 25m   \n",
       "\n",
       "  Total_Stops Additional_Info  Price  journey_day  journey_month  dep_hr  \\\n",
       "0    non-stop         No info   3897           24              3      22   \n",
       "1     2 stops         No info   7662            1              5       5   \n",
       "\n",
       "   dep_min  Arr_hr  Arr_min  \n",
       "0       20       1       10  \n",
       "1       50      13       15  "
      ]
     },
     "execution_count": 14,
     "metadata": {},
     "output_type": "execute_result"
    }
   ],
   "source": [
    "df.head(2)"
   ]
  },
  {
   "cell_type": "markdown",
   "id": "87a892d4",
   "metadata": {
    "papermill": {
     "duration": 0.055483,
     "end_time": "2022-04-19T12:02:22.107313",
     "exception": false,
     "start_time": "2022-04-19T12:02:22.051830",
     "status": "completed"
    },
    "tags": []
   },
   "source": [
    "## Handling Duration "
   ]
  },
  {
   "cell_type": "code",
   "execution_count": 15,
   "id": "d5d6921d",
   "metadata": {
    "execution": {
     "iopub.execute_input": "2022-04-19T12:02:22.241090Z",
     "iopub.status.busy": "2022-04-19T12:02:22.236045Z",
     "iopub.status.idle": "2022-04-19T12:02:22.249167Z",
     "shell.execute_reply": "2022-04-19T12:02:22.248714Z",
     "shell.execute_reply.started": "2022-04-19T11:37:12.069888Z"
    },
    "papermill": {
     "duration": 0.086389,
     "end_time": "2022-04-19T12:02:22.249284",
     "exception": false,
     "start_time": "2022-04-19T12:02:22.162895",
     "status": "completed"
    },
    "tags": []
   },
   "outputs": [],
   "source": [
    "# Time taken by plane to reach destination is called Duration\n",
    "# It is the differnce betwwen Departure Time and Arrival time\n",
    "\n",
    "\n",
    "# Assigning and converting Duration column into list\n",
    "duration = list(df[\"Duration\"])\n",
    "\n",
    "for i in range(len(duration)):\n",
    "    if len(duration[i].split()) != 2:    # Check if duration contains only hour or mins\n",
    "        if \"h\" in duration[i]:\n",
    "            duration[i] = duration[i].strip() + \" 0m\"   # Adds 0 minute\n",
    "        else:\n",
    "            duration[i] = \"0h \" + duration[i]           # Adds 0 hour\n",
    "\n",
    "duration_hours = []\n",
    "duration_mins = []\n",
    "for i in range(len(duration)):\n",
    "    duration_hours.append(int(duration[i].split(sep = \"h\")[0]))    # Extract hours from duration\n",
    "    duration_mins.append(int(duration[i].split(sep = \"m\")[0].split()[-1]))   # Extracts only minutes from duration"
   ]
  },
  {
   "cell_type": "code",
   "execution_count": 16,
   "id": "744669ad",
   "metadata": {
    "execution": {
     "iopub.execute_input": "2022-04-19T12:02:22.375401Z",
     "iopub.status.busy": "2022-04-19T12:02:22.374486Z",
     "iopub.status.idle": "2022-04-19T12:02:22.379628Z",
     "shell.execute_reply": "2022-04-19T12:02:22.379164Z",
     "shell.execute_reply.started": "2022-04-19T11:37:12.099607Z"
    },
    "papermill": {
     "duration": 0.073681,
     "end_time": "2022-04-19T12:02:22.379745",
     "exception": false,
     "start_time": "2022-04-19T12:02:22.306064",
     "status": "completed"
    },
    "tags": []
   },
   "outputs": [],
   "source": [
    "df['Duration_hrs'] = duration_hours\n",
    "df['Duration_mins'] = duration_mins\n",
    "df.drop(['Duration'],axis=1,inplace=True)"
   ]
  },
  {
   "cell_type": "code",
   "execution_count": 17,
   "id": "ec6ddfc5",
   "metadata": {
    "execution": {
     "iopub.execute_input": "2022-04-19T12:02:22.496645Z",
     "iopub.status.busy": "2022-04-19T12:02:22.495849Z",
     "iopub.status.idle": "2022-04-19T12:02:22.499320Z",
     "shell.execute_reply": "2022-04-19T12:02:22.498926Z",
     "shell.execute_reply.started": "2022-04-19T11:37:12.117720Z"
    },
    "papermill": {
     "duration": 0.064417,
     "end_time": "2022-04-19T12:02:22.499435",
     "exception": false,
     "start_time": "2022-04-19T12:02:22.435018",
     "status": "completed"
    },
    "tags": []
   },
   "outputs": [
    {
     "data": {
      "text/plain": [
       "Index(['Airline', 'Source', 'Destination', 'Route', 'Total_Stops',\n",
       "       'Additional_Info', 'Price', 'journey_day', 'journey_month', 'dep_hr',\n",
       "       'dep_min', 'Arr_hr', 'Arr_min', 'Duration_hrs', 'Duration_mins'],\n",
       "      dtype='object')"
      ]
     },
     "execution_count": 17,
     "metadata": {},
     "output_type": "execute_result"
    }
   ],
   "source": [
    "df.columns"
   ]
  },
  {
   "cell_type": "code",
   "execution_count": 18,
   "id": "67c85ee0",
   "metadata": {
    "execution": {
     "iopub.execute_input": "2022-04-19T12:02:22.627964Z",
     "iopub.status.busy": "2022-04-19T12:02:22.626873Z",
     "iopub.status.idle": "2022-04-19T12:02:22.630107Z",
     "shell.execute_reply": "2022-04-19T12:02:22.630497Z",
     "shell.execute_reply.started": "2022-04-19T11:37:12.125597Z"
    },
    "papermill": {
     "duration": 0.075181,
     "end_time": "2022-04-19T12:02:22.630656",
     "exception": false,
     "start_time": "2022-04-19T12:02:22.555475",
     "status": "completed"
    },
    "tags": []
   },
   "outputs": [
    {
     "data": {
      "text/html": [
       "<div>\n",
       "<style scoped>\n",
       "    .dataframe tbody tr th:only-of-type {\n",
       "        vertical-align: middle;\n",
       "    }\n",
       "\n",
       "    .dataframe tbody tr th {\n",
       "        vertical-align: top;\n",
       "    }\n",
       "\n",
       "    .dataframe thead th {\n",
       "        text-align: right;\n",
       "    }\n",
       "</style>\n",
       "<table border=\"1\" class=\"dataframe\">\n",
       "  <thead>\n",
       "    <tr style=\"text-align: right;\">\n",
       "      <th></th>\n",
       "      <th>Airline</th>\n",
       "      <th>Source</th>\n",
       "      <th>Destination</th>\n",
       "      <th>Route</th>\n",
       "      <th>Total_Stops</th>\n",
       "      <th>Additional_Info</th>\n",
       "      <th>Price</th>\n",
       "      <th>journey_day</th>\n",
       "      <th>journey_month</th>\n",
       "      <th>dep_hr</th>\n",
       "      <th>dep_min</th>\n",
       "      <th>Arr_hr</th>\n",
       "      <th>Arr_min</th>\n",
       "      <th>Duration_hrs</th>\n",
       "      <th>Duration_mins</th>\n",
       "    </tr>\n",
       "  </thead>\n",
       "  <tbody>\n",
       "    <tr>\n",
       "      <th>0</th>\n",
       "      <td>IndiGo</td>\n",
       "      <td>Banglore</td>\n",
       "      <td>New Delhi</td>\n",
       "      <td>BLR → DEL</td>\n",
       "      <td>non-stop</td>\n",
       "      <td>No info</td>\n",
       "      <td>3897</td>\n",
       "      <td>24</td>\n",
       "      <td>3</td>\n",
       "      <td>22</td>\n",
       "      <td>20</td>\n",
       "      <td>1</td>\n",
       "      <td>10</td>\n",
       "      <td>2</td>\n",
       "      <td>50</td>\n",
       "    </tr>\n",
       "    <tr>\n",
       "      <th>1</th>\n",
       "      <td>Air India</td>\n",
       "      <td>Kolkata</td>\n",
       "      <td>Banglore</td>\n",
       "      <td>CCU → IXR → BBI → BLR</td>\n",
       "      <td>2 stops</td>\n",
       "      <td>No info</td>\n",
       "      <td>7662</td>\n",
       "      <td>1</td>\n",
       "      <td>5</td>\n",
       "      <td>5</td>\n",
       "      <td>50</td>\n",
       "      <td>13</td>\n",
       "      <td>15</td>\n",
       "      <td>7</td>\n",
       "      <td>25</td>\n",
       "    </tr>\n",
       "    <tr>\n",
       "      <th>2</th>\n",
       "      <td>Jet Airways</td>\n",
       "      <td>Delhi</td>\n",
       "      <td>Cochin</td>\n",
       "      <td>DEL → LKO → BOM → COK</td>\n",
       "      <td>2 stops</td>\n",
       "      <td>No info</td>\n",
       "      <td>13882</td>\n",
       "      <td>9</td>\n",
       "      <td>6</td>\n",
       "      <td>9</td>\n",
       "      <td>25</td>\n",
       "      <td>4</td>\n",
       "      <td>25</td>\n",
       "      <td>19</td>\n",
       "      <td>0</td>\n",
       "    </tr>\n",
       "    <tr>\n",
       "      <th>3</th>\n",
       "      <td>IndiGo</td>\n",
       "      <td>Kolkata</td>\n",
       "      <td>Banglore</td>\n",
       "      <td>CCU → NAG → BLR</td>\n",
       "      <td>1 stop</td>\n",
       "      <td>No info</td>\n",
       "      <td>6218</td>\n",
       "      <td>12</td>\n",
       "      <td>5</td>\n",
       "      <td>18</td>\n",
       "      <td>5</td>\n",
       "      <td>23</td>\n",
       "      <td>30</td>\n",
       "      <td>5</td>\n",
       "      <td>25</td>\n",
       "    </tr>\n",
       "    <tr>\n",
       "      <th>4</th>\n",
       "      <td>IndiGo</td>\n",
       "      <td>Banglore</td>\n",
       "      <td>New Delhi</td>\n",
       "      <td>BLR → NAG → DEL</td>\n",
       "      <td>1 stop</td>\n",
       "      <td>No info</td>\n",
       "      <td>13302</td>\n",
       "      <td>1</td>\n",
       "      <td>3</td>\n",
       "      <td>16</td>\n",
       "      <td>50</td>\n",
       "      <td>21</td>\n",
       "      <td>35</td>\n",
       "      <td>4</td>\n",
       "      <td>45</td>\n",
       "    </tr>\n",
       "  </tbody>\n",
       "</table>\n",
       "</div>"
      ],
      "text/plain": [
       "       Airline    Source Destination                  Route Total_Stops  \\\n",
       "0       IndiGo  Banglore   New Delhi              BLR → DEL    non-stop   \n",
       "1    Air India   Kolkata    Banglore  CCU → IXR → BBI → BLR     2 stops   \n",
       "2  Jet Airways     Delhi      Cochin  DEL → LKO → BOM → COK     2 stops   \n",
       "3       IndiGo   Kolkata    Banglore        CCU → NAG → BLR      1 stop   \n",
       "4       IndiGo  Banglore   New Delhi        BLR → NAG → DEL      1 stop   \n",
       "\n",
       "  Additional_Info  Price  journey_day  journey_month  dep_hr  dep_min  Arr_hr  \\\n",
       "0         No info   3897           24              3      22       20       1   \n",
       "1         No info   7662            1              5       5       50      13   \n",
       "2         No info  13882            9              6       9       25       4   \n",
       "3         No info   6218           12              5      18        5      23   \n",
       "4         No info  13302            1              3      16       50      21   \n",
       "\n",
       "   Arr_min  Duration_hrs  Duration_mins  \n",
       "0       10             2             50  \n",
       "1       15             7             25  \n",
       "2       25            19              0  \n",
       "3       30             5             25  \n",
       "4       35             4             45  "
      ]
     },
     "execution_count": 18,
     "metadata": {},
     "output_type": "execute_result"
    }
   ],
   "source": [
    "df.head()"
   ]
  },
  {
   "cell_type": "markdown",
   "id": "217242e8",
   "metadata": {
    "papermill": {
     "duration": 0.05792,
     "end_time": "2022-04-19T12:02:22.744925",
     "exception": false,
     "start_time": "2022-04-19T12:02:22.687005",
     "status": "completed"
    },
    "tags": []
   },
   "source": [
    "## Handling categorical data\n",
    "1. <font color='yellow'> Nominal Data </font> -> data are not in any order -> <font color='green'> OneHotEncorder </font> is used\n",
    "2. <font color='yellow'> Ordinal Data </font>-> data are in order -> <font color='green'> LabelEncoder </font> is used"
   ]
  },
  {
   "cell_type": "code",
   "execution_count": 19,
   "id": "a11ea30e",
   "metadata": {
    "execution": {
     "iopub.execute_input": "2022-04-19T12:02:22.866263Z",
     "iopub.status.busy": "2022-04-19T12:02:22.865348Z",
     "iopub.status.idle": "2022-04-19T12:02:22.874195Z",
     "shell.execute_reply": "2022-04-19T12:02:22.874737Z",
     "shell.execute_reply.started": "2022-04-19T11:37:12.145045Z"
    },
    "papermill": {
     "duration": 0.070622,
     "end_time": "2022-04-19T12:02:22.874922",
     "exception": false,
     "start_time": "2022-04-19T12:02:22.804300",
     "status": "completed"
    },
    "tags": []
   },
   "outputs": [
    {
     "data": {
      "text/plain": [
       "Jet Airways                          3849\n",
       "IndiGo                               2053\n",
       "Air India                            1751\n",
       "Multiple carriers                    1196\n",
       "SpiceJet                              818\n",
       "Vistara                               479\n",
       "Air Asia                              319\n",
       "GoAir                                 194\n",
       "Multiple carriers Premium economy      13\n",
       "Jet Airways Business                    6\n",
       "Vistara Premium economy                 3\n",
       "Trujet                                  1\n",
       "Name: Airline, dtype: int64"
      ]
     },
     "execution_count": 19,
     "metadata": {},
     "output_type": "execute_result"
    }
   ],
   "source": [
    "df['Airline'].value_counts()"
   ]
  },
  {
   "cell_type": "code",
   "execution_count": 20,
   "id": "e8960c35",
   "metadata": {
    "execution": {
     "iopub.execute_input": "2022-04-19T12:02:23.018246Z",
     "iopub.status.busy": "2022-04-19T12:02:23.017098Z",
     "iopub.status.idle": "2022-04-19T12:02:23.518954Z",
     "shell.execute_reply": "2022-04-19T12:02:23.518500Z",
     "shell.execute_reply.started": "2022-04-19T11:37:12.155418Z"
    },
    "papermill": {
     "duration": 0.577017,
     "end_time": "2022-04-19T12:02:23.519077",
     "exception": false,
     "start_time": "2022-04-19T12:02:22.942060",
     "status": "completed"
    },
    "tags": []
   },
   "outputs": [
    {
     "data": {
      "image/png": "[encoded data removed]",
      "text/plain": [
       "<Figure size 1296x432 with 1 Axes>"
      ]
     },
     "metadata": {
      "needs_background": "light"
     },
     "output_type": "display_data"
    }
   ],
   "source": [
    "sns.catplot(y = \"Price\",x = \"Airline\",data=df.sort_values(\"Price\",ascending=False), \n",
    "            kind=\"boxen\",height=6,aspect=3)\n",
    "sns.set()"
   ]
  },
  {
   "cell_type": "code",
   "execution_count": 21,
   "id": "31b5dee0",
   "metadata": {
    "execution": {
     "iopub.execute_input": "2022-04-19T12:02:23.643234Z",
     "iopub.status.busy": "2022-04-19T12:02:23.642733Z",
     "iopub.status.idle": "2022-04-19T12:02:23.655484Z",
     "shell.execute_reply": "2022-04-19T12:02:23.655889Z",
     "shell.execute_reply.started": "2022-04-19T11:37:12.633719Z"
    },
    "papermill": {
     "duration": 0.078506,
     "end_time": "2022-04-19T12:02:23.656026",
     "exception": false,
     "start_time": "2022-04-19T12:02:23.577520",
     "status": "completed"
    },
    "tags": []
   },
   "outputs": [
    {
     "data": {
      "text/html": [
       "<div>\n",
       "<style scoped>\n",
       "    .dataframe tbody tr th:only-of-type {\n",
       "        vertical-align: middle;\n",
       "    }\n",
       "\n",
       "    .dataframe tbody tr th {\n",
       "        vertical-align: top;\n",
       "    }\n",
       "\n",
       "    .dataframe thead th {\n",
       "        text-align: right;\n",
       "    }\n",
       "</style>\n",
       "<table border=\"1\" class=\"dataframe\">\n",
       "  <thead>\n",
       "    <tr style=\"text-align: right;\">\n",
       "      <th></th>\n",
       "      <th>Airline_Air India</th>\n",
       "      <th>Airline_GoAir</th>\n",
       "      <th>Airline_IndiGo</th>\n",
       "      <th>Airline_Jet Airways</th>\n",
       "      <th>Airline_Jet Airways Business</th>\n",
       "      <th>Airline_Multiple carriers</th>\n",
       "      <th>Airline_Multiple carriers Premium economy</th>\n",
       "      <th>Airline_SpiceJet</th>\n",
       "      <th>Airline_Trujet</th>\n",
       "      <th>Airline_Vistara</th>\n",
       "      <th>Airline_Vistara Premium economy</th>\n",
       "    </tr>\n",
       "  </thead>\n",
       "  <tbody>\n",
       "    <tr>\n",
       "      <th>0</th>\n",
       "      <td>0</td>\n",
       "      <td>0</td>\n",
       "      <td>1</td>\n",
       "      <td>0</td>\n",
       "      <td>0</td>\n",
       "      <td>0</td>\n",
       "      <td>0</td>\n",
       "      <td>0</td>\n",
       "      <td>0</td>\n",
       "      <td>0</td>\n",
       "      <td>0</td>\n",
       "    </tr>\n",
       "    <tr>\n",
       "      <th>1</th>\n",
       "      <td>1</td>\n",
       "      <td>0</td>\n",
       "      <td>0</td>\n",
       "      <td>0</td>\n",
       "      <td>0</td>\n",
       "      <td>0</td>\n",
       "      <td>0</td>\n",
       "      <td>0</td>\n",
       "      <td>0</td>\n",
       "      <td>0</td>\n",
       "      <td>0</td>\n",
       "    </tr>\n",
       "    <tr>\n",
       "      <th>2</th>\n",
       "      <td>0</td>\n",
       "      <td>0</td>\n",
       "      <td>0</td>\n",
       "      <td>1</td>\n",
       "      <td>0</td>\n",
       "      <td>0</td>\n",
       "      <td>0</td>\n",
       "      <td>0</td>\n",
       "      <td>0</td>\n",
       "      <td>0</td>\n",
       "      <td>0</td>\n",
       "    </tr>\n",
       "    <tr>\n",
       "      <th>3</th>\n",
       "      <td>0</td>\n",
       "      <td>0</td>\n",
       "      <td>1</td>\n",
       "      <td>0</td>\n",
       "      <td>0</td>\n",
       "      <td>0</td>\n",
       "      <td>0</td>\n",
       "      <td>0</td>\n",
       "      <td>0</td>\n",
       "      <td>0</td>\n",
       "      <td>0</td>\n",
       "    </tr>\n",
       "    <tr>\n",
       "      <th>4</th>\n",
       "      <td>0</td>\n",
       "      <td>0</td>\n",
       "      <td>1</td>\n",
       "      <td>0</td>\n",
       "      <td>0</td>\n",
       "      <td>0</td>\n",
       "      <td>0</td>\n",
       "      <td>0</td>\n",
       "      <td>0</td>\n",
       "      <td>0</td>\n",
       "      <td>0</td>\n",
       "    </tr>\n",
       "  </tbody>\n",
       "</table>\n",
       "</div>"
      ],
      "text/plain": [
       "   Airline_Air India  Airline_GoAir  Airline_IndiGo  Airline_Jet Airways  \\\n",
       "0                  0              0               1                    0   \n",
       "1                  1              0               0                    0   \n",
       "2                  0              0               0                    1   \n",
       "3                  0              0               1                    0   \n",
       "4                  0              0               1                    0   \n",
       "\n",
       "   Airline_Jet Airways Business  Airline_Multiple carriers  \\\n",
       "0                             0                          0   \n",
       "1                             0                          0   \n",
       "2                             0                          0   \n",
       "3                             0                          0   \n",
       "4                             0                          0   \n",
       "\n",
       "   Airline_Multiple carriers Premium economy  Airline_SpiceJet  \\\n",
       "0                                          0                 0   \n",
       "1                                          0                 0   \n",
       "2                                          0                 0   \n",
       "3                                          0                 0   \n",
       "4                                          0                 0   \n",
       "\n",
       "   Airline_Trujet  Airline_Vistara  Airline_Vistara Premium economy  \n",
       "0               0                0                                0  \n",
       "1               0                0                                0  \n",
       "2               0                0                                0  \n",
       "3               0                0                                0  \n",
       "4               0                0                                0  "
      ]
     },
     "execution_count": 21,
     "metadata": {},
     "output_type": "execute_result"
    }
   ],
   "source": [
    "Airline = df[['Airline']]\n",
    "Airline = pd.get_dummies(Airline,drop_first=True)\n",
    "Airline.head()"
   ]
  },
  {
   "cell_type": "markdown",
   "id": "1e482f54",
   "metadata": {
    "papermill": {
     "duration": 0.058432,
     "end_time": "2022-04-19T12:02:23.773897",
     "exception": false,
     "start_time": "2022-04-19T12:02:23.715465",
     "status": "completed"
    },
    "tags": []
   },
   "source": [
    "## Handling source column"
   ]
  },
  {
   "cell_type": "code",
   "execution_count": 22,
   "id": "0ca2e548",
   "metadata": {
    "execution": {
     "iopub.execute_input": "2022-04-19T12:02:23.899012Z",
     "iopub.status.busy": "2022-04-19T12:02:23.898374Z",
     "iopub.status.idle": "2022-04-19T12:02:23.900961Z",
     "shell.execute_reply": "2022-04-19T12:02:23.901359Z",
     "shell.execute_reply.started": "2022-04-19T11:37:12.652414Z"
    },
    "papermill": {
     "duration": 0.068923,
     "end_time": "2022-04-19T12:02:23.901490",
     "exception": false,
     "start_time": "2022-04-19T12:02:23.832567",
     "status": "completed"
    },
    "tags": []
   },
   "outputs": [
    {
     "data": {
      "text/plain": [
       "Delhi       4536\n",
       "Kolkata     2871\n",
       "Banglore    2197\n",
       "Mumbai       697\n",
       "Chennai      381\n",
       "Name: Source, dtype: int64"
      ]
     },
     "execution_count": 22,
     "metadata": {},
     "output_type": "execute_result"
    }
   ],
   "source": [
    "df['Source'].value_counts()"
   ]
  },
  {
   "cell_type": "code",
   "execution_count": 23,
   "id": "91a6a507",
   "metadata": {
    "execution": {
     "iopub.execute_input": "2022-04-19T12:02:24.027470Z",
     "iopub.status.busy": "2022-04-19T12:02:24.026669Z",
     "iopub.status.idle": "2022-04-19T12:02:24.497939Z",
     "shell.execute_reply": "2022-04-19T12:02:24.498619Z",
     "shell.execute_reply.started": "2022-04-19T11:37:12.662765Z"
    },
    "papermill": {
     "duration": 0.539053,
     "end_time": "2022-04-19T12:02:24.498798",
     "exception": false,
     "start_time": "2022-04-19T12:02:23.959745",
     "status": "completed"
    },
    "tags": []
   },
   "outputs": [
    {
     "data": {
      "text/plain": [
       "<seaborn.axisgrid.FacetGrid at 0x7f5f3c8bc210>"
      ]
     },
     "execution_count": 23,
     "metadata": {},
     "output_type": "execute_result"
    },
    {
     "data": {
      "image/png": "[encoded data removed]",
      "text/plain": [
       "<Figure size 360x360 with 1 Axes>"
      ]
     },
     "metadata": {},
     "output_type": "display_data"
    }
   ],
   "source": [
    "sns.catplot(x=\"Source\", y=\"Price\", data=df)"
   ]
  },
  {
   "cell_type": "code",
   "execution_count": 24,
   "id": "0ffe7fe3",
   "metadata": {
    "execution": {
     "iopub.execute_input": "2022-04-19T12:02:24.647483Z",
     "iopub.status.busy": "2022-04-19T12:02:24.646607Z",
     "iopub.status.idle": "2022-04-19T12:02:25.089003Z",
     "shell.execute_reply": "2022-04-19T12:02:25.089433Z",
     "shell.execute_reply.started": "2022-04-19T11:37:13.071918Z"
    },
    "papermill": {
     "duration": 0.518884,
     "end_time": "2022-04-19T12:02:25.089605",
     "exception": false,
     "start_time": "2022-04-19T12:02:24.570721",
     "status": "completed"
    },
    "tags": []
   },
   "outputs": [
    {
     "data": {
      "text/plain": [
       "<seaborn.axisgrid.FacetGrid at 0x7f5f3ca97890>"
      ]
     },
     "execution_count": 24,
     "metadata": {},
     "output_type": "execute_result"
    },
    {
     "data": {
      "image/png": "[encoded data removed]",
      "text/plain": [
       "<Figure size 1296x432 with 1 Axes>"
      ]
     },
     "metadata": {},
     "output_type": "display_data"
    }
   ],
   "source": [
    "sns.catplot(y=\"Price\",x='Source',data=df.sort_values(\"Price\",ascending=False), \n",
    "            kind=\"boxen\",height=6,aspect=3)"
   ]
  },
  {
   "cell_type": "code",
   "execution_count": 25,
   "id": "7ac9c6ff",
   "metadata": {
    "execution": {
     "iopub.execute_input": "2022-04-19T12:02:25.227592Z",
     "iopub.status.busy": "2022-04-19T12:02:25.226555Z",
     "iopub.status.idle": "2022-04-19T12:02:25.236856Z",
     "shell.execute_reply": "2022-04-19T12:02:25.237370Z",
     "shell.execute_reply.started": "2022-04-19T11:37:13.544276Z"
    },
    "papermill": {
     "duration": 0.083238,
     "end_time": "2022-04-19T12:02:25.237522",
     "exception": false,
     "start_time": "2022-04-19T12:02:25.154284",
     "status": "completed"
    },
    "tags": []
   },
   "outputs": [
    {
     "data": {
      "text/html": [
       "<div>\n",
       "<style scoped>\n",
       "    .dataframe tbody tr th:only-of-type {\n",
       "        vertical-align: middle;\n",
       "    }\n",
       "\n",
       "    .dataframe tbody tr th {\n",
       "        vertical-align: top;\n",
       "    }\n",
       "\n",
       "    .dataframe thead th {\n",
       "        text-align: right;\n",
       "    }\n",
       "</style>\n",
       "<table border=\"1\" class=\"dataframe\">\n",
       "  <thead>\n",
       "    <tr style=\"text-align: right;\">\n",
       "      <th></th>\n",
       "      <th>Source_Chennai</th>\n",
       "      <th>Source_Delhi</th>\n",
       "      <th>Source_Kolkata</th>\n",
       "      <th>Source_Mumbai</th>\n",
       "    </tr>\n",
       "  </thead>\n",
       "  <tbody>\n",
       "    <tr>\n",
       "      <th>0</th>\n",
       "      <td>0</td>\n",
       "      <td>0</td>\n",
       "      <td>0</td>\n",
       "      <td>0</td>\n",
       "    </tr>\n",
       "    <tr>\n",
       "      <th>1</th>\n",
       "      <td>0</td>\n",
       "      <td>0</td>\n",
       "      <td>1</td>\n",
       "      <td>0</td>\n",
       "    </tr>\n",
       "    <tr>\n",
       "      <th>2</th>\n",
       "      <td>0</td>\n",
       "      <td>1</td>\n",
       "      <td>0</td>\n",
       "      <td>0</td>\n",
       "    </tr>\n",
       "    <tr>\n",
       "      <th>3</th>\n",
       "      <td>0</td>\n",
       "      <td>0</td>\n",
       "      <td>1</td>\n",
       "      <td>0</td>\n",
       "    </tr>\n",
       "    <tr>\n",
       "      <th>4</th>\n",
       "      <td>0</td>\n",
       "      <td>0</td>\n",
       "      <td>0</td>\n",
       "      <td>0</td>\n",
       "    </tr>\n",
       "  </tbody>\n",
       "</table>\n",
       "</div>"
      ],
      "text/plain": [
       "   Source_Chennai  Source_Delhi  Source_Kolkata  Source_Mumbai\n",
       "0               0             0               0              0\n",
       "1               0             0               1              0\n",
       "2               0             1               0              0\n",
       "3               0             0               1              0\n",
       "4               0             0               0              0"
      ]
     },
     "execution_count": 25,
     "metadata": {},
     "output_type": "execute_result"
    }
   ],
   "source": [
    "Source = df[['Source']]\n",
    "Source = pd.get_dummies(Source,drop_first=True)\n",
    "Source.head()"
   ]
  },
  {
   "cell_type": "markdown",
   "id": "98d2cd8d",
   "metadata": {
    "papermill": {
     "duration": 0.071764,
     "end_time": "2022-04-19T12:02:25.382121",
     "exception": false,
     "start_time": "2022-04-19T12:02:25.310357",
     "status": "completed"
    },
    "tags": []
   },
   "source": [
    "## Handling Destination Column"
   ]
  },
  {
   "cell_type": "code",
   "execution_count": 26,
   "id": "a5eee1d5",
   "metadata": {
    "execution": {
     "iopub.execute_input": "2022-04-19T12:02:25.529038Z",
     "iopub.status.busy": "2022-04-19T12:02:25.528301Z",
     "iopub.status.idle": "2022-04-19T12:02:25.531169Z",
     "shell.execute_reply": "2022-04-19T12:02:25.531615Z",
     "shell.execute_reply.started": "2022-04-19T11:37:13.563126Z"
    },
    "papermill": {
     "duration": 0.079478,
     "end_time": "2022-04-19T12:02:25.531757",
     "exception": false,
     "start_time": "2022-04-19T12:02:25.452279",
     "status": "completed"
    },
    "tags": []
   },
   "outputs": [
    {
     "data": {
      "text/plain": [
       "Cochin       4536\n",
       "Banglore     2871\n",
       "Delhi        1265\n",
       "New Delhi     932\n",
       "Hyderabad     697\n",
       "Kolkata       381\n",
       "Name: Destination, dtype: int64"
      ]
     },
     "execution_count": 26,
     "metadata": {},
     "output_type": "execute_result"
    }
   ],
   "source": [
    "df['Destination'].value_counts()"
   ]
  },
  {
   "cell_type": "code",
   "execution_count": 27,
   "id": "3b389723",
   "metadata": {
    "execution": {
     "iopub.execute_input": "2022-04-19T12:02:25.678931Z",
     "iopub.status.busy": "2022-04-19T12:02:25.678100Z",
     "iopub.status.idle": "2022-04-19T12:02:25.687657Z",
     "shell.execute_reply": "2022-04-19T12:02:25.688101Z",
     "shell.execute_reply.started": "2022-04-19T11:37:13.575373Z"
    },
    "papermill": {
     "duration": 0.085684,
     "end_time": "2022-04-19T12:02:25.688240",
     "exception": false,
     "start_time": "2022-04-19T12:02:25.602556",
     "status": "completed"
    },
    "tags": []
   },
   "outputs": [
    {
     "data": {
      "text/html": [
       "<div>\n",
       "<style scoped>\n",
       "    .dataframe tbody tr th:only-of-type {\n",
       "        vertical-align: middle;\n",
       "    }\n",
       "\n",
       "    .dataframe tbody tr th {\n",
       "        vertical-align: top;\n",
       "    }\n",
       "\n",
       "    .dataframe thead th {\n",
       "        text-align: right;\n",
       "    }\n",
       "</style>\n",
       "<table border=\"1\" class=\"dataframe\">\n",
       "  <thead>\n",
       "    <tr style=\"text-align: right;\">\n",
       "      <th></th>\n",
       "      <th>Destination_Cochin</th>\n",
       "      <th>Destination_Delhi</th>\n",
       "      <th>Destination_Hyderabad</th>\n",
       "      <th>Destination_Kolkata</th>\n",
       "      <th>Destination_New Delhi</th>\n",
       "    </tr>\n",
       "  </thead>\n",
       "  <tbody>\n",
       "    <tr>\n",
       "      <th>0</th>\n",
       "      <td>0</td>\n",
       "      <td>0</td>\n",
       "      <td>0</td>\n",
       "      <td>0</td>\n",
       "      <td>1</td>\n",
       "    </tr>\n",
       "    <tr>\n",
       "      <th>1</th>\n",
       "      <td>0</td>\n",
       "      <td>0</td>\n",
       "      <td>0</td>\n",
       "      <td>0</td>\n",
       "      <td>0</td>\n",
       "    </tr>\n",
       "    <tr>\n",
       "      <th>2</th>\n",
       "      <td>1</td>\n",
       "      <td>0</td>\n",
       "      <td>0</td>\n",
       "      <td>0</td>\n",
       "      <td>0</td>\n",
       "    </tr>\n",
       "    <tr>\n",
       "      <th>3</th>\n",
       "      <td>0</td>\n",
       "      <td>0</td>\n",
       "      <td>0</td>\n",
       "      <td>0</td>\n",
       "      <td>0</td>\n",
       "    </tr>\n",
       "    <tr>\n",
       "      <th>4</th>\n",
       "      <td>0</td>\n",
       "      <td>0</td>\n",
       "      <td>0</td>\n",
       "      <td>0</td>\n",
       "      <td>1</td>\n",
       "    </tr>\n",
       "  </tbody>\n",
       "</table>\n",
       "</div>"
      ],
      "text/plain": [
       "   Destination_Cochin  Destination_Delhi  Destination_Hyderabad  \\\n",
       "0                   0                  0                      0   \n",
       "1                   0                  0                      0   \n",
       "2                   1                  0                      0   \n",
       "3                   0                  0                      0   \n",
       "4                   0                  0                      0   \n",
       "\n",
       "   Destination_Kolkata  Destination_New Delhi  \n",
       "0                    0                      1  \n",
       "1                    0                      0  \n",
       "2                    0                      0  \n",
       "3                    0                      0  \n",
       "4                    0                      1  "
      ]
     },
     "execution_count": 27,
     "metadata": {},
     "output_type": "execute_result"
    }
   ],
   "source": [
    "Destination = df[['Destination']]\n",
    "Destination = pd.get_dummies(Destination,drop_first=True)\n",
    "Destination.head()"
   ]
  },
  {
   "cell_type": "markdown",
   "id": "38ea9789",
   "metadata": {
    "papermill": {
     "duration": 0.062672,
     "end_time": "2022-04-19T12:02:25.815082",
     "exception": false,
     "start_time": "2022-04-19T12:02:25.752410",
     "status": "completed"
    },
    "tags": []
   },
   "source": [
    "## Route"
   ]
  },
  {
   "cell_type": "code",
   "execution_count": 28,
   "id": "77211b6a",
   "metadata": {
    "execution": {
     "iopub.execute_input": "2022-04-19T12:02:25.948432Z",
     "iopub.status.busy": "2022-04-19T12:02:25.947811Z",
     "iopub.status.idle": "2022-04-19T12:02:25.950408Z",
     "shell.execute_reply": "2022-04-19T12:02:25.950843Z",
     "shell.execute_reply.started": "2022-04-19T11:37:13.611968Z"
    },
    "papermill": {
     "duration": 0.072461,
     "end_time": "2022-04-19T12:02:25.950981",
     "exception": false,
     "start_time": "2022-04-19T12:02:25.878520",
     "status": "completed"
    },
    "tags": []
   },
   "outputs": [
    {
     "data": {
      "text/plain": [
       "0                    BLR → DEL\n",
       "1        CCU → IXR → BBI → BLR\n",
       "2        DEL → LKO → BOM → COK\n",
       "3              CCU → NAG → BLR\n",
       "4              BLR → NAG → DEL\n",
       "                 ...          \n",
       "10678                CCU → BLR\n",
       "10679                CCU → BLR\n",
       "10680                BLR → DEL\n",
       "10681                BLR → DEL\n",
       "10682    DEL → GOI → BOM → COK\n",
       "Name: Route, Length: 10682, dtype: object"
      ]
     },
     "execution_count": 28,
     "metadata": {},
     "output_type": "execute_result"
    }
   ],
   "source": [
    "df['Route']"
   ]
  },
  {
   "cell_type": "code",
   "execution_count": 29,
   "id": "950774d5",
   "metadata": {
    "execution": {
     "iopub.execute_input": "2022-04-19T12:02:26.107207Z",
     "iopub.status.busy": "2022-04-19T12:02:26.106398Z",
     "iopub.status.idle": "2022-04-19T12:02:26.112043Z",
     "shell.execute_reply": "2022-04-19T12:02:26.111587Z",
     "shell.execute_reply.started": "2022-04-19T11:37:13.621640Z"
    },
    "papermill": {
     "duration": 0.096868,
     "end_time": "2022-04-19T12:02:26.112158",
     "exception": false,
     "start_time": "2022-04-19T12:02:26.015290",
     "status": "completed"
    },
    "tags": []
   },
   "outputs": [],
   "source": [
    "# Additional_info contains almost 85% no info\n",
    "# route and total_stops are the same like for this CCU → IXR → BBI → BLR\n",
    "# total stops are 2\n",
    "df.drop(['Route','Additional_Info'],axis=1,inplace=True)"
   ]
  },
  {
   "cell_type": "code",
   "execution_count": 30,
   "id": "1079568c",
   "metadata": {
    "execution": {
     "iopub.execute_input": "2022-04-19T12:02:26.260603Z",
     "iopub.status.busy": "2022-04-19T12:02:26.259918Z",
     "iopub.status.idle": "2022-04-19T12:02:26.262889Z",
     "shell.execute_reply": "2022-04-19T12:02:26.263343Z",
     "shell.execute_reply.started": "2022-04-19T11:37:13.630360Z"
    },
    "papermill": {
     "duration": 0.076598,
     "end_time": "2022-04-19T12:02:26.263489",
     "exception": false,
     "start_time": "2022-04-19T12:02:26.186891",
     "status": "completed"
    },
    "tags": []
   },
   "outputs": [
    {
     "data": {
      "text/plain": [
       "1 stop      5625\n",
       "non-stop    3491\n",
       "2 stops     1520\n",
       "3 stops       45\n",
       "4 stops        1\n",
       "Name: Total_Stops, dtype: int64"
      ]
     },
     "execution_count": 30,
     "metadata": {},
     "output_type": "execute_result"
    }
   ],
   "source": [
    "df['Total_Stops'].value_counts()"
   ]
  },
  {
   "cell_type": "code",
   "execution_count": 31,
   "id": "d002adb2",
   "metadata": {
    "execution": {
     "iopub.execute_input": "2022-04-19T12:02:26.417312Z",
     "iopub.status.busy": "2022-04-19T12:02:26.416568Z",
     "iopub.status.idle": "2022-04-19T12:02:26.433833Z",
     "shell.execute_reply": "2022-04-19T12:02:26.433352Z",
     "shell.execute_reply.started": "2022-04-19T11:37:13.650726Z"
    },
    "papermill": {
     "duration": 0.098326,
     "end_time": "2022-04-19T12:02:26.433951",
     "exception": false,
     "start_time": "2022-04-19T12:02:26.335625",
     "status": "completed"
    },
    "tags": []
   },
   "outputs": [],
   "source": [
    "df.replace({'non-stop':0,'1 stop':1,'2 stops':2,'3 stops':3,'4 stops':4},inplace=True)"
   ]
  },
  {
   "cell_type": "code",
   "execution_count": 32,
   "id": "ca6120f7",
   "metadata": {
    "execution": {
     "iopub.execute_input": "2022-04-19T12:02:26.578367Z",
     "iopub.status.busy": "2022-04-19T12:02:26.577821Z",
     "iopub.status.idle": "2022-04-19T12:02:26.584598Z",
     "shell.execute_reply": "2022-04-19T12:02:26.584026Z",
     "shell.execute_reply.started": "2022-04-19T11:37:13.690999Z"
    },
    "papermill": {
     "duration": 0.081956,
     "end_time": "2022-04-19T12:02:26.584715",
     "exception": false,
     "start_time": "2022-04-19T12:02:26.502759",
     "status": "completed"
    },
    "tags": []
   },
   "outputs": [],
   "source": [
    "df_new = pd.concat([df,Airline,Source,Destination],axis=1)\n",
    "df_new.drop(['Airline','Destination','Source'],axis=1,inplace=True)"
   ]
  },
  {
   "cell_type": "code",
   "execution_count": 33,
   "id": "67af0c60",
   "metadata": {
    "execution": {
     "iopub.execute_input": "2022-04-19T12:02:26.732804Z",
     "iopub.status.busy": "2022-04-19T12:02:26.731975Z",
     "iopub.status.idle": "2022-04-19T12:02:26.742483Z",
     "shell.execute_reply": "2022-04-19T12:02:26.742060Z",
     "shell.execute_reply.started": "2022-04-19T11:37:13.710662Z"
    },
    "papermill": {
     "duration": 0.088168,
     "end_time": "2022-04-19T12:02:26.742620",
     "exception": false,
     "start_time": "2022-04-19T12:02:26.654452",
     "status": "completed"
    },
    "tags": []
   },
   "outputs": [
    {
     "data": {
      "text/html": [
       "<div>\n",
       "<style scoped>\n",
       "    .dataframe tbody tr th:only-of-type {\n",
       "        vertical-align: middle;\n",
       "    }\n",
       "\n",
       "    .dataframe tbody tr th {\n",
       "        vertical-align: top;\n",
       "    }\n",
       "\n",
       "    .dataframe thead th {\n",
       "        text-align: right;\n",
       "    }\n",
       "</style>\n",
       "<table border=\"1\" class=\"dataframe\">\n",
       "  <thead>\n",
       "    <tr style=\"text-align: right;\">\n",
       "      <th></th>\n",
       "      <th>Total_Stops</th>\n",
       "      <th>Price</th>\n",
       "      <th>journey_day</th>\n",
       "      <th>journey_month</th>\n",
       "      <th>dep_hr</th>\n",
       "      <th>dep_min</th>\n",
       "      <th>Arr_hr</th>\n",
       "      <th>Arr_min</th>\n",
       "      <th>Duration_hrs</th>\n",
       "      <th>Duration_mins</th>\n",
       "      <th>Airline_Air India</th>\n",
       "      <th>Airline_GoAir</th>\n",
       "      <th>Airline_IndiGo</th>\n",
       "      <th>Airline_Jet Airways</th>\n",
       "      <th>Airline_Jet Airways Business</th>\n",
       "      <th>Airline_Multiple carriers</th>\n",
       "      <th>Airline_Multiple carriers Premium economy</th>\n",
       "      <th>Airline_SpiceJet</th>\n",
       "      <th>Airline_Trujet</th>\n",
       "      <th>Airline_Vistara</th>\n",
       "      <th>Airline_Vistara Premium economy</th>\n",
       "      <th>Source_Chennai</th>\n",
       "      <th>Source_Delhi</th>\n",
       "      <th>Source_Kolkata</th>\n",
       "      <th>Source_Mumbai</th>\n",
       "      <th>Destination_Cochin</th>\n",
       "      <th>Destination_Delhi</th>\n",
       "      <th>Destination_Hyderabad</th>\n",
       "      <th>Destination_Kolkata</th>\n",
       "      <th>Destination_New Delhi</th>\n",
       "    </tr>\n",
       "  </thead>\n",
       "  <tbody>\n",
       "    <tr>\n",
       "      <th>0</th>\n",
       "      <td>0</td>\n",
       "      <td>3897</td>\n",
       "      <td>24</td>\n",
       "      <td>3</td>\n",
       "      <td>22</td>\n",
       "      <td>20</td>\n",
       "      <td>1</td>\n",
       "      <td>10</td>\n",
       "      <td>2</td>\n",
       "      <td>50</td>\n",
       "      <td>0</td>\n",
       "      <td>0</td>\n",
       "      <td>1</td>\n",
       "      <td>0</td>\n",
       "      <td>0</td>\n",
       "      <td>0</td>\n",
       "      <td>0</td>\n",
       "      <td>0</td>\n",
       "      <td>0</td>\n",
       "      <td>0</td>\n",
       "      <td>0</td>\n",
       "      <td>0</td>\n",
       "      <td>0</td>\n",
       "      <td>0</td>\n",
       "      <td>0</td>\n",
       "      <td>0</td>\n",
       "      <td>0</td>\n",
       "      <td>0</td>\n",
       "      <td>0</td>\n",
       "      <td>1</td>\n",
       "    </tr>\n",
       "    <tr>\n",
       "      <th>1</th>\n",
       "      <td>2</td>\n",
       "      <td>7662</td>\n",
       "      <td>1</td>\n",
       "      <td>5</td>\n",
       "      <td>5</td>\n",
       "      <td>50</td>\n",
       "      <td>13</td>\n",
       "      <td>15</td>\n",
       "      <td>7</td>\n",
       "      <td>25</td>\n",
       "      <td>1</td>\n",
       "      <td>0</td>\n",
       "      <td>0</td>\n",
       "      <td>0</td>\n",
       "      <td>0</td>\n",
       "      <td>0</td>\n",
       "      <td>0</td>\n",
       "      <td>0</td>\n",
       "      <td>0</td>\n",
       "      <td>0</td>\n",
       "      <td>0</td>\n",
       "      <td>0</td>\n",
       "      <td>0</td>\n",
       "      <td>1</td>\n",
       "      <td>0</td>\n",
       "      <td>0</td>\n",
       "      <td>0</td>\n",
       "      <td>0</td>\n",
       "      <td>0</td>\n",
       "      <td>0</td>\n",
       "    </tr>\n",
       "    <tr>\n",
       "      <th>2</th>\n",
       "      <td>2</td>\n",
       "      <td>13882</td>\n",
       "      <td>9</td>\n",
       "      <td>6</td>\n",
       "      <td>9</td>\n",
       "      <td>25</td>\n",
       "      <td>4</td>\n",
       "      <td>25</td>\n",
       "      <td>19</td>\n",
       "      <td>0</td>\n",
       "      <td>0</td>\n",
       "      <td>0</td>\n",
       "      <td>0</td>\n",
       "      <td>1</td>\n",
       "      <td>0</td>\n",
       "      <td>0</td>\n",
       "      <td>0</td>\n",
       "      <td>0</td>\n",
       "      <td>0</td>\n",
       "      <td>0</td>\n",
       "      <td>0</td>\n",
       "      <td>0</td>\n",
       "      <td>1</td>\n",
       "      <td>0</td>\n",
       "      <td>0</td>\n",
       "      <td>1</td>\n",
       "      <td>0</td>\n",
       "      <td>0</td>\n",
       "      <td>0</td>\n",
       "      <td>0</td>\n",
       "    </tr>\n",
       "    <tr>\n",
       "      <th>3</th>\n",
       "      <td>1</td>\n",
       "      <td>6218</td>\n",
       "      <td>12</td>\n",
       "      <td>5</td>\n",
       "      <td>18</td>\n",
       "      <td>5</td>\n",
       "      <td>23</td>\n",
       "      <td>30</td>\n",
       "      <td>5</td>\n",
       "      <td>25</td>\n",
       "      <td>0</td>\n",
       "      <td>0</td>\n",
       "      <td>1</td>\n",
       "      <td>0</td>\n",
       "      <td>0</td>\n",
       "      <td>0</td>\n",
       "      <td>0</td>\n",
       "      <td>0</td>\n",
       "      <td>0</td>\n",
       "      <td>0</td>\n",
       "      <td>0</td>\n",
       "      <td>0</td>\n",
       "      <td>0</td>\n",
       "      <td>1</td>\n",
       "      <td>0</td>\n",
       "      <td>0</td>\n",
       "      <td>0</td>\n",
       "      <td>0</td>\n",
       "      <td>0</td>\n",
       "      <td>0</td>\n",
       "    </tr>\n",
       "    <tr>\n",
       "      <th>4</th>\n",
       "      <td>1</td>\n",
       "      <td>13302</td>\n",
       "      <td>1</td>\n",
       "      <td>3</td>\n",
       "      <td>16</td>\n",
       "      <td>50</td>\n",
       "      <td>21</td>\n",
       "      <td>35</td>\n",
       "      <td>4</td>\n",
       "      <td>45</td>\n",
       "      <td>0</td>\n",
       "      <td>0</td>\n",
       "      <td>1</td>\n",
       "      <td>0</td>\n",
       "      <td>0</td>\n",
       "      <td>0</td>\n",
       "      <td>0</td>\n",
       "      <td>0</td>\n",
       "      <td>0</td>\n",
       "      <td>0</td>\n",
       "      <td>0</td>\n",
       "      <td>0</td>\n",
       "      <td>0</td>\n",
       "      <td>0</td>\n",
       "      <td>0</td>\n",
       "      <td>0</td>\n",
       "      <td>0</td>\n",
       "      <td>0</td>\n",
       "      <td>0</td>\n",
       "      <td>1</td>\n",
       "    </tr>\n",
       "  </tbody>\n",
       "</table>\n",
       "</div>"
      ],
      "text/plain": [
       "   Total_Stops  Price  journey_day  journey_month  dep_hr  dep_min  Arr_hr  \\\n",
       "0            0   3897           24              3      22       20       1   \n",
       "1            2   7662            1              5       5       50      13   \n",
       "2            2  13882            9              6       9       25       4   \n",
       "3            1   6218           12              5      18        5      23   \n",
       "4            1  13302            1              3      16       50      21   \n",
       "\n",
       "   Arr_min  Duration_hrs  Duration_mins  Airline_Air India  Airline_GoAir  \\\n",
       "0       10             2             50                  0              0   \n",
       "1       15             7             25                  1              0   \n",
       "2       25            19              0                  0              0   \n",
       "3       30             5             25                  0              0   \n",
       "4       35             4             45                  0              0   \n",
       "\n",
       "   Airline_IndiGo  Airline_Jet Airways  Airline_Jet Airways Business  \\\n",
       "0               1                    0                             0   \n",
       "1               0                    0                             0   \n",
       "2               0                    1                             0   \n",
       "3               1                    0                             0   \n",
       "4               1                    0                             0   \n",
       "\n",
       "   Airline_Multiple carriers  Airline_Multiple carriers Premium economy  \\\n",
       "0                          0                                          0   \n",
       "1                          0                                          0   \n",
       "2                          0                                          0   \n",
       "3                          0                                          0   \n",
       "4                          0                                          0   \n",
       "\n",
       "   Airline_SpiceJet  Airline_Trujet  Airline_Vistara  \\\n",
       "0                 0               0                0   \n",
       "1                 0               0                0   \n",
       "2                 0               0                0   \n",
       "3                 0               0                0   \n",
       "4                 0               0                0   \n",
       "\n",
       "   Airline_Vistara Premium economy  Source_Chennai  Source_Delhi  \\\n",
       "0                                0               0             0   \n",
       "1                                0               0             0   \n",
       "2                                0               0             1   \n",
       "3                                0               0             0   \n",
       "4                                0               0             0   \n",
       "\n",
       "   Source_Kolkata  Source_Mumbai  Destination_Cochin  Destination_Delhi  \\\n",
       "0               0              0                   0                  0   \n",
       "1               1              0                   0                  0   \n",
       "2               0              0                   1                  0   \n",
       "3               1              0                   0                  0   \n",
       "4               0              0                   0                  0   \n",
       "\n",
       "   Destination_Hyderabad  Destination_Kolkata  Destination_New Delhi  \n",
       "0                      0                    0                      1  \n",
       "1                      0                    0                      0  \n",
       "2                      0                    0                      0  \n",
       "3                      0                    0                      0  \n",
       "4                      0                    0                      1  "
      ]
     },
     "execution_count": 33,
     "metadata": {},
     "output_type": "execute_result"
    }
   ],
   "source": [
    "df_new.head()"
   ]
  },
  {
   "cell_type": "code",
   "execution_count": 34,
   "id": "244dc3d6",
   "metadata": {
    "execution": {
     "iopub.execute_input": "2022-04-19T12:02:26.896308Z",
     "iopub.status.busy": "2022-04-19T12:02:26.895659Z",
     "iopub.status.idle": "2022-04-19T12:02:26.898587Z",
     "shell.execute_reply": "2022-04-19T12:02:26.899049Z",
     "shell.execute_reply.started": "2022-04-19T11:37:13.749579Z"
    },
    "papermill": {
     "duration": 0.08268,
     "end_time": "2022-04-19T12:02:26.899189",
     "exception": false,
     "start_time": "2022-04-19T12:02:26.816509",
     "status": "completed"
    },
    "tags": []
   },
   "outputs": [
    {
     "data": {
      "text/plain": [
       "(10682, 30)"
      ]
     },
     "execution_count": 34,
     "metadata": {},
     "output_type": "execute_result"
    }
   ],
   "source": [
    "df_new.shape #data_train"
   ]
  },
  {
   "cell_type": "code",
   "execution_count": 35,
   "id": "9ed42f27",
   "metadata": {
    "execution": {
     "iopub.execute_input": "2022-04-19T12:02:27.046989Z",
     "iopub.status.busy": "2022-04-19T12:02:27.046098Z",
     "iopub.status.idle": "2022-04-19T12:02:27.052619Z",
     "shell.execute_reply": "2022-04-19T12:02:27.053049Z",
     "shell.execute_reply.started": "2022-04-19T11:37:13.772499Z"
    },
    "papermill": {
     "duration": 0.082555,
     "end_time": "2022-04-19T12:02:27.053185",
     "exception": false,
     "start_time": "2022-04-19T12:02:26.970630",
     "status": "completed"
    },
    "tags": []
   },
   "outputs": [],
   "source": [
    "df_new.dropna(axis=0,inplace=True)"
   ]
  },
  {
   "cell_type": "markdown",
   "id": "7e03de48",
   "metadata": {
    "papermill": {
     "duration": 0.070261,
     "end_time": "2022-04-19T12:02:27.193326",
     "exception": false,
     "start_time": "2022-04-19T12:02:27.123065",
     "status": "completed"
    },
    "tags": []
   },
   "source": [
    "## Feature Selection\n",
    "Finding out the best feature which will contribute and have good relation with target variable. Following are some of the feature selection methods,\n",
    "\n",
    "1. <font color='green'> Heatmap </font>\n",
    "2. <font color='green'> feature_importance_ </font>\n",
    "3. <font color='green'> SelectKBest </font>"
   ]
  },
  {
   "cell_type": "code",
   "execution_count": 36,
   "id": "711eadfb",
   "metadata": {
    "execution": {
     "iopub.execute_input": "2022-04-19T12:02:27.333461Z",
     "iopub.status.busy": "2022-04-19T12:02:27.332024Z",
     "iopub.status.idle": "2022-04-19T12:02:27.336174Z",
     "shell.execute_reply": "2022-04-19T12:02:27.336608Z",
     "shell.execute_reply.started": "2022-04-19T11:37:13.788151Z"
    },
    "papermill": {
     "duration": 0.073959,
     "end_time": "2022-04-19T12:02:27.336747",
     "exception": false,
     "start_time": "2022-04-19T12:02:27.262788",
     "status": "completed"
    },
    "tags": []
   },
   "outputs": [],
   "source": [
    "X = df_new.drop(['Price'],axis=1)\n",
    "y = df_new['Price']"
   ]
  },
  {
   "cell_type": "code",
   "execution_count": 37,
   "id": "0f102256",
   "metadata": {
    "execution": {
     "iopub.execute_input": "2022-04-19T12:02:27.471338Z",
     "iopub.status.busy": "2022-04-19T12:02:27.470549Z",
     "iopub.status.idle": "2022-04-19T12:02:28.602077Z",
     "shell.execute_reply": "2022-04-19T12:02:28.602820Z",
     "shell.execute_reply.started": "2022-04-19T11:37:13.800126Z"
    },
    "papermill": {
     "duration": 1.199858,
     "end_time": "2022-04-19T12:02:28.603129",
     "exception": false,
     "start_time": "2022-04-19T12:02:27.403271",
     "status": "completed"
    },
    "tags": []
   },
   "outputs": [
    {
     "data": {
      "image/png": "[encoded data removed]",
      "text/plain": [
       "<Figure size 1296x1296 with 2 Axes>"
      ]
     },
     "metadata": {},
     "output_type": "display_data"
    }
   ],
   "source": [
    "plt.figure(figsize = (18,18))\n",
    "sns.heatmap(df.corr(), annot = True, cmap = \"RdYlGn\")\n",
    "\n",
    "plt.show()"
   ]
  },
  {
   "cell_type": "code",
   "execution_count": 38,
   "id": "02361f1d",
   "metadata": {
    "execution": {
     "iopub.execute_input": "2022-04-19T12:02:28.897482Z",
     "iopub.status.busy": "2022-04-19T12:02:28.895440Z",
     "iopub.status.idle": "2022-04-19T12:02:31.812936Z",
     "shell.execute_reply": "2022-04-19T12:02:31.813453Z",
     "shell.execute_reply.started": "2022-04-19T11:37:14.924868Z"
    },
    "papermill": {
     "duration": 3.067476,
     "end_time": "2022-04-19T12:02:31.813638",
     "exception": false,
     "start_time": "2022-04-19T12:02:28.746162",
     "status": "completed"
    },
    "tags": []
   },
   "outputs": [
    {
     "data": {
      "text/plain": [
       "ExtraTreesRegressor()"
      ]
     },
     "execution_count": 38,
     "metadata": {},
     "output_type": "execute_result"
    }
   ],
   "source": [
    "# Important Feature using ExtraTreesRegressor\n",
    "from sklearn.ensemble import ExtraTreesRegressor\n",
    "selection = ExtraTreesRegressor()\n",
    "selection.fit(X,y)"
   ]
  },
  {
   "cell_type": "code",
   "execution_count": 39,
   "id": "50aab62c",
   "metadata": {
    "execution": {
     "iopub.execute_input": "2022-04-19T12:02:31.953509Z",
     "iopub.status.busy": "2022-04-19T12:02:31.952751Z",
     "iopub.status.idle": "2022-04-19T12:02:31.981216Z",
     "shell.execute_reply": "2022-04-19T12:02:31.981657Z",
     "shell.execute_reply.started": "2022-04-19T11:37:17.683429Z"
    },
    "papermill": {
     "duration": 0.100092,
     "end_time": "2022-04-19T12:02:31.981794",
     "exception": false,
     "start_time": "2022-04-19T12:02:31.881702",
     "status": "completed"
    },
    "tags": []
   },
   "outputs": [
    {
     "name": "stdout",
     "output_type": "stream",
     "text": [
      "[2.17538133e-01 1.45291571e-01 5.19344551e-02 2.41224079e-02\n",
      " 2.16442077e-02 2.82991689e-02 2.00327019e-02 1.24933640e-01\n",
      " 1.71635757e-02 9.79157448e-03 1.77228133e-03 1.82785664e-02\n",
      " 1.37186856e-01 6.69820944e-02 2.07134063e-02 8.62734378e-04\n",
      " 3.07258879e-03 1.20769412e-04 5.27578032e-03 8.80721764e-05\n",
      " 5.05444350e-04 1.56328993e-02 3.38247318e-03 8.10922064e-03\n",
      " 6.06360740e-03 1.82123239e-02 7.51123656e-03 5.64925810e-04\n",
      " 2.49132833e-02]\n"
     ]
    }
   ],
   "source": [
    "print(selection.feature_importances_)"
   ]
  },
  {
   "cell_type": "code",
   "execution_count": 40,
   "id": "58b6cf96",
   "metadata": {
    "execution": {
     "iopub.execute_input": "2022-04-19T12:02:32.124889Z",
     "iopub.status.busy": "2022-04-19T12:02:32.124074Z",
     "iopub.status.idle": "2022-04-19T12:02:32.475619Z",
     "shell.execute_reply": "2022-04-19T12:02:32.476286Z",
     "shell.execute_reply.started": "2022-04-19T11:37:17.717142Z"
    },
    "papermill": {
     "duration": 0.426142,
     "end_time": "2022-04-19T12:02:32.476463",
     "exception": false,
     "start_time": "2022-04-19T12:02:32.050321",
     "status": "completed"
    },
    "tags": []
   },
   "outputs": [
    {
     "data": {
      "image/png": "[encoded data removed]",
      "text/plain": [
       "<Figure size 864x576 with 1 Axes>"
      ]
     },
     "metadata": {},
     "output_type": "display_data"
    }
   ],
   "source": [
    "#plot graph of feature importances for better visualization\n",
    "plt.figure(figsize = (12,8))\n",
    "feat_importances = pd.Series(selection.feature_importances_, index=X.columns)\n",
    "feat_importances.nlargest(20).plot(kind='barh')\n",
    "plt.show()"
   ]
  },
  {
   "cell_type": "markdown",
   "id": "2dc69822",
   "metadata": {
    "papermill": {
     "duration": 0.074911,
     "end_time": "2022-04-19T12:02:32.627051",
     "exception": false,
     "start_time": "2022-04-19T12:02:32.552140",
     "status": "completed"
    },
    "tags": []
   },
   "source": [
    "# Model Building \n",
    "Random Forest"
   ]
  },
  {
   "cell_type": "code",
   "execution_count": 41,
   "id": "3fc02ba1",
   "metadata": {
    "execution": {
     "iopub.execute_input": "2022-04-19T12:02:32.784238Z",
     "iopub.status.busy": "2022-04-19T12:02:32.783399Z",
     "iopub.status.idle": "2022-04-19T12:02:32.789028Z",
     "shell.execute_reply": "2022-04-19T12:02:32.789446Z",
     "shell.execute_reply.started": "2022-04-19T11:37:18.203504Z"
    },
    "papermill": {
     "duration": 0.087658,
     "end_time": "2022-04-19T12:02:32.789640",
     "exception": false,
     "start_time": "2022-04-19T12:02:32.701982",
     "status": "completed"
    },
    "tags": []
   },
   "outputs": [],
   "source": [
    "from sklearn.model_selection import train_test_split\n",
    "X_train, X_test, y_train, y_test = train_test_split(X, y, test_size = 0.2, random_state = 42)"
   ]
  },
  {
   "cell_type": "code",
   "execution_count": 42,
   "id": "b389f64a",
   "metadata": {
    "execution": {
     "iopub.execute_input": "2022-04-19T12:02:32.938917Z",
     "iopub.status.busy": "2022-04-19T12:02:32.938196Z",
     "iopub.status.idle": "2022-04-19T12:02:36.415445Z",
     "shell.execute_reply": "2022-04-19T12:02:36.416014Z",
     "shell.execute_reply.started": "2022-04-19T11:37:18.221367Z"
    },
    "papermill": {
     "duration": 3.554152,
     "end_time": "2022-04-19T12:02:36.416183",
     "exception": false,
     "start_time": "2022-04-19T12:02:32.862031",
     "status": "completed"
    },
    "tags": []
   },
   "outputs": [
    {
     "data": {
      "text/plain": [
       "XGBRegressor(base_score=0.5, booster='gbtree', colsample_bylevel=1,\n",
       "             colsample_bynode=1, colsample_bytree=1, enable_categorical=False,\n",
       "             gamma=0, gpu_id=-1, importance_type=None,\n",
       "             interaction_constraints='', learning_rate=0.300000012,\n",
       "             max_delta_step=0, max_depth=6, min_child_weight=1, missing=nan,\n",
       "             monotone_constraints='()', n_estimators=100, n_jobs=2,\n",
       "             num_parallel_tree=1, predictor='auto', random_state=0, reg_alpha=0,\n",
       "             reg_lambda=1, scale_pos_weight=1, subsample=1, tree_method='exact',\n",
       "             validate_parameters=1, verbosity=None)"
      ]
     },
     "execution_count": 42,
     "metadata": {},
     "output_type": "execute_result"
    }
   ],
   "source": [
    "from xgboost import XGBRegressor\n",
    "from sklearn import metrics\n",
    "from sklearn.model_selection import RandomizedSearchCV\n",
    "\n",
    "xgb = XGBRegressor()\n",
    "\n",
    "xgb.fit(X_train, y_train)"
   ]
  },
  {
   "cell_type": "code",
   "execution_count": 43,
   "id": "e76be4fb",
   "metadata": {
    "execution": {
     "iopub.execute_input": "2022-04-19T12:02:36.576985Z",
     "iopub.status.busy": "2022-04-19T12:02:36.576116Z",
     "iopub.status.idle": "2022-04-19T12:02:36.618803Z",
     "shell.execute_reply": "2022-04-19T12:02:36.619646Z",
     "shell.execute_reply.started": "2022-04-19T11:37:21.817266Z"
    },
    "papermill": {
     "duration": 0.125306,
     "end_time": "2022-04-19T12:02:36.619832",
     "exception": false,
     "start_time": "2022-04-19T12:02:36.494526",
     "status": "completed"
    },
    "tags": []
   },
   "outputs": [
    {
     "name": "stdout",
     "output_type": "stream",
     "text": [
      "Training Score :  0.9353790824683148\n",
      "Testing Score :  0.8463321179731759\n"
     ]
    }
   ],
   "source": [
    "y_pred = xgb.predict(X_test)\n",
    "print(\"Training Score : \",xgb.score(X_train, y_train))\n",
    "print(\"Testing Score : \",xgb.score(X_test, y_test))"
   ]
  },
  {
   "cell_type": "code",
   "execution_count": 44,
   "id": "7d3d5368",
   "metadata": {
    "execution": {
     "iopub.execute_input": "2022-04-19T12:02:36.781614Z",
     "iopub.status.busy": "2022-04-19T12:02:36.780726Z",
     "iopub.status.idle": "2022-04-19T12:02:37.115234Z",
     "shell.execute_reply": "2022-04-19T12:02:37.114311Z",
     "shell.execute_reply.started": "2022-04-19T11:37:21.864739Z"
    },
    "papermill": {
     "duration": 0.416327,
     "end_time": "2022-04-19T12:02:37.115359",
     "exception": false,
     "start_time": "2022-04-19T12:02:36.699032",
     "status": "completed"
    },
    "tags": []
   },
   "outputs": [
    {
     "data": {
      "image/png": "[encoded data removed]",
      "text/plain": [
       "<Figure size 432x288 with 1 Axes>"
      ]
     },
     "metadata": {},
     "output_type": "display_data"
    }
   ],
   "source": [
    "sns.distplot(y_test-y_pred)\n",
    "plt.show()"
   ]
  },
  {
   "cell_type": "code",
   "execution_count": 45,
   "id": "6acc2a97",
   "metadata": {
    "execution": {
     "iopub.execute_input": "2022-04-19T12:02:37.264691Z",
     "iopub.status.busy": "2022-04-19T12:02:37.263874Z",
     "iopub.status.idle": "2022-04-19T12:02:37.488438Z",
     "shell.execute_reply": "2022-04-19T12:02:37.488972Z",
     "shell.execute_reply.started": "2022-04-19T11:37:22.224118Z"
    },
    "papermill": {
     "duration": 0.30174,
     "end_time": "2022-04-19T12:02:37.489138",
     "exception": false,
     "start_time": "2022-04-19T12:02:37.187398",
     "status": "completed"
    },
    "tags": []
   },
   "outputs": [
    {
     "data": {
      "image/png": "[encoded data removed]",
      "text/plain": [
       "<Figure size 432x288 with 1 Axes>"
      ]
     },
     "metadata": {},
     "output_type": "display_data"
    }
   ],
   "source": [
    "plt.scatter(y_test, y_pred, alpha = 0.5)\n",
    "plt.xlabel(\"y_test\")\n",
    "plt.ylabel(\"y_pred\")\n",
    "plt.show()"
   ]
  },
  {
   "cell_type": "code",
   "execution_count": 46,
   "id": "1da1923c",
   "metadata": {
    "execution": {
     "iopub.execute_input": "2022-04-19T12:02:37.641016Z",
     "iopub.status.busy": "2022-04-19T12:02:37.640130Z",
     "iopub.status.idle": "2022-04-19T12:02:37.646393Z",
     "shell.execute_reply": "2022-04-19T12:02:37.645828Z",
     "shell.execute_reply.started": "2022-04-19T11:42:39.032630Z"
    },
    "papermill": {
     "duration": 0.084269,
     "end_time": "2022-04-19T12:02:37.646561",
     "exception": false,
     "start_time": "2022-04-19T12:02:37.562292",
     "status": "completed"
    },
    "tags": []
   },
   "outputs": [
    {
     "name": "stdout",
     "output_type": "stream",
     "text": [
      "MAE: 1135.7739136142043\n",
      "MSE: 3313395.5274770306\n",
      "RMSE: 1820.2734760131596\n"
     ]
    }
   ],
   "source": [
    "from sklearn import metrics\n",
    "print('MAE:', metrics.mean_absolute_error(y_test, y_pred))\n",
    "print('MSE:', metrics.mean_squared_error(y_test, y_pred))\n",
    "print('RMSE:', np.sqrt(metrics.mean_squared_error(y_test, y_pred)))"
   ]
  },
  {
   "cell_type": "code",
   "execution_count": 47,
   "id": "36b7d99e",
   "metadata": {
    "execution": {
     "iopub.execute_input": "2022-04-19T12:02:37.797863Z",
     "iopub.status.busy": "2022-04-19T12:02:37.795686Z",
     "iopub.status.idle": "2022-04-19T12:02:37.801367Z",
     "shell.execute_reply": "2022-04-19T12:02:37.801927Z",
     "shell.execute_reply.started": "2022-04-19T11:37:22.465206Z"
    },
    "papermill": {
     "duration": 0.081597,
     "end_time": "2022-04-19T12:02:37.802119",
     "exception": false,
     "start_time": "2022-04-19T12:02:37.720522",
     "status": "completed"
    },
    "tags": []
   },
   "outputs": [
    {
     "name": "stdout",
     "output_type": "stream",
     "text": [
      "R2 Score: 0.8463321179731759\n"
     ]
    }
   ],
   "source": [
    "print(\"R2 Score:\",metrics.r2_score(y_test, y_pred))"
   ]
  },
  {
   "cell_type": "markdown",
   "id": "758f010f",
   "metadata": {
    "papermill": {
     "duration": 0.072612,
     "end_time": "2022-04-19T12:02:37.949984",
     "exception": false,
     "start_time": "2022-04-19T12:02:37.877372",
     "status": "completed"
    },
    "tags": []
   },
   "source": [
    "# Hyperparameter Tuning\n",
    "Choose following method for hyperparameter tuning\n",
    "1. RandomizedSearchCV --> Fast\n",
    "2. GridSearchCV"
   ]
  },
  {
   "cell_type": "code",
   "execution_count": 48,
   "id": "92b9c388",
   "metadata": {
    "execution": {
     "iopub.execute_input": "2022-04-19T12:02:38.101763Z",
     "iopub.status.busy": "2022-04-19T12:02:38.100854Z",
     "iopub.status.idle": "2022-04-19T12:02:38.102647Z",
     "shell.execute_reply": "2022-04-19T12:02:38.103126Z",
     "shell.execute_reply.started": "2022-04-19T11:37:22.474786Z"
    },
    "papermill": {
     "duration": 0.080194,
     "end_time": "2022-04-19T12:02:38.103257",
     "exception": false,
     "start_time": "2022-04-19T12:02:38.023063",
     "status": "completed"
    },
    "tags": []
   },
   "outputs": [],
   "source": [
    "from sklearn.model_selection import RandomizedSearchCV"
   ]
  },
  {
   "cell_type": "code",
   "execution_count": 49,
   "id": "136c8334",
   "metadata": {
    "execution": {
     "iopub.execute_input": "2022-04-19T12:02:38.254620Z",
     "iopub.status.busy": "2022-04-19T12:02:38.253878Z",
     "iopub.status.idle": "2022-04-19T12:02:38.256034Z",
     "shell.execute_reply": "2022-04-19T12:02:38.256479Z",
     "shell.execute_reply.started": "2022-04-19T11:37:22.482314Z"
    },
    "papermill": {
     "duration": 0.080466,
     "end_time": "2022-04-19T12:02:38.256633",
     "exception": false,
     "start_time": "2022-04-19T12:02:38.176167",
     "status": "completed"
    },
    "tags": []
   },
   "outputs": [],
   "source": [
    "hyperparameter_grid = {\n",
    "    'n_estimators': [100, 400, 800],\n",
    "    'max_depth': [3, 6, 9],\n",
    "    'learning_rate': [0.05, 0.1, 0.01,0.000],\n",
    "    'min_child_weight': [1, 10, 100]\n",
    "    }\n",
    "\n",
    "new_xgb = XGBRegressor()"
   ]
  },
  {
   "cell_type": "code",
   "execution_count": 50,
   "id": "79f1665e",
   "metadata": {
    "execution": {
     "iopub.execute_input": "2022-04-19T12:02:38.412031Z",
     "iopub.status.busy": "2022-04-19T12:02:38.411076Z",
     "iopub.status.idle": "2022-04-19T12:06:25.007585Z",
     "shell.execute_reply": "2022-04-19T12:06:25.007961Z",
     "shell.execute_reply.started": "2022-04-19T11:37:22.492131Z"
    },
    "papermill": {
     "duration": 226.678851,
     "end_time": "2022-04-19T12:06:25.008125",
     "exception": false,
     "start_time": "2022-04-19T12:02:38.329274",
     "status": "completed"
    },
    "tags": []
   },
   "outputs": [
    {
     "name": "stdout",
     "output_type": "stream",
     "text": [
      "Fitting 5 folds for each of 10 candidates, totalling 50 fits\n",
      "[CV] END learning_rate=0.01, max_depth=9, min_child_weight=10, n_estimators=800; total time=  11.7s\n",
      "[CV] END learning_rate=0.01, max_depth=9, min_child_weight=10, n_estimators=800; total time=  12.2s\n",
      "[CV] END learning_rate=0.01, max_depth=9, min_child_weight=10, n_estimators=800; total time=  11.5s\n",
      "[CV] END learning_rate=0.01, max_depth=9, min_child_weight=10, n_estimators=800; total time=  12.1s\n",
      "[CV] END learning_rate=0.01, max_depth=9, min_child_weight=10, n_estimators=800; total time=  12.6s\n",
      "[CV] END learning_rate=0.05, max_depth=6, min_child_weight=1, n_estimators=400; total time=   3.3s\n",
      "[CV] END learning_rate=0.05, max_depth=6, min_child_weight=1, n_estimators=400; total time=   3.3s\n",
      "[CV] END learning_rate=0.05, max_depth=6, min_child_weight=1, n_estimators=400; total time=   3.9s\n",
      "[CV] END learning_rate=0.05, max_depth=6, min_child_weight=1, n_estimators=400; total time=   3.2s\n",
      "[CV] END learning_rate=0.05, max_depth=6, min_child_weight=1, n_estimators=400; total time=   3.4s\n",
      "[CV] END learning_rate=0.05, max_depth=3, min_child_weight=10, n_estimators=400; total time=   1.7s\n",
      "[CV] END learning_rate=0.05, max_depth=3, min_child_weight=10, n_estimators=400; total time=   2.2s\n",
      "[CV] END learning_rate=0.05, max_depth=3, min_child_weight=10, n_estimators=400; total time=   1.7s\n",
      "[CV] END learning_rate=0.05, max_depth=3, min_child_weight=10, n_estimators=400; total time=   1.6s\n",
      "[CV] END learning_rate=0.05, max_depth=3, min_child_weight=10, n_estimators=400; total time=   1.6s\n",
      "[CV] END learning_rate=0.0, max_depth=3, min_child_weight=1, n_estimators=800; total time=   4.0s\n",
      "[CV] END learning_rate=0.0, max_depth=3, min_child_weight=1, n_estimators=800; total time=   3.7s\n",
      "[CV] END learning_rate=0.0, max_depth=3, min_child_weight=1, n_estimators=800; total time=   3.2s\n",
      "[CV] END learning_rate=0.0, max_depth=3, min_child_weight=1, n_estimators=800; total time=   3.3s\n",
      "[CV] END learning_rate=0.0, max_depth=3, min_child_weight=1, n_estimators=800; total time=   3.6s\n",
      "[CV] END learning_rate=0.01, max_depth=3, min_child_weight=100, n_estimators=800; total time=   3.2s\n",
      "[CV] END learning_rate=0.01, max_depth=3, min_child_weight=100, n_estimators=800; total time=   3.3s\n",
      "[CV] END learning_rate=0.01, max_depth=3, min_child_weight=100, n_estimators=800; total time=   3.6s\n",
      "[CV] END learning_rate=0.01, max_depth=3, min_child_weight=100, n_estimators=800; total time=   3.3s\n",
      "[CV] END learning_rate=0.01, max_depth=3, min_child_weight=100, n_estimators=800; total time=   3.2s\n",
      "[CV] END learning_rate=0.01, max_depth=6, min_child_weight=10, n_estimators=400; total time=   4.7s\n",
      "[CV] END learning_rate=0.01, max_depth=6, min_child_weight=10, n_estimators=400; total time=   3.5s\n",
      "[CV] END learning_rate=0.01, max_depth=6, min_child_weight=10, n_estimators=400; total time=   3.5s\n",
      "[CV] END learning_rate=0.01, max_depth=6, min_child_weight=10, n_estimators=400; total time=   3.9s\n",
      "[CV] END learning_rate=0.01, max_depth=6, min_child_weight=10, n_estimators=400; total time=   3.5s\n",
      "[CV] END learning_rate=0.1, max_depth=3, min_child_weight=10, n_estimators=100; total time=   0.4s\n",
      "[CV] END learning_rate=0.1, max_depth=3, min_child_weight=10, n_estimators=100; total time=   0.4s\n",
      "[CV] END learning_rate=0.1, max_depth=3, min_child_weight=10, n_estimators=100; total time=   0.4s\n",
      "[CV] END learning_rate=0.1, max_depth=3, min_child_weight=10, n_estimators=100; total time=   0.4s\n",
      "[CV] END learning_rate=0.1, max_depth=3, min_child_weight=10, n_estimators=100; total time=   0.4s\n",
      "[CV] END learning_rate=0.1, max_depth=9, min_child_weight=1, n_estimators=100; total time=   1.4s\n",
      "[CV] END learning_rate=0.1, max_depth=9, min_child_weight=1, n_estimators=100; total time=   1.4s\n",
      "[CV] END learning_rate=0.1, max_depth=9, min_child_weight=1, n_estimators=100; total time=   1.4s\n",
      "[CV] END learning_rate=0.1, max_depth=9, min_child_weight=1, n_estimators=100; total time=   1.7s\n",
      "[CV] END learning_rate=0.1, max_depth=9, min_child_weight=1, n_estimators=100; total time=   1.4s\n",
      "[CV] END learning_rate=0.0, max_depth=6, min_child_weight=10, n_estimators=800; total time=   7.8s\n",
      "[CV] END learning_rate=0.0, max_depth=6, min_child_weight=10, n_estimators=800; total time=   7.4s\n",
      "[CV] END learning_rate=0.0, max_depth=6, min_child_weight=10, n_estimators=800; total time=   7.4s\n",
      "[CV] END learning_rate=0.0, max_depth=6, min_child_weight=10, n_estimators=800; total time=   6.7s\n",
      "[CV] END learning_rate=0.0, max_depth=6, min_child_weight=10, n_estimators=800; total time=   7.4s\n",
      "[CV] END learning_rate=0.05, max_depth=6, min_child_weight=1, n_estimators=800; total time=   8.0s\n",
      "[CV] END learning_rate=0.05, max_depth=6, min_child_weight=1, n_estimators=800; total time=   6.7s\n",
      "[CV] END learning_rate=0.05, max_depth=6, min_child_weight=1, n_estimators=800; total time=   7.1s\n",
      "[CV] END learning_rate=0.05, max_depth=6, min_child_weight=1, n_estimators=800; total time=   7.0s\n",
      "[CV] END learning_rate=0.05, max_depth=6, min_child_weight=1, n_estimators=800; total time=   7.7s\n"
     ]
    },
    {
     "data": {
      "text/plain": [
       "RandomizedSearchCV(cv=5,\n",
       "                   estimator=XGBRegressor(base_score=None, booster=None,\n",
       "                                          colsample_bylevel=None,\n",
       "                                          colsample_bynode=None,\n",
       "                                          colsample_bytree=None,\n",
       "                                          enable_categorical=False, gamma=None,\n",
       "                                          gpu_id=None, importance_type=None,\n",
       "                                          interaction_constraints=None,\n",
       "                                          learning_rate=None,\n",
       "                                          max_delta_step=None, max_depth=None,\n",
       "                                          min_child_weight=None, missing=nan,\n",
       "                                          monotone_constraints=...\n",
       "                                          predictor=None, random_state=None,\n",
       "                                          reg_alpha=None, reg_lambda=None,\n",
       "                                          scale_pos_weight=None, subsample=None,\n",
       "                                          tree_method=None,\n",
       "                                          validate_parameters=None,\n",
       "                                          verbosity=None),\n",
       "                   n_jobs=1,\n",
       "                   param_distributions={'learning_rate': [0.05, 0.1, 0.01, 0.0],\n",
       "                                        'max_depth': [3, 6, 9],\n",
       "                                        'min_child_weight': [1, 10, 100],\n",
       "                                        'n_estimators': [100, 400, 800]},\n",
       "                   random_state=42, scoring='neg_mean_squared_error',\n",
       "                   verbose=2)"
      ]
     },
     "execution_count": 50,
     "metadata": {},
     "output_type": "execute_result"
    }
   ],
   "source": [
    "xgb_random = RandomizedSearchCV(estimator = new_xgb, param_distributions = hyperparameter_grid,\n",
    "                               scoring='neg_mean_squared_error', n_iter = 10, \n",
    "                               cv = 5, verbose=2, random_state=42, n_jobs = 1)\n",
    "\n",
    "xgb_random.fit(X_train,y_train)"
   ]
  },
  {
   "cell_type": "code",
   "execution_count": 51,
   "id": "742952ff",
   "metadata": {
    "execution": {
     "iopub.execute_input": "2022-04-19T12:06:25.191385Z",
     "iopub.status.busy": "2022-04-19T12:06:25.190802Z",
     "iopub.status.idle": "2022-04-19T12:06:25.193409Z",
     "shell.execute_reply": "2022-04-19T12:06:25.194329Z",
     "shell.execute_reply.started": "2022-04-19T11:41:04.772608Z"
    },
    "papermill": {
     "duration": 0.097782,
     "end_time": "2022-04-19T12:06:25.194584",
     "exception": false,
     "start_time": "2022-04-19T12:06:25.096802",
     "status": "completed"
    },
    "tags": []
   },
   "outputs": [
    {
     "data": {
      "text/plain": [
       "{'n_estimators': 400,\n",
       " 'min_child_weight': 1,\n",
       " 'max_depth': 6,\n",
       " 'learning_rate': 0.05}"
      ]
     },
     "execution_count": 51,
     "metadata": {},
     "output_type": "execute_result"
    }
   ],
   "source": [
    "xgb_random.best_params_"
   ]
  },
  {
   "cell_type": "code",
   "execution_count": 52,
   "id": "4f05193a",
   "metadata": {
    "execution": {
     "iopub.execute_input": "2022-04-19T12:06:25.376256Z",
     "iopub.status.busy": "2022-04-19T12:06:25.375472Z",
     "iopub.status.idle": "2022-04-19T12:06:25.395092Z",
     "shell.execute_reply": "2022-04-19T12:06:25.395889Z",
     "shell.execute_reply.started": "2022-04-19T11:41:04.782397Z"
    },
    "papermill": {
     "duration": 0.112935,
     "end_time": "2022-04-19T12:06:25.396050",
     "exception": false,
     "start_time": "2022-04-19T12:06:25.283115",
     "status": "completed"
    },
    "tags": []
   },
   "outputs": [],
   "source": [
    "prediction = xgb_random.predict(X_test)"
   ]
  },
  {
   "cell_type": "code",
   "execution_count": 53,
   "id": "5b4b1487",
   "metadata": {
    "execution": {
     "iopub.execute_input": "2022-04-19T12:06:25.593291Z",
     "iopub.status.busy": "2022-04-19T12:06:25.592466Z",
     "iopub.status.idle": "2022-04-19T12:06:25.901620Z",
     "shell.execute_reply": "2022-04-19T12:06:25.902092Z",
     "shell.execute_reply.started": "2022-04-19T11:41:04.813020Z"
    },
    "papermill": {
     "duration": 0.416086,
     "end_time": "2022-04-19T12:06:25.902256",
     "exception": false,
     "start_time": "2022-04-19T12:06:25.486170",
     "status": "completed"
    },
    "tags": []
   },
   "outputs": [
    {
     "data": {
      "image/png": "[encoded data removed]",
      "text/plain": [
       "<Figure size 576x576 with 1 Axes>"
      ]
     },
     "metadata": {},
     "output_type": "display_data"
    }
   ],
   "source": [
    "plt.figure(figsize = (8,8))\n",
    "sns.distplot(y_test-prediction)\n",
    "plt.show()"
   ]
  },
  {
   "cell_type": "code",
   "execution_count": 54,
   "id": "155811a4",
   "metadata": {
    "execution": {
     "iopub.execute_input": "2022-04-19T12:06:26.092668Z",
     "iopub.status.busy": "2022-04-19T12:06:26.092028Z",
     "iopub.status.idle": "2022-04-19T12:06:26.098467Z",
     "shell.execute_reply": "2022-04-19T12:06:26.098062Z",
     "shell.execute_reply.started": "2022-04-19T11:42:27.926812Z"
    },
    "papermill": {
     "duration": 0.102945,
     "end_time": "2022-04-19T12:06:26.098596",
     "exception": false,
     "start_time": "2022-04-19T12:06:25.995651",
     "status": "completed"
    },
    "tags": []
   },
   "outputs": [
    {
     "name": "stdout",
     "output_type": "stream",
     "text": [
      "MAE: 1159.8256045365144\n",
      "MSE: 3126290.8546335963\n",
      "RMSE: 1768.1320240959374\n",
      "r2_score: 0.8550096146845526\n"
     ]
    }
   ],
   "source": [
    "print('MAE:', metrics.mean_absolute_error(y_test, prediction))\n",
    "print('MSE:', metrics.mean_squared_error(y_test, prediction))\n",
    "print('RMSE:', np.sqrt(metrics.mean_squared_error(y_test, prediction)))\n",
    "print('r2_score:', metrics.r2_score(y_test, prediction))"
   ]
  },
  {
   "cell_type": "code",
   "execution_count": null,
   "id": "7bfdafdc",
   "metadata": {
    "papermill": {
     "duration": 0.095062,
     "end_time": "2022-04-19T12:06:26.293858",
     "exception": false,
     "start_time": "2022-04-19T12:06:26.198796",
     "status": "completed"
    },
    "tags": []
   },
   "outputs": [],
   "source": []
  }
 ],
 "metadata": {
  "kernelspec": {
   "display_name": "Python 3",
   "language": "python",
   "name": "python3"
  },
  "language_info": {
   "codemirror_mode": {
    "name": "ipython",
    "version": 3
   },
   "file_extension": ".py",
   "mimetype": "text/x-python",
   "name": "python",
   "nbconvert_exporter": "python",
   "pygments_lexer": "ipython3",
   "version": "3.7.12"
  },
  "papermill": {
   "default_parameters": {},
   "duration": 269.125414,
   "end_time": "2022-04-19T12:06:27.595200",
   "environment_variables": {},
   "exception": null,
   "input_path": "__notebook__.ipynb",
   "output_path": "__notebook__.ipynb",
   "parameters": {},
   "start_time": "2022-04-19T12:01:58.469786",
   "version": "2.3.3"
  }
 },
 "nbformat": 4,
 "nbformat_minor": 5
}
