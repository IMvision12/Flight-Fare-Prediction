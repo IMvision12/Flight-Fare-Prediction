{
 "cells": [
  {
   "cell_type": "code",
   "execution_count": 1,
   "id": "20e7b359",
   "metadata": {
    "execution": {
     "iopub.execute_input": "2022-04-19T11:58:53.999379Z",
     "iopub.status.busy": "2022-04-19T11:58:53.998590Z",
     "iopub.status.idle": "2022-04-19T11:58:54.884234Z",
     "shell.execute_reply": "2022-04-19T11:58:54.883321Z",
     "shell.execute_reply.started": "2022-04-19T11:36:57.613634Z"
    },
    "papermill": {
     "duration": 0.94393,
     "end_time": "2022-04-19T11:58:54.884392",
     "exception": false,
     "start_time": "2022-04-19T11:58:53.940462",
     "status": "completed"
    },
    "tags": []
   },
   "outputs": [],
   "source": [
    "import pandas as pd\n",
    "import numpy as np\n",
    "import matplotlib.pyplot as plt\n",
    "import seaborn as sns\n",
    "import os\n",
    "\n",
    "import warnings\n",
    "warnings.filterwarnings('ignore')"
   ]
  },
  {
   "cell_type": "code",
   "execution_count": 2,
   "id": "008f09f8",
   "metadata": {
    "execution": {
     "iopub.execute_input": "2022-04-19T11:58:54.978037Z",
     "iopub.status.busy": "2022-04-19T11:58:54.977486Z",
     "iopub.status.idle": "2022-04-19T11:59:04.824754Z",
     "shell.execute_reply": "2022-04-19T11:59:04.825239Z",
     "shell.execute_reply.started": "2022-04-19T11:36:58.588768Z"
    },
    "papermill": {
     "duration": 9.895219,
     "end_time": "2022-04-19T11:59:04.825408",
     "exception": false,
     "start_time": "2022-04-19T11:58:54.930189",
     "status": "completed"
    },
    "tags": []
   },
   "outputs": [
    {
     "name": "stdout",
     "output_type": "stream",
     "text": [
      "Collecting openpyxl\r\n",
      "  Downloading openpyxl-3.0.9-py2.py3-none-any.whl (242 kB)\r\n",
      "     |████████████████████████████████| 242 kB 4.4 MB/s            \r\n",
      "\u001b[?25hCollecting et-xmlfile\r\n",
      "  Downloading et_xmlfile-1.1.0-py3-none-any.whl (4.7 kB)\r\n",
      "Installing collected packages: et-xmlfile, openpyxl\r\n",
      "Successfully installed et-xmlfile-1.1.0 openpyxl-3.0.9\r\n",
      "\u001b[33mWARNING: Running pip as the 'root' user can result in broken permissions and conflicting behaviour with the system package manager. It is recommended to use a virtual environment instead: https://pip.pypa.io/warnings/venv\u001b[0m\r\n"
     ]
    }
   ],
   "source": [
    "!pip install openpyxl"
   ]
  },
  {
   "cell_type": "code",
   "execution_count": 3,
   "id": "f1dfb0a3",
   "metadata": {
    "execution": {
     "iopub.execute_input": "2022-04-19T11:59:04.922644Z",
     "iopub.status.busy": "2022-04-19T11:59:04.921861Z",
     "iopub.status.idle": "2022-04-19T11:59:07.341167Z",
     "shell.execute_reply": "2022-04-19T11:59:07.341590Z",
     "shell.execute_reply.started": "2022-04-19T11:37:09.547023Z"
    },
    "papermill": {
     "duration": 2.469662,
     "end_time": "2022-04-19T11:59:07.341733",
     "exception": false,
     "start_time": "2022-04-19T11:59:04.872071",
     "status": "completed"
    },
    "tags": []
   },
   "outputs": [
    {
     "data": {
      "text/html": [
       "<div>\n",
       "<style scoped>\n",
       "    .dataframe tbody tr th:only-of-type {\n",
       "        vertical-align: middle;\n",
       "    }\n",
       "\n",
       "    .dataframe tbody tr th {\n",
       "        vertical-align: top;\n",
       "    }\n",
       "\n",
       "    .dataframe thead th {\n",
       "        text-align: right;\n",
       "    }\n",
       "</style>\n",
       "<table border=\"1\" class=\"dataframe\">\n",
       "  <thead>\n",
       "    <tr style=\"text-align: right;\">\n",
       "      <th></th>\n",
       "      <th>Airline</th>\n",
       "      <th>Date_of_Journey</th>\n",
       "      <th>Source</th>\n",
       "      <th>Destination</th>\n",
       "      <th>Route</th>\n",
       "      <th>Dep_Time</th>\n",
       "      <th>Arrival_Time</th>\n",
       "      <th>Duration</th>\n",
       "      <th>Total_Stops</th>\n",
       "      <th>Additional_Info</th>\n",
       "      <th>Price</th>\n",
       "    </tr>\n",
       "  </thead>\n",
       "  <tbody>\n",
       "    <tr>\n",
       "      <th>0</th>\n",
       "      <td>IndiGo</td>\n",
       "      <td>24/03/2019</td>\n",
       "      <td>Banglore</td>\n",
       "      <td>New Delhi</td>\n",
       "      <td>BLR → DEL</td>\n",
       "      <td>22:20</td>\n",
       "      <td>01:10 22 Mar</td>\n",
       "      <td>2h 50m</td>\n",
       "      <td>non-stop</td>\n",
       "      <td>No info</td>\n",
       "      <td>3897</td>\n",
       "    </tr>\n",
       "    <tr>\n",
       "      <th>1</th>\n",
       "      <td>Air India</td>\n",
       "      <td>1/05/2019</td>\n",
       "      <td>Kolkata</td>\n",
       "      <td>Banglore</td>\n",
       "      <td>CCU → IXR → BBI → BLR</td>\n",
       "      <td>05:50</td>\n",
       "      <td>13:15</td>\n",
       "      <td>7h 25m</td>\n",
       "      <td>2 stops</td>\n",
       "      <td>No info</td>\n",
       "      <td>7662</td>\n",
       "    </tr>\n",
       "    <tr>\n",
       "      <th>2</th>\n",
       "      <td>Jet Airways</td>\n",
       "      <td>9/06/2019</td>\n",
       "      <td>Delhi</td>\n",
       "      <td>Cochin</td>\n",
       "      <td>DEL → LKO → BOM → COK</td>\n",
       "      <td>09:25</td>\n",
       "      <td>04:25 10 Jun</td>\n",
       "      <td>19h</td>\n",
       "      <td>2 stops</td>\n",
       "      <td>No info</td>\n",
       "      <td>13882</td>\n",
       "    </tr>\n",
       "    <tr>\n",
       "      <th>3</th>\n",
       "      <td>IndiGo</td>\n",
       "      <td>12/05/2019</td>\n",
       "      <td>Kolkata</td>\n",
       "      <td>Banglore</td>\n",
       "      <td>CCU → NAG → BLR</td>\n",
       "      <td>18:05</td>\n",
       "      <td>23:30</td>\n",
       "      <td>5h 25m</td>\n",
       "      <td>1 stop</td>\n",
       "      <td>No info</td>\n",
       "      <td>6218</td>\n",
       "    </tr>\n",
       "    <tr>\n",
       "      <th>4</th>\n",
       "      <td>IndiGo</td>\n",
       "      <td>01/03/2019</td>\n",
       "      <td>Banglore</td>\n",
       "      <td>New Delhi</td>\n",
       "      <td>BLR → NAG → DEL</td>\n",
       "      <td>16:50</td>\n",
       "      <td>21:35</td>\n",
       "      <td>4h 45m</td>\n",
       "      <td>1 stop</td>\n",
       "      <td>No info</td>\n",
       "      <td>13302</td>\n",
       "    </tr>\n",
       "  </tbody>\n",
       "</table>\n",
       "</div>"
      ],
      "text/plain": [
       "       Airline Date_of_Journey    Source Destination                  Route  \\\n",
       "0       IndiGo      24/03/2019  Banglore   New Delhi              BLR → DEL   \n",
       "1    Air India       1/05/2019   Kolkata    Banglore  CCU → IXR → BBI → BLR   \n",
       "2  Jet Airways       9/06/2019     Delhi      Cochin  DEL → LKO → BOM → COK   \n",
       "3       IndiGo      12/05/2019   Kolkata    Banglore        CCU → NAG → BLR   \n",
       "4       IndiGo      01/03/2019  Banglore   New Delhi        BLR → NAG → DEL   \n",
       "\n",
       "  Dep_Time  Arrival_Time Duration Total_Stops Additional_Info  Price  \n",
       "0    22:20  01:10 22 Mar   2h 50m    non-stop         No info   3897  \n",
       "1    05:50         13:15   7h 25m     2 stops         No info   7662  \n",
       "2    09:25  04:25 10 Jun      19h     2 stops         No info  13882  \n",
       "3    18:05         23:30   5h 25m      1 stop         No info   6218  \n",
       "4    16:50         21:35   4h 45m      1 stop         No info  13302  "
      ]
     },
     "execution_count": 3,
     "metadata": {},
     "output_type": "execute_result"
    }
   ],
   "source": [
    "df = pd.read_excel(\"../input/flight-fare-prediction-mh/Data_Train.xlsx\")\n",
    "pd.set_option('display.max_columns',None)\n",
    "df.head()"
   ]
  },
  {
   "cell_type": "code",
   "execution_count": 4,
   "id": "71a33b9b",
   "metadata": {
    "execution": {
     "iopub.execute_input": "2022-04-19T11:59:07.463339Z",
     "iopub.status.busy": "2022-04-19T11:59:07.462512Z",
     "iopub.status.idle": "2022-04-19T11:59:07.481008Z",
     "shell.execute_reply": "2022-04-19T11:59:07.480281Z",
     "shell.execute_reply.started": "2022-04-19T11:37:11.685299Z"
    },
    "papermill": {
     "duration": 0.088205,
     "end_time": "2022-04-19T11:59:07.481187",
     "exception": false,
     "start_time": "2022-04-19T11:59:07.392982",
     "status": "completed"
    },
    "tags": []
   },
   "outputs": [
    {
     "name": "stdout",
     "output_type": "stream",
     "text": [
      "<class 'pandas.core.frame.DataFrame'>\n",
      "RangeIndex: 10683 entries, 0 to 10682\n",
      "Data columns (total 11 columns):\n",
      " #   Column           Non-Null Count  Dtype \n",
      "---  ------           --------------  ----- \n",
      " 0   Airline          10683 non-null  object\n",
      " 1   Date_of_Journey  10683 non-null  object\n",
      " 2   Source           10683 non-null  object\n",
      " 3   Destination      10683 non-null  object\n",
      " 4   Route            10682 non-null  object\n",
      " 5   Dep_Time         10683 non-null  object\n",
      " 6   Arrival_Time     10683 non-null  object\n",
      " 7   Duration         10683 non-null  object\n",
      " 8   Total_Stops      10682 non-null  object\n",
      " 9   Additional_Info  10683 non-null  object\n",
      " 10  Price            10683 non-null  int64 \n",
      "dtypes: int64(1), object(10)\n",
      "memory usage: 918.2+ KB\n"
     ]
    }
   ],
   "source": [
    "df.info()"
   ]
  },
  {
   "cell_type": "code",
   "execution_count": 5,
   "id": "6a0d1430",
   "metadata": {
    "execution": {
     "iopub.execute_input": "2022-04-19T11:59:07.579994Z",
     "iopub.status.busy": "2022-04-19T11:59:07.579121Z",
     "iopub.status.idle": "2022-04-19T11:59:07.582209Z",
     "shell.execute_reply": "2022-04-19T11:59:07.582609Z",
     "shell.execute_reply.started": "2022-04-19T11:37:11.717613Z"
    },
    "papermill": {
     "duration": 0.054583,
     "end_time": "2022-04-19T11:59:07.582731",
     "exception": false,
     "start_time": "2022-04-19T11:59:07.528148",
     "status": "completed"
    },
    "tags": []
   },
   "outputs": [
    {
     "data": {
      "text/plain": [
       "(10683, 11)"
      ]
     },
     "execution_count": 5,
     "metadata": {},
     "output_type": "execute_result"
    }
   ],
   "source": [
    "df.shape"
   ]
  },
  {
   "cell_type": "code",
   "execution_count": 6,
   "id": "6045a78f",
   "metadata": {
    "execution": {
     "iopub.execute_input": "2022-04-19T11:59:07.690320Z",
     "iopub.status.busy": "2022-04-19T11:59:07.689542Z",
     "iopub.status.idle": "2022-04-19T11:59:07.695700Z",
     "shell.execute_reply": "2022-04-19T11:59:07.695282Z",
     "shell.execute_reply.started": "2022-04-19T11:37:11.725307Z"
    },
    "papermill": {
     "duration": 0.066366,
     "end_time": "2022-04-19T11:59:07.695802",
     "exception": false,
     "start_time": "2022-04-19T11:59:07.629436",
     "status": "completed"
    },
    "tags": []
   },
   "outputs": [
    {
     "data": {
      "text/plain": [
       "Airline            0\n",
       "Date_of_Journey    0\n",
       "Source             0\n",
       "Destination        0\n",
       "Route              1\n",
       "Dep_Time           0\n",
       "Arrival_Time       0\n",
       "Duration           0\n",
       "Total_Stops        1\n",
       "Additional_Info    0\n",
       "Price              0\n",
       "dtype: int64"
      ]
     },
     "execution_count": 6,
     "metadata": {},
     "output_type": "execute_result"
    }
   ],
   "source": [
    "df.isnull().sum()"
   ]
  },
  {
   "cell_type": "code",
   "execution_count": 7,
   "id": "fa78dbbe",
   "metadata": {
    "execution": {
     "iopub.execute_input": "2022-04-19T11:59:07.804198Z",
     "iopub.status.busy": "2022-04-19T11:59:07.803451Z",
     "iopub.status.idle": "2022-04-19T11:59:07.820277Z",
     "shell.execute_reply": "2022-04-19T11:59:07.820684Z",
     "shell.execute_reply.started": "2022-04-19T11:37:11.745390Z"
    },
    "papermill": {
     "duration": 0.078131,
     "end_time": "2022-04-19T11:59:07.820832",
     "exception": false,
     "start_time": "2022-04-19T11:59:07.742701",
     "status": "completed"
    },
    "tags": []
   },
   "outputs": [
    {
     "data": {
      "text/html": [
       "<div>\n",
       "<style scoped>\n",
       "    .dataframe tbody tr th:only-of-type {\n",
       "        vertical-align: middle;\n",
       "    }\n",
       "\n",
       "    .dataframe tbody tr th {\n",
       "        vertical-align: top;\n",
       "    }\n",
       "\n",
       "    .dataframe thead th {\n",
       "        text-align: right;\n",
       "    }\n",
       "</style>\n",
       "<table border=\"1\" class=\"dataframe\">\n",
       "  <thead>\n",
       "    <tr style=\"text-align: right;\">\n",
       "      <th></th>\n",
       "      <th>Airline</th>\n",
       "      <th>Date_of_Journey</th>\n",
       "      <th>Source</th>\n",
       "      <th>Destination</th>\n",
       "      <th>Route</th>\n",
       "      <th>Dep_Time</th>\n",
       "      <th>Arrival_Time</th>\n",
       "      <th>Duration</th>\n",
       "      <th>Total_Stops</th>\n",
       "      <th>Additional_Info</th>\n",
       "      <th>Price</th>\n",
       "    </tr>\n",
       "  </thead>\n",
       "  <tbody>\n",
       "    <tr>\n",
       "      <th>0</th>\n",
       "      <td>IndiGo</td>\n",
       "      <td>24/03/2019</td>\n",
       "      <td>Banglore</td>\n",
       "      <td>New Delhi</td>\n",
       "      <td>BLR → DEL</td>\n",
       "      <td>22:20</td>\n",
       "      <td>01:10 22 Mar</td>\n",
       "      <td>2h 50m</td>\n",
       "      <td>non-stop</td>\n",
       "      <td>No info</td>\n",
       "      <td>3897</td>\n",
       "    </tr>\n",
       "    <tr>\n",
       "      <th>1</th>\n",
       "      <td>Air India</td>\n",
       "      <td>1/05/2019</td>\n",
       "      <td>Kolkata</td>\n",
       "      <td>Banglore</td>\n",
       "      <td>CCU → IXR → BBI → BLR</td>\n",
       "      <td>05:50</td>\n",
       "      <td>13:15</td>\n",
       "      <td>7h 25m</td>\n",
       "      <td>2 stops</td>\n",
       "      <td>No info</td>\n",
       "      <td>7662</td>\n",
       "    </tr>\n",
       "    <tr>\n",
       "      <th>2</th>\n",
       "      <td>Jet Airways</td>\n",
       "      <td>9/06/2019</td>\n",
       "      <td>Delhi</td>\n",
       "      <td>Cochin</td>\n",
       "      <td>DEL → LKO → BOM → COK</td>\n",
       "      <td>09:25</td>\n",
       "      <td>04:25 10 Jun</td>\n",
       "      <td>19h</td>\n",
       "      <td>2 stops</td>\n",
       "      <td>No info</td>\n",
       "      <td>13882</td>\n",
       "    </tr>\n",
       "    <tr>\n",
       "      <th>3</th>\n",
       "      <td>IndiGo</td>\n",
       "      <td>12/05/2019</td>\n",
       "      <td>Kolkata</td>\n",
       "      <td>Banglore</td>\n",
       "      <td>CCU → NAG → BLR</td>\n",
       "      <td>18:05</td>\n",
       "      <td>23:30</td>\n",
       "      <td>5h 25m</td>\n",
       "      <td>1 stop</td>\n",
       "      <td>No info</td>\n",
       "      <td>6218</td>\n",
       "    </tr>\n",
       "    <tr>\n",
       "      <th>4</th>\n",
       "      <td>IndiGo</td>\n",
       "      <td>01/03/2019</td>\n",
       "      <td>Banglore</td>\n",
       "      <td>New Delhi</td>\n",
       "      <td>BLR → NAG → DEL</td>\n",
       "      <td>16:50</td>\n",
       "      <td>21:35</td>\n",
       "      <td>4h 45m</td>\n",
       "      <td>1 stop</td>\n",
       "      <td>No info</td>\n",
       "      <td>13302</td>\n",
       "    </tr>\n",
       "  </tbody>\n",
       "</table>\n",
       "</div>"
      ],
      "text/plain": [
       "       Airline Date_of_Journey    Source Destination                  Route  \\\n",
       "0       IndiGo      24/03/2019  Banglore   New Delhi              BLR → DEL   \n",
       "1    Air India       1/05/2019   Kolkata    Banglore  CCU → IXR → BBI → BLR   \n",
       "2  Jet Airways       9/06/2019     Delhi      Cochin  DEL → LKO → BOM → COK   \n",
       "3       IndiGo      12/05/2019   Kolkata    Banglore        CCU → NAG → BLR   \n",
       "4       IndiGo      01/03/2019  Banglore   New Delhi        BLR → NAG → DEL   \n",
       "\n",
       "  Dep_Time  Arrival_Time Duration Total_Stops Additional_Info  Price  \n",
       "0    22:20  01:10 22 Mar   2h 50m    non-stop         No info   3897  \n",
       "1    05:50         13:15   7h 25m     2 stops         No info   7662  \n",
       "2    09:25  04:25 10 Jun      19h     2 stops         No info  13882  \n",
       "3    18:05         23:30   5h 25m      1 stop         No info   6218  \n",
       "4    16:50         21:35   4h 45m      1 stop         No info  13302  "
      ]
     },
     "execution_count": 7,
     "metadata": {},
     "output_type": "execute_result"
    }
   ],
   "source": [
    "df.dropna(inplace=True)\n",
    "df.reset_index()\n",
    "df.head()"
   ]
  },
  {
   "cell_type": "markdown",
   "id": "9f5d328e",
   "metadata": {
    "papermill": {
     "duration": 0.047631,
     "end_time": "2022-04-19T11:59:07.916688",
     "exception": false,
     "start_time": "2022-04-19T11:59:07.869057",
     "status": "completed"
    },
    "tags": []
   },
   "source": [
    "### Handling date of journey"
   ]
  },
  {
   "cell_type": "code",
   "execution_count": 8,
   "id": "4005cc15",
   "metadata": {
    "execution": {
     "iopub.execute_input": "2022-04-19T11:59:08.023797Z",
     "iopub.status.busy": "2022-04-19T11:59:08.023006Z",
     "iopub.status.idle": "2022-04-19T11:59:08.032198Z",
     "shell.execute_reply": "2022-04-19T11:59:08.032643Z",
     "shell.execute_reply.started": "2022-04-19T11:37:11.775509Z"
    },
    "papermill": {
     "duration": 0.06814,
     "end_time": "2022-04-19T11:59:08.032784",
     "exception": false,
     "start_time": "2022-04-19T11:59:07.964644",
     "status": "completed"
    },
    "tags": []
   },
   "outputs": [],
   "source": [
    "df['journey_day'] = pd.to_datetime(df.Date_of_Journey,format='%d/%m/%Y').dt.day\n",
    "df['journey_month'] = pd.to_datetime(df.Date_of_Journey,format='%d/%m/%Y').dt.month\n",
    "#Not taking year as the whole data is of same year"
   ]
  },
  {
   "cell_type": "code",
   "execution_count": 9,
   "id": "c6cc66cc",
   "metadata": {
    "execution": {
     "iopub.execute_input": "2022-04-19T11:59:08.135743Z",
     "iopub.status.busy": "2022-04-19T11:59:08.133098Z",
     "iopub.status.idle": "2022-04-19T11:59:08.138075Z",
     "shell.execute_reply": "2022-04-19T11:59:08.137634Z",
     "shell.execute_reply.started": "2022-04-19T11:37:11.793605Z"
    },
    "papermill": {
     "duration": 0.05687,
     "end_time": "2022-04-19T11:59:08.138194",
     "exception": false,
     "start_time": "2022-04-19T11:59:08.081324",
     "status": "completed"
    },
    "tags": []
   },
   "outputs": [],
   "source": [
    "df.drop(['Date_of_Journey'],axis=1,inplace=True)"
   ]
  },
  {
   "cell_type": "code",
   "execution_count": 10,
   "id": "73e1c0c1",
   "metadata": {
    "execution": {
     "iopub.execute_input": "2022-04-19T11:59:08.246752Z",
     "iopub.status.busy": "2022-04-19T11:59:08.246220Z",
     "iopub.status.idle": "2022-04-19T11:59:08.250074Z",
     "shell.execute_reply": "2022-04-19T11:59:08.249565Z",
     "shell.execute_reply.started": "2022-04-19T11:37:11.803374Z"
    },
    "papermill": {
     "duration": 0.064698,
     "end_time": "2022-04-19T11:59:08.250201",
     "exception": false,
     "start_time": "2022-04-19T11:59:08.185503",
     "status": "completed"
    },
    "tags": []
   },
   "outputs": [
    {
     "data": {
      "text/html": [
       "<div>\n",
       "<style scoped>\n",
       "    .dataframe tbody tr th:only-of-type {\n",
       "        vertical-align: middle;\n",
       "    }\n",
       "\n",
       "    .dataframe tbody tr th {\n",
       "        vertical-align: top;\n",
       "    }\n",
       "\n",
       "    .dataframe thead th {\n",
       "        text-align: right;\n",
       "    }\n",
       "</style>\n",
       "<table border=\"1\" class=\"dataframe\">\n",
       "  <thead>\n",
       "    <tr style=\"text-align: right;\">\n",
       "      <th></th>\n",
       "      <th>Airline</th>\n",
       "      <th>Source</th>\n",
       "      <th>Destination</th>\n",
       "      <th>Route</th>\n",
       "      <th>Dep_Time</th>\n",
       "      <th>Arrival_Time</th>\n",
       "      <th>Duration</th>\n",
       "      <th>Total_Stops</th>\n",
       "      <th>Additional_Info</th>\n",
       "      <th>Price</th>\n",
       "      <th>journey_day</th>\n",
       "      <th>journey_month</th>\n",
       "    </tr>\n",
       "  </thead>\n",
       "  <tbody>\n",
       "    <tr>\n",
       "      <th>0</th>\n",
       "      <td>IndiGo</td>\n",
       "      <td>Banglore</td>\n",
       "      <td>New Delhi</td>\n",
       "      <td>BLR → DEL</td>\n",
       "      <td>22:20</td>\n",
       "      <td>01:10 22 Mar</td>\n",
       "      <td>2h 50m</td>\n",
       "      <td>non-stop</td>\n",
       "      <td>No info</td>\n",
       "      <td>3897</td>\n",
       "      <td>24</td>\n",
       "      <td>3</td>\n",
       "    </tr>\n",
       "    <tr>\n",
       "      <th>1</th>\n",
       "      <td>Air India</td>\n",
       "      <td>Kolkata</td>\n",
       "      <td>Banglore</td>\n",
       "      <td>CCU → IXR → BBI → BLR</td>\n",
       "      <td>05:50</td>\n",
       "      <td>13:15</td>\n",
       "      <td>7h 25m</td>\n",
       "      <td>2 stops</td>\n",
       "      <td>No info</td>\n",
       "      <td>7662</td>\n",
       "      <td>1</td>\n",
       "      <td>5</td>\n",
       "    </tr>\n",
       "  </tbody>\n",
       "</table>\n",
       "</div>"
      ],
      "text/plain": [
       "     Airline    Source Destination                  Route Dep_Time  \\\n",
       "0     IndiGo  Banglore   New Delhi              BLR → DEL    22:20   \n",
       "1  Air India   Kolkata    Banglore  CCU → IXR → BBI → BLR    05:50   \n",
       "\n",
       "   Arrival_Time Duration Total_Stops Additional_Info  Price  journey_day  \\\n",
       "0  01:10 22 Mar   2h 50m    non-stop         No info   3897           24   \n",
       "1         13:15   7h 25m     2 stops         No info   7662            1   \n",
       "\n",
       "   journey_month  \n",
       "0              3  \n",
       "1              5  "
      ]
     },
     "execution_count": 10,
     "metadata": {},
     "output_type": "execute_result"
    }
   ],
   "source": [
    "df.head(2)"
   ]
  },
  {
   "cell_type": "markdown",
   "id": "8c25f36b",
   "metadata": {
    "papermill": {
     "duration": 0.048237,
     "end_time": "2022-04-19T11:59:08.346423",
     "exception": false,
     "start_time": "2022-04-19T11:59:08.298186",
     "status": "completed"
    },
    "tags": []
   },
   "source": [
    "## Handling Dep_time"
   ]
  },
  {
   "cell_type": "code",
   "execution_count": 11,
   "id": "f2e73a1c",
   "metadata": {
    "execution": {
     "iopub.execute_input": "2022-04-19T11:59:08.460401Z",
     "iopub.status.busy": "2022-04-19T11:59:08.459547Z",
     "iopub.status.idle": "2022-04-19T11:59:08.478002Z",
     "shell.execute_reply": "2022-04-19T11:59:08.477547Z",
     "shell.execute_reply.started": "2022-04-19T11:37:11.818964Z"
    },
    "papermill": {
     "duration": 0.083841,
     "end_time": "2022-04-19T11:59:08.478127",
     "exception": false,
     "start_time": "2022-04-19T11:59:08.394286",
     "status": "completed"
    },
    "tags": []
   },
   "outputs": [],
   "source": [
    "df['dep_hr'] = pd.to_datetime(df['Dep_Time']).dt.hour\n",
    "df['dep_min'] = pd.to_datetime(df['Dep_Time']).dt.minute\n",
    "df.drop(['Dep_Time'],axis=1,inplace=True)"
   ]
  },
  {
   "cell_type": "code",
   "execution_count": 12,
   "id": "fab053a1",
   "metadata": {
    "execution": {
     "iopub.execute_input": "2022-04-19T11:59:08.589864Z",
     "iopub.status.busy": "2022-04-19T11:59:08.588722Z",
     "iopub.status.idle": "2022-04-19T11:59:08.591977Z",
     "shell.execute_reply": "2022-04-19T11:59:08.592397Z",
     "shell.execute_reply.started": "2022-04-19T11:37:11.854745Z"
    },
    "papermill": {
     "duration": 0.065077,
     "end_time": "2022-04-19T11:59:08.592542",
     "exception": false,
     "start_time": "2022-04-19T11:59:08.527465",
     "status": "completed"
    },
    "tags": []
   },
   "outputs": [
    {
     "data": {
      "text/html": [
       "<div>\n",
       "<style scoped>\n",
       "    .dataframe tbody tr th:only-of-type {\n",
       "        vertical-align: middle;\n",
       "    }\n",
       "\n",
       "    .dataframe tbody tr th {\n",
       "        vertical-align: top;\n",
       "    }\n",
       "\n",
       "    .dataframe thead th {\n",
       "        text-align: right;\n",
       "    }\n",
       "</style>\n",
       "<table border=\"1\" class=\"dataframe\">\n",
       "  <thead>\n",
       "    <tr style=\"text-align: right;\">\n",
       "      <th></th>\n",
       "      <th>Airline</th>\n",
       "      <th>Source</th>\n",
       "      <th>Destination</th>\n",
       "      <th>Route</th>\n",
       "      <th>Arrival_Time</th>\n",
       "      <th>Duration</th>\n",
       "      <th>Total_Stops</th>\n",
       "      <th>Additional_Info</th>\n",
       "      <th>Price</th>\n",
       "      <th>journey_day</th>\n",
       "      <th>journey_month</th>\n",
       "      <th>dep_hr</th>\n",
       "      <th>dep_min</th>\n",
       "    </tr>\n",
       "  </thead>\n",
       "  <tbody>\n",
       "    <tr>\n",
       "      <th>0</th>\n",
       "      <td>IndiGo</td>\n",
       "      <td>Banglore</td>\n",
       "      <td>New Delhi</td>\n",
       "      <td>BLR → DEL</td>\n",
       "      <td>01:10 22 Mar</td>\n",
       "      <td>2h 50m</td>\n",
       "      <td>non-stop</td>\n",
       "      <td>No info</td>\n",
       "      <td>3897</td>\n",
       "      <td>24</td>\n",
       "      <td>3</td>\n",
       "      <td>22</td>\n",
       "      <td>20</td>\n",
       "    </tr>\n",
       "    <tr>\n",
       "      <th>1</th>\n",
       "      <td>Air India</td>\n",
       "      <td>Kolkata</td>\n",
       "      <td>Banglore</td>\n",
       "      <td>CCU → IXR → BBI → BLR</td>\n",
       "      <td>13:15</td>\n",
       "      <td>7h 25m</td>\n",
       "      <td>2 stops</td>\n",
       "      <td>No info</td>\n",
       "      <td>7662</td>\n",
       "      <td>1</td>\n",
       "      <td>5</td>\n",
       "      <td>5</td>\n",
       "      <td>50</td>\n",
       "    </tr>\n",
       "  </tbody>\n",
       "</table>\n",
       "</div>"
      ],
      "text/plain": [
       "     Airline    Source Destination                  Route  Arrival_Time  \\\n",
       "0     IndiGo  Banglore   New Delhi              BLR → DEL  01:10 22 Mar   \n",
       "1  Air India   Kolkata    Banglore  CCU → IXR → BBI → BLR         13:15   \n",
       "\n",
       "  Duration Total_Stops Additional_Info  Price  journey_day  journey_month  \\\n",
       "0   2h 50m    non-stop         No info   3897           24              3   \n",
       "1   7h 25m     2 stops         No info   7662            1              5   \n",
       "\n",
       "   dep_hr  dep_min  \n",
       "0      22       20  \n",
       "1       5       50  "
      ]
     },
     "execution_count": 12,
     "metadata": {},
     "output_type": "execute_result"
    }
   ],
   "source": [
    "df.head(2)"
   ]
  },
  {
   "cell_type": "markdown",
   "id": "4c3f509b",
   "metadata": {
    "papermill": {
     "duration": 0.050041,
     "end_time": "2022-04-19T11:59:08.691111",
     "exception": false,
     "start_time": "2022-04-19T11:59:08.641070",
     "status": "completed"
    },
    "tags": []
   },
   "source": [
    "## Handling Arrival_time"
   ]
  },
  {
   "cell_type": "code",
   "execution_count": 13,
   "id": "c5f2dfcb",
   "metadata": {
    "execution": {
     "iopub.execute_input": "2022-04-19T11:59:08.796717Z",
     "iopub.status.busy": "2022-04-19T11:59:08.795890Z",
     "iopub.status.idle": "2022-04-19T11:59:08.969480Z",
     "shell.execute_reply": "2022-04-19T11:59:08.968844Z",
     "shell.execute_reply.started": "2022-04-19T11:37:11.872489Z"
    },
    "papermill": {
     "duration": 0.228799,
     "end_time": "2022-04-19T11:59:08.969619",
     "exception": false,
     "start_time": "2022-04-19T11:59:08.740820",
     "status": "completed"
    },
    "tags": []
   },
   "outputs": [],
   "source": [
    "df['Arr_hr'] = pd.to_datetime(df['Arrival_Time']).dt.hour\n",
    "df['Arr_min'] = pd.to_datetime(df['Arrival_Time']).dt.minute\n",
    "df.drop(['Arrival_Time'],axis=1,inplace=True)"
   ]
  },
  {
   "cell_type": "code",
   "execution_count": 14,
   "id": "e1899637",
   "metadata": {
    "execution": {
     "iopub.execute_input": "2022-04-19T11:59:09.081598Z",
     "iopub.status.busy": "2022-04-19T11:59:09.081079Z",
     "iopub.status.idle": "2022-04-19T11:59:09.085579Z",
     "shell.execute_reply": "2022-04-19T11:59:09.085993Z",
     "shell.execute_reply.started": "2022-04-19T11:37:12.053126Z"
    },
    "papermill": {
     "duration": 0.06661,
     "end_time": "2022-04-19T11:59:09.086140",
     "exception": false,
     "start_time": "2022-04-19T11:59:09.019530",
     "status": "completed"
    },
    "tags": []
   },
   "outputs": [
    {
     "data": {
      "text/html": [
       "<div>\n",
       "<style scoped>\n",
       "    .dataframe tbody tr th:only-of-type {\n",
       "        vertical-align: middle;\n",
       "    }\n",
       "\n",
       "    .dataframe tbody tr th {\n",
       "        vertical-align: top;\n",
       "    }\n",
       "\n",
       "    .dataframe thead th {\n",
       "        text-align: right;\n",
       "    }\n",
       "</style>\n",
       "<table border=\"1\" class=\"dataframe\">\n",
       "  <thead>\n",
       "    <tr style=\"text-align: right;\">\n",
       "      <th></th>\n",
       "      <th>Airline</th>\n",
       "      <th>Source</th>\n",
       "      <th>Destination</th>\n",
       "      <th>Route</th>\n",
       "      <th>Duration</th>\n",
       "      <th>Total_Stops</th>\n",
       "      <th>Additional_Info</th>\n",
       "      <th>Price</th>\n",
       "      <th>journey_day</th>\n",
       "      <th>journey_month</th>\n",
       "      <th>dep_hr</th>\n",
       "      <th>dep_min</th>\n",
       "      <th>Arr_hr</th>\n",
       "      <th>Arr_min</th>\n",
       "    </tr>\n",
       "  </thead>\n",
       "  <tbody>\n",
       "    <tr>\n",
       "      <th>0</th>\n",
       "      <td>IndiGo</td>\n",
       "      <td>Banglore</td>\n",
       "      <td>New Delhi</td>\n",
       "      <td>BLR → DEL</td>\n",
       "      <td>2h 50m</td>\n",
       "      <td>non-stop</td>\n",
       "      <td>No info</td>\n",
       "      <td>3897</td>\n",
       "      <td>24</td>\n",
       "      <td>3</td>\n",
       "      <td>22</td>\n",
       "      <td>20</td>\n",
       "      <td>1</td>\n",
       "      <td>10</td>\n",
       "    </tr>\n",
       "    <tr>\n",
       "      <th>1</th>\n",
       "      <td>Air India</td>\n",
       "      <td>Kolkata</td>\n",
       "      <td>Banglore</td>\n",
       "      <td>CCU → IXR → BBI → BLR</td>\n",
       "      <td>7h 25m</td>\n",
       "      <td>2 stops</td>\n",
       "      <td>No info</td>\n",
       "      <td>7662</td>\n",
       "      <td>1</td>\n",
       "      <td>5</td>\n",
       "      <td>5</td>\n",
       "      <td>50</td>\n",
       "      <td>13</td>\n",
       "      <td>15</td>\n",
       "    </tr>\n",
       "  </tbody>\n",
       "</table>\n",
       "</div>"
      ],
      "text/plain": [
       "     Airline    Source Destination                  Route Duration  \\\n",
       "0     IndiGo  Banglore   New Delhi              BLR → DEL   2h 50m   \n",
       "1  Air India   Kolkata    Banglore  CCU → IXR → BBI → BLR   7h 25m   \n",
       "\n",
       "  Total_Stops Additional_Info  Price  journey_day  journey_month  dep_hr  \\\n",
       "0    non-stop         No info   3897           24              3      22   \n",
       "1     2 stops         No info   7662            1              5       5   \n",
       "\n",
       "   dep_min  Arr_hr  Arr_min  \n",
       "0       20       1       10  \n",
       "1       50      13       15  "
      ]
     },
     "execution_count": 14,
     "metadata": {},
     "output_type": "execute_result"
    }
   ],
   "source": [
    "df.head(2)"
   ]
  },
  {
   "cell_type": "markdown",
   "id": "17ba70bc",
   "metadata": {
    "papermill": {
     "duration": 0.048289,
     "end_time": "2022-04-19T11:59:09.183149",
     "exception": false,
     "start_time": "2022-04-19T11:59:09.134860",
     "status": "completed"
    },
    "tags": []
   },
   "source": [
    "## Handling Duration "
   ]
  },
  {
   "cell_type": "code",
   "execution_count": 15,
   "id": "1f9f7f55",
   "metadata": {
    "execution": {
     "iopub.execute_input": "2022-04-19T11:59:09.307771Z",
     "iopub.status.busy": "2022-04-19T11:59:09.306907Z",
     "iopub.status.idle": "2022-04-19T11:59:09.308586Z",
     "shell.execute_reply": "2022-04-19T11:59:09.309104Z",
     "shell.execute_reply.started": "2022-04-19T11:37:12.069888Z"
    },
    "papermill": {
     "duration": 0.077273,
     "end_time": "2022-04-19T11:59:09.309230",
     "exception": false,
     "start_time": "2022-04-19T11:59:09.231957",
     "status": "completed"
    },
    "tags": []
   },
   "outputs": [],
   "source": [
    "# Time taken by plane to reach destination is called Duration\n",
    "# It is the differnce betwwen Departure Time and Arrival time\n",
    "\n",
    "\n",
    "# Assigning and converting Duration column into list\n",
    "duration = list(df[\"Duration\"])\n",
    "\n",
    "for i in range(len(duration)):\n",
    "    if len(duration[i].split()) != 2:    # Check if duration contains only hour or mins\n",
    "        if \"h\" in duration[i]:\n",
    "            duration[i] = duration[i].strip() + \" 0m\"   # Adds 0 minute\n",
    "        else:\n",
    "            duration[i] = \"0h \" + duration[i]           # Adds 0 hour\n",
    "\n",
    "duration_hours = []\n",
    "duration_mins = []\n",
    "for i in range(len(duration)):\n",
    "    duration_hours.append(int(duration[i].split(sep = \"h\")[0]))    # Extract hours from duration\n",
    "    duration_mins.append(int(duration[i].split(sep = \"m\")[0].split()[-1]))   # Extracts only minutes from duration"
   ]
  },
  {
   "cell_type": "code",
   "execution_count": 16,
   "id": "60619ef0",
   "metadata": {
    "execution": {
     "iopub.execute_input": "2022-04-19T11:59:09.418841Z",
     "iopub.status.busy": "2022-04-19T11:59:09.417865Z",
     "iopub.status.idle": "2022-04-19T11:59:09.423864Z",
     "shell.execute_reply": "2022-04-19T11:59:09.423479Z",
     "shell.execute_reply.started": "2022-04-19T11:37:12.099607Z"
    },
    "papermill": {
     "duration": 0.066286,
     "end_time": "2022-04-19T11:59:09.424002",
     "exception": false,
     "start_time": "2022-04-19T11:59:09.357716",
     "status": "completed"
    },
    "tags": []
   },
   "outputs": [],
   "source": [
    "df['Duration_hrs'] = duration_hours\n",
    "df['Duration_mins'] = duration_mins\n",
    "df.drop(['Duration'],axis=1,inplace=True)"
   ]
  },
  {
   "cell_type": "code",
   "execution_count": 17,
   "id": "56bffdf1",
   "metadata": {
    "execution": {
     "iopub.execute_input": "2022-04-19T11:59:09.529595Z",
     "iopub.status.busy": "2022-04-19T11:59:09.528973Z",
     "iopub.status.idle": "2022-04-19T11:59:09.531616Z",
     "shell.execute_reply": "2022-04-19T11:59:09.532037Z",
     "shell.execute_reply.started": "2022-04-19T11:37:12.117720Z"
    },
    "papermill": {
     "duration": 0.058603,
     "end_time": "2022-04-19T11:59:09.532159",
     "exception": false,
     "start_time": "2022-04-19T11:59:09.473556",
     "status": "completed"
    },
    "tags": []
   },
   "outputs": [
    {
     "data": {
      "text/plain": [
       "Index(['Airline', 'Source', 'Destination', 'Route', 'Total_Stops',\n",
       "       'Additional_Info', 'Price', 'journey_day', 'journey_month', 'dep_hr',\n",
       "       'dep_min', 'Arr_hr', 'Arr_min', 'Duration_hrs', 'Duration_mins'],\n",
       "      dtype='object')"
      ]
     },
     "execution_count": 17,
     "metadata": {},
     "output_type": "execute_result"
    }
   ],
   "source": [
    "df.columns"
   ]
  },
  {
   "cell_type": "code",
   "execution_count": 18,
   "id": "8b2c87dc",
   "metadata": {
    "execution": {
     "iopub.execute_input": "2022-04-19T11:59:09.637090Z",
     "iopub.status.busy": "2022-04-19T11:59:09.636278Z",
     "iopub.status.idle": "2022-04-19T11:59:09.650167Z",
     "shell.execute_reply": "2022-04-19T11:59:09.649737Z",
     "shell.execute_reply.started": "2022-04-19T11:37:12.125597Z"
    },
    "papermill": {
     "duration": 0.068258,
     "end_time": "2022-04-19T11:59:09.650281",
     "exception": false,
     "start_time": "2022-04-19T11:59:09.582023",
     "status": "completed"
    },
    "tags": []
   },
   "outputs": [
    {
     "data": {
      "text/html": [
       "<div>\n",
       "<style scoped>\n",
       "    .dataframe tbody tr th:only-of-type {\n",
       "        vertical-align: middle;\n",
       "    }\n",
       "\n",
       "    .dataframe tbody tr th {\n",
       "        vertical-align: top;\n",
       "    }\n",
       "\n",
       "    .dataframe thead th {\n",
       "        text-align: right;\n",
       "    }\n",
       "</style>\n",
       "<table border=\"1\" class=\"dataframe\">\n",
       "  <thead>\n",
       "    <tr style=\"text-align: right;\">\n",
       "      <th></th>\n",
       "      <th>Airline</th>\n",
       "      <th>Source</th>\n",
       "      <th>Destination</th>\n",
       "      <th>Route</th>\n",
       "      <th>Total_Stops</th>\n",
       "      <th>Additional_Info</th>\n",
       "      <th>Price</th>\n",
       "      <th>journey_day</th>\n",
       "      <th>journey_month</th>\n",
       "      <th>dep_hr</th>\n",
       "      <th>dep_min</th>\n",
       "      <th>Arr_hr</th>\n",
       "      <th>Arr_min</th>\n",
       "      <th>Duration_hrs</th>\n",
       "      <th>Duration_mins</th>\n",
       "    </tr>\n",
       "  </thead>\n",
       "  <tbody>\n",
       "    <tr>\n",
       "      <th>0</th>\n",
       "      <td>IndiGo</td>\n",
       "      <td>Banglore</td>\n",
       "      <td>New Delhi</td>\n",
       "      <td>BLR → DEL</td>\n",
       "      <td>non-stop</td>\n",
       "      <td>No info</td>\n",
       "      <td>3897</td>\n",
       "      <td>24</td>\n",
       "      <td>3</td>\n",
       "      <td>22</td>\n",
       "      <td>20</td>\n",
       "      <td>1</td>\n",
       "      <td>10</td>\n",
       "      <td>2</td>\n",
       "      <td>50</td>\n",
       "    </tr>\n",
       "    <tr>\n",
       "      <th>1</th>\n",
       "      <td>Air India</td>\n",
       "      <td>Kolkata</td>\n",
       "      <td>Banglore</td>\n",
       "      <td>CCU → IXR → BBI → BLR</td>\n",
       "      <td>2 stops</td>\n",
       "      <td>No info</td>\n",
       "      <td>7662</td>\n",
       "      <td>1</td>\n",
       "      <td>5</td>\n",
       "      <td>5</td>\n",
       "      <td>50</td>\n",
       "      <td>13</td>\n",
       "      <td>15</td>\n",
       "      <td>7</td>\n",
       "      <td>25</td>\n",
       "    </tr>\n",
       "    <tr>\n",
       "      <th>2</th>\n",
       "      <td>Jet Airways</td>\n",
       "      <td>Delhi</td>\n",
       "      <td>Cochin</td>\n",
       "      <td>DEL → LKO → BOM → COK</td>\n",
       "      <td>2 stops</td>\n",
       "      <td>No info</td>\n",
       "      <td>13882</td>\n",
       "      <td>9</td>\n",
       "      <td>6</td>\n",
       "      <td>9</td>\n",
       "      <td>25</td>\n",
       "      <td>4</td>\n",
       "      <td>25</td>\n",
       "      <td>19</td>\n",
       "      <td>0</td>\n",
       "    </tr>\n",
       "    <tr>\n",
       "      <th>3</th>\n",
       "      <td>IndiGo</td>\n",
       "      <td>Kolkata</td>\n",
       "      <td>Banglore</td>\n",
       "      <td>CCU → NAG → BLR</td>\n",
       "      <td>1 stop</td>\n",
       "      <td>No info</td>\n",
       "      <td>6218</td>\n",
       "      <td>12</td>\n",
       "      <td>5</td>\n",
       "      <td>18</td>\n",
       "      <td>5</td>\n",
       "      <td>23</td>\n",
       "      <td>30</td>\n",
       "      <td>5</td>\n",
       "      <td>25</td>\n",
       "    </tr>\n",
       "    <tr>\n",
       "      <th>4</th>\n",
       "      <td>IndiGo</td>\n",
       "      <td>Banglore</td>\n",
       "      <td>New Delhi</td>\n",
       "      <td>BLR → NAG → DEL</td>\n",
       "      <td>1 stop</td>\n",
       "      <td>No info</td>\n",
       "      <td>13302</td>\n",
       "      <td>1</td>\n",
       "      <td>3</td>\n",
       "      <td>16</td>\n",
       "      <td>50</td>\n",
       "      <td>21</td>\n",
       "      <td>35</td>\n",
       "      <td>4</td>\n",
       "      <td>45</td>\n",
       "    </tr>\n",
       "  </tbody>\n",
       "</table>\n",
       "</div>"
      ],
      "text/plain": [
       "       Airline    Source Destination                  Route Total_Stops  \\\n",
       "0       IndiGo  Banglore   New Delhi              BLR → DEL    non-stop   \n",
       "1    Air India   Kolkata    Banglore  CCU → IXR → BBI → BLR     2 stops   \n",
       "2  Jet Airways     Delhi      Cochin  DEL → LKO → BOM → COK     2 stops   \n",
       "3       IndiGo   Kolkata    Banglore        CCU → NAG → BLR      1 stop   \n",
       "4       IndiGo  Banglore   New Delhi        BLR → NAG → DEL      1 stop   \n",
       "\n",
       "  Additional_Info  Price  journey_day  journey_month  dep_hr  dep_min  Arr_hr  \\\n",
       "0         No info   3897           24              3      22       20       1   \n",
       "1         No info   7662            1              5       5       50      13   \n",
       "2         No info  13882            9              6       9       25       4   \n",
       "3         No info   6218           12              5      18        5      23   \n",
       "4         No info  13302            1              3      16       50      21   \n",
       "\n",
       "   Arr_min  Duration_hrs  Duration_mins  \n",
       "0       10             2             50  \n",
       "1       15             7             25  \n",
       "2       25            19              0  \n",
       "3       30             5             25  \n",
       "4       35             4             45  "
      ]
     },
     "execution_count": 18,
     "metadata": {},
     "output_type": "execute_result"
    }
   ],
   "source": [
    "df.head()"
   ]
  },
  {
   "cell_type": "markdown",
   "id": "31c9a44d",
   "metadata": {
    "papermill": {
     "duration": 0.04941,
     "end_time": "2022-04-19T11:59:09.749551",
     "exception": false,
     "start_time": "2022-04-19T11:59:09.700141",
     "status": "completed"
    },
    "tags": []
   },
   "source": [
    "## Handling categorical data\n",
    "1. <font color='yellow'> Nominal Data </font> -> data are not in any order -> <font color='green'> OneHotEncorder </font> is used\n",
    "2. <font color='yellow'> Ordinal Data </font>-> data are in order -> <font color='green'> LabelEncoder </font> is used"
   ]
  },
  {
   "cell_type": "code",
   "execution_count": 19,
   "id": "d8e9560d",
   "metadata": {
    "execution": {
     "iopub.execute_input": "2022-04-19T11:59:09.855706Z",
     "iopub.status.busy": "2022-04-19T11:59:09.855061Z",
     "iopub.status.idle": "2022-04-19T11:59:09.857671Z",
     "shell.execute_reply": "2022-04-19T11:59:09.858100Z",
     "shell.execute_reply.started": "2022-04-19T11:37:12.145045Z"
    },
    "papermill": {
     "duration": 0.059343,
     "end_time": "2022-04-19T11:59:09.858228",
     "exception": false,
     "start_time": "2022-04-19T11:59:09.798885",
     "status": "completed"
    },
    "tags": []
   },
   "outputs": [
    {
     "data": {
      "text/plain": [
       "Jet Airways                          3849\n",
       "IndiGo                               2053\n",
       "Air India                            1751\n",
       "Multiple carriers                    1196\n",
       "SpiceJet                              818\n",
       "Vistara                               479\n",
       "Air Asia                              319\n",
       "GoAir                                 194\n",
       "Multiple carriers Premium economy      13\n",
       "Jet Airways Business                    6\n",
       "Vistara Premium economy                 3\n",
       "Trujet                                  1\n",
       "Name: Airline, dtype: int64"
      ]
     },
     "execution_count": 19,
     "metadata": {},
     "output_type": "execute_result"
    }
   ],
   "source": [
    "df['Airline'].value_counts()"
   ]
  },
  {
   "cell_type": "code",
   "execution_count": 20,
   "id": "3fb6871f",
   "metadata": {
    "execution": {
     "iopub.execute_input": "2022-04-19T11:59:09.963869Z",
     "iopub.status.busy": "2022-04-19T11:59:09.963039Z",
     "iopub.status.idle": "2022-04-19T11:59:10.449472Z",
     "shell.execute_reply": "2022-04-19T11:59:10.449874Z",
     "shell.execute_reply.started": "2022-04-19T11:37:12.155418Z"
    },
    "papermill": {
     "duration": 0.542243,
     "end_time": "2022-04-19T11:59:10.450040",
     "exception": false,
     "start_time": "2022-04-19T11:59:09.907797",
     "status": "completed"
    },
    "tags": []
   },
   "outputs": [
    {
     "data": {
      "image/png": "[encoded data removed]",
      "text/plain": [
       "<Figure size 1296x432 with 1 Axes>"
      ]
     },
     "metadata": {
      "needs_background": "light"
     },
     "output_type": "display_data"
    }
   ],
   "source": [
    "sns.catplot(y = \"Price\",x = \"Airline\",data=df.sort_values(\"Price\",ascending=False), \n",
    "            kind=\"boxen\",height=6,aspect=3)\n",
    "sns.set()"
   ]
  },
  {
   "cell_type": "code",
   "execution_count": 21,
   "id": "b51b66cf",
   "metadata": {
    "execution": {
     "iopub.execute_input": "2022-04-19T11:59:10.561546Z",
     "iopub.status.busy": "2022-04-19T11:59:10.560726Z",
     "iopub.status.idle": "2022-04-19T11:59:10.574839Z",
     "shell.execute_reply": "2022-04-19T11:59:10.574419Z",
     "shell.execute_reply.started": "2022-04-19T11:37:12.633719Z"
    },
    "papermill": {
     "duration": 0.073386,
     "end_time": "2022-04-19T11:59:10.574971",
     "exception": false,
     "start_time": "2022-04-19T11:59:10.501585",
     "status": "completed"
    },
    "tags": []
   },
   "outputs": [
    {
     "data": {
      "text/html": [
       "<div>\n",
       "<style scoped>\n",
       "    .dataframe tbody tr th:only-of-type {\n",
       "        vertical-align: middle;\n",
       "    }\n",
       "\n",
       "    .dataframe tbody tr th {\n",
       "        vertical-align: top;\n",
       "    }\n",
       "\n",
       "    .dataframe thead th {\n",
       "        text-align: right;\n",
       "    }\n",
       "</style>\n",
       "<table border=\"1\" class=\"dataframe\">\n",
       "  <thead>\n",
       "    <tr style=\"text-align: right;\">\n",
       "      <th></th>\n",
       "      <th>Airline_Air India</th>\n",
       "      <th>Airline_GoAir</th>\n",
       "      <th>Airline_IndiGo</th>\n",
       "      <th>Airline_Jet Airways</th>\n",
       "      <th>Airline_Jet Airways Business</th>\n",
       "      <th>Airline_Multiple carriers</th>\n",
       "      <th>Airline_Multiple carriers Premium economy</th>\n",
       "      <th>Airline_SpiceJet</th>\n",
       "      <th>Airline_Trujet</th>\n",
       "      <th>Airline_Vistara</th>\n",
       "      <th>Airline_Vistara Premium economy</th>\n",
       "    </tr>\n",
       "  </thead>\n",
       "  <tbody>\n",
       "    <tr>\n",
       "      <th>0</th>\n",
       "      <td>0</td>\n",
       "      <td>0</td>\n",
       "      <td>1</td>\n",
       "      <td>0</td>\n",
       "      <td>0</td>\n",
       "      <td>0</td>\n",
       "      <td>0</td>\n",
       "      <td>0</td>\n",
       "      <td>0</td>\n",
       "      <td>0</td>\n",
       "      <td>0</td>\n",
       "    </tr>\n",
       "    <tr>\n",
       "      <th>1</th>\n",
       "      <td>1</td>\n",
       "      <td>0</td>\n",
       "      <td>0</td>\n",
       "      <td>0</td>\n",
       "      <td>0</td>\n",
       "      <td>0</td>\n",
       "      <td>0</td>\n",
       "      <td>0</td>\n",
       "      <td>0</td>\n",
       "      <td>0</td>\n",
       "      <td>0</td>\n",
       "    </tr>\n",
       "    <tr>\n",
       "      <th>2</th>\n",
       "      <td>0</td>\n",
       "      <td>0</td>\n",
       "      <td>0</td>\n",
       "      <td>1</td>\n",
       "      <td>0</td>\n",
       "      <td>0</td>\n",
       "      <td>0</td>\n",
       "      <td>0</td>\n",
       "      <td>0</td>\n",
       "      <td>0</td>\n",
       "      <td>0</td>\n",
       "    </tr>\n",
       "    <tr>\n",
       "      <th>3</th>\n",
       "      <td>0</td>\n",
       "      <td>0</td>\n",
       "      <td>1</td>\n",
       "      <td>0</td>\n",
       "      <td>0</td>\n",
       "      <td>0</td>\n",
       "      <td>0</td>\n",
       "      <td>0</td>\n",
       "      <td>0</td>\n",
       "      <td>0</td>\n",
       "      <td>0</td>\n",
       "    </tr>\n",
       "    <tr>\n",
       "      <th>4</th>\n",
       "      <td>0</td>\n",
       "      <td>0</td>\n",
       "      <td>1</td>\n",
       "      <td>0</td>\n",
       "      <td>0</td>\n",
       "      <td>0</td>\n",
       "      <td>0</td>\n",
       "      <td>0</td>\n",
       "      <td>0</td>\n",
       "      <td>0</td>\n",
       "      <td>0</td>\n",
       "    </tr>\n",
       "  </tbody>\n",
       "</table>\n",
       "</div>"
      ],
      "text/plain": [
       "   Airline_Air India  Airline_GoAir  Airline_IndiGo  Airline_Jet Airways  \\\n",
       "0                  0              0               1                    0   \n",
       "1                  1              0               0                    0   \n",
       "2                  0              0               0                    1   \n",
       "3                  0              0               1                    0   \n",
       "4                  0              0               1                    0   \n",
       "\n",
       "   Airline_Jet Airways Business  Airline_Multiple carriers  \\\n",
       "0                             0                          0   \n",
       "1                             0                          0   \n",
       "2                             0                          0   \n",
       "3                             0                          0   \n",
       "4                             0                          0   \n",
       "\n",
       "   Airline_Multiple carriers Premium economy  Airline_SpiceJet  \\\n",
       "0                                          0                 0   \n",
       "1                                          0                 0   \n",
       "2                                          0                 0   \n",
       "3                                          0                 0   \n",
       "4                                          0                 0   \n",
       "\n",
       "   Airline_Trujet  Airline_Vistara  Airline_Vistara Premium economy  \n",
       "0               0                0                                0  \n",
       "1               0                0                                0  \n",
       "2               0                0                                0  \n",
       "3               0                0                                0  \n",
       "4               0                0                                0  "
      ]
     },
     "execution_count": 21,
     "metadata": {},
     "output_type": "execute_result"
    }
   ],
   "source": [
    "Airline = df[['Airline']]\n",
    "Airline = pd.get_dummies(Airline,drop_first=True)\n",
    "Airline.head()"
   ]
  },
  {
   "cell_type": "markdown",
   "id": "aa64ad38",
   "metadata": {
    "papermill": {
     "duration": 0.054046,
     "end_time": "2022-04-19T11:59:10.681078",
     "exception": false,
     "start_time": "2022-04-19T11:59:10.627032",
     "status": "completed"
    },
    "tags": []
   },
   "source": [
    "## Handling source column"
   ]
  },
  {
   "cell_type": "code",
   "execution_count": 22,
   "id": "ed82ab97",
   "metadata": {
    "execution": {
     "iopub.execute_input": "2022-04-19T11:59:10.793146Z",
     "iopub.status.busy": "2022-04-19T11:59:10.792494Z",
     "iopub.status.idle": "2022-04-19T11:59:10.795024Z",
     "shell.execute_reply": "2022-04-19T11:59:10.795432Z",
     "shell.execute_reply.started": "2022-04-19T11:37:12.652414Z"
    },
    "papermill": {
     "duration": 0.062926,
     "end_time": "2022-04-19T11:59:10.795569",
     "exception": false,
     "start_time": "2022-04-19T11:59:10.732643",
     "status": "completed"
    },
    "tags": []
   },
   "outputs": [
    {
     "data": {
      "text/plain": [
       "Delhi       4536\n",
       "Kolkata     2871\n",
       "Banglore    2197\n",
       "Mumbai       697\n",
       "Chennai      381\n",
       "Name: Source, dtype: int64"
      ]
     },
     "execution_count": 22,
     "metadata": {},
     "output_type": "execute_result"
    }
   ],
   "source": [
    "df['Source'].value_counts()"
   ]
  },
  {
   "cell_type": "code",
   "execution_count": 23,
   "id": "aa1e4f56",
   "metadata": {
    "execution": {
     "iopub.execute_input": "2022-04-19T11:59:10.907650Z",
     "iopub.status.busy": "2022-04-19T11:59:10.906938Z",
     "iopub.status.idle": "2022-04-19T11:59:11.357174Z",
     "shell.execute_reply": "2022-04-19T11:59:11.356692Z",
     "shell.execute_reply.started": "2022-04-19T11:37:12.662765Z"
    },
    "papermill": {
     "duration": 0.5102,
     "end_time": "2022-04-19T11:59:11.357303",
     "exception": false,
     "start_time": "2022-04-19T11:59:10.847103",
     "status": "completed"
    },
    "tags": []
   },
   "outputs": [
    {
     "data": {
      "text/plain": [
       "<seaborn.axisgrid.FacetGrid at 0x7f42f4303c50>"
      ]
     },
     "execution_count": 23,
     "metadata": {},
     "output_type": "execute_result"
    },
    {
     "data": {
      "image/png": "[encoded data removed]",
      "text/plain": [
       "<Figure size 360x360 with 1 Axes>"
      ]
     },
     "metadata": {},
     "output_type": "display_data"
    }
   ],
   "source": [
    "sns.catplot(x=\"Source\", y=\"Price\", data=df)"
   ]
  },
  {
   "cell_type": "code",
   "execution_count": 24,
   "id": "f13491df",
   "metadata": {
    "execution": {
     "iopub.execute_input": "2022-04-19T11:59:11.471567Z",
     "iopub.status.busy": "2022-04-19T11:59:11.470794Z",
     "iopub.status.idle": "2022-04-19T11:59:11.887788Z",
     "shell.execute_reply": "2022-04-19T11:59:11.887367Z",
     "shell.execute_reply.started": "2022-04-19T11:37:13.071918Z"
    },
    "papermill": {
     "duration": 0.475173,
     "end_time": "2022-04-19T11:59:11.887928",
     "exception": false,
     "start_time": "2022-04-19T11:59:11.412755",
     "status": "completed"
    },
    "tags": []
   },
   "outputs": [
    {
     "data": {
      "text/plain": [
       "<seaborn.axisgrid.FacetGrid at 0x7f42dd275990>"
      ]
     },
     "execution_count": 24,
     "metadata": {},
     "output_type": "execute_result"
    },
    {
     "data": {
      "image/png": "[encoded data removed]",
      "text/plain": [
       "<Figure size 1296x432 with 1 Axes>"
      ]
     },
     "metadata": {},
     "output_type": "display_data"
    }
   ],
   "source": [
    "sns.catplot(y=\"Price\",x='Source',data=df.sort_values(\"Price\",ascending=False), \n",
    "            kind=\"boxen\",height=6,aspect=3)"
   ]
  },
  {
   "cell_type": "code",
   "execution_count": 25,
   "id": "f335c233",
   "metadata": {
    "execution": {
     "iopub.execute_input": "2022-04-19T11:59:12.004509Z",
     "iopub.status.busy": "2022-04-19T11:59:12.003983Z",
     "iopub.status.idle": "2022-04-19T11:59:12.013567Z",
     "shell.execute_reply": "2022-04-19T11:59:12.013141Z",
     "shell.execute_reply.started": "2022-04-19T11:37:13.544276Z"
    },
    "papermill": {
     "duration": 0.070632,
     "end_time": "2022-04-19T11:59:12.013670",
     "exception": false,
     "start_time": "2022-04-19T11:59:11.943038",
     "status": "completed"
    },
    "tags": []
   },
   "outputs": [
    {
     "data": {
      "text/html": [
       "<div>\n",
       "<style scoped>\n",
       "    .dataframe tbody tr th:only-of-type {\n",
       "        vertical-align: middle;\n",
       "    }\n",
       "\n",
       "    .dataframe tbody tr th {\n",
       "        vertical-align: top;\n",
       "    }\n",
       "\n",
       "    .dataframe thead th {\n",
       "        text-align: right;\n",
       "    }\n",
       "</style>\n",
       "<table border=\"1\" class=\"dataframe\">\n",
       "  <thead>\n",
       "    <tr style=\"text-align: right;\">\n",
       "      <th></th>\n",
       "      <th>Source_Chennai</th>\n",
       "      <th>Source_Delhi</th>\n",
       "      <th>Source_Kolkata</th>\n",
       "      <th>Source_Mumbai</th>\n",
       "    </tr>\n",
       "  </thead>\n",
       "  <tbody>\n",
       "    <tr>\n",
       "      <th>0</th>\n",
       "      <td>0</td>\n",
       "      <td>0</td>\n",
       "      <td>0</td>\n",
       "      <td>0</td>\n",
       "    </tr>\n",
       "    <tr>\n",
       "      <th>1</th>\n",
       "      <td>0</td>\n",
       "      <td>0</td>\n",
       "      <td>1</td>\n",
       "      <td>0</td>\n",
       "    </tr>\n",
       "    <tr>\n",
       "      <th>2</th>\n",
       "      <td>0</td>\n",
       "      <td>1</td>\n",
       "      <td>0</td>\n",
       "      <td>0</td>\n",
       "    </tr>\n",
       "    <tr>\n",
       "      <th>3</th>\n",
       "      <td>0</td>\n",
       "      <td>0</td>\n",
       "      <td>1</td>\n",
       "      <td>0</td>\n",
       "    </tr>\n",
       "    <tr>\n",
       "      <th>4</th>\n",
       "      <td>0</td>\n",
       "      <td>0</td>\n",
       "      <td>0</td>\n",
       "      <td>0</td>\n",
       "    </tr>\n",
       "  </tbody>\n",
       "</table>\n",
       "</div>"
      ],
      "text/plain": [
       "   Source_Chennai  Source_Delhi  Source_Kolkata  Source_Mumbai\n",
       "0               0             0               0              0\n",
       "1               0             0               1              0\n",
       "2               0             1               0              0\n",
       "3               0             0               1              0\n",
       "4               0             0               0              0"
      ]
     },
     "execution_count": 25,
     "metadata": {},
     "output_type": "execute_result"
    }
   ],
   "source": [
    "Source = df[['Source']]\n",
    "Source = pd.get_dummies(Source,drop_first=True)\n",
    "Source.head()"
   ]
  },
  {
   "cell_type": "markdown",
   "id": "89ec76f2",
   "metadata": {
    "papermill": {
     "duration": 0.056965,
     "end_time": "2022-04-19T11:59:12.127448",
     "exception": false,
     "start_time": "2022-04-19T11:59:12.070483",
     "status": "completed"
    },
    "tags": []
   },
   "source": [
    "## Handling Destination Column"
   ]
  },
  {
   "cell_type": "code",
   "execution_count": 26,
   "id": "d18f7917",
   "metadata": {
    "execution": {
     "iopub.execute_input": "2022-04-19T11:59:12.246344Z",
     "iopub.status.busy": "2022-04-19T11:59:12.245718Z",
     "iopub.status.idle": "2022-04-19T11:59:12.248543Z",
     "shell.execute_reply": "2022-04-19T11:59:12.248981Z",
     "shell.execute_reply.started": "2022-04-19T11:37:13.563126Z"
    },
    "papermill": {
     "duration": 0.065796,
     "end_time": "2022-04-19T11:59:12.249116",
     "exception": false,
     "start_time": "2022-04-19T11:59:12.183320",
     "status": "completed"
    },
    "tags": []
   },
   "outputs": [
    {
     "data": {
      "text/plain": [
       "Cochin       4536\n",
       "Banglore     2871\n",
       "Delhi        1265\n",
       "New Delhi     932\n",
       "Hyderabad     697\n",
       "Kolkata       381\n",
       "Name: Destination, dtype: int64"
      ]
     },
     "execution_count": 26,
     "metadata": {},
     "output_type": "execute_result"
    }
   ],
   "source": [
    "df['Destination'].value_counts()"
   ]
  },
  {
   "cell_type": "code",
   "execution_count": 27,
   "id": "aeb04bba",
   "metadata": {
    "execution": {
     "iopub.execute_input": "2022-04-19T11:59:12.366627Z",
     "iopub.status.busy": "2022-04-19T11:59:12.365874Z",
     "iopub.status.idle": "2022-04-19T11:59:12.374954Z",
     "shell.execute_reply": "2022-04-19T11:59:12.375380Z",
     "shell.execute_reply.started": "2022-04-19T11:37:13.575373Z"
    },
    "papermill": {
     "duration": 0.070948,
     "end_time": "2022-04-19T11:59:12.375500",
     "exception": false,
     "start_time": "2022-04-19T11:59:12.304552",
     "status": "completed"
    },
    "tags": []
   },
   "outputs": [
    {
     "data": {
      "text/html": [
       "<div>\n",
       "<style scoped>\n",
       "    .dataframe tbody tr th:only-of-type {\n",
       "        vertical-align: middle;\n",
       "    }\n",
       "\n",
       "    .dataframe tbody tr th {\n",
       "        vertical-align: top;\n",
       "    }\n",
       "\n",
       "    .dataframe thead th {\n",
       "        text-align: right;\n",
       "    }\n",
       "</style>\n",
       "<table border=\"1\" class=\"dataframe\">\n",
       "  <thead>\n",
       "    <tr style=\"text-align: right;\">\n",
       "      <th></th>\n",
       "      <th>Destination_Cochin</th>\n",
       "      <th>Destination_Delhi</th>\n",
       "      <th>Destination_Hyderabad</th>\n",
       "      <th>Destination_Kolkata</th>\n",
       "      <th>Destination_New Delhi</th>\n",
       "    </tr>\n",
       "  </thead>\n",
       "  <tbody>\n",
       "    <tr>\n",
       "      <th>0</th>\n",
       "      <td>0</td>\n",
       "      <td>0</td>\n",
       "      <td>0</td>\n",
       "      <td>0</td>\n",
       "      <td>1</td>\n",
       "    </tr>\n",
       "    <tr>\n",
       "      <th>1</th>\n",
       "      <td>0</td>\n",
       "      <td>0</td>\n",
       "      <td>0</td>\n",
       "      <td>0</td>\n",
       "      <td>0</td>\n",
       "    </tr>\n",
       "    <tr>\n",
       "      <th>2</th>\n",
       "      <td>1</td>\n",
       "      <td>0</td>\n",
       "      <td>0</td>\n",
       "      <td>0</td>\n",
       "      <td>0</td>\n",
       "    </tr>\n",
       "    <tr>\n",
       "      <th>3</th>\n",
       "      <td>0</td>\n",
       "      <td>0</td>\n",
       "      <td>0</td>\n",
       "      <td>0</td>\n",
       "      <td>0</td>\n",
       "    </tr>\n",
       "    <tr>\n",
       "      <th>4</th>\n",
       "      <td>0</td>\n",
       "      <td>0</td>\n",
       "      <td>0</td>\n",
       "      <td>0</td>\n",
       "      <td>1</td>\n",
       "    </tr>\n",
       "  </tbody>\n",
       "</table>\n",
       "</div>"
      ],
      "text/plain": [
       "   Destination_Cochin  Destination_Delhi  Destination_Hyderabad  \\\n",
       "0                   0                  0                      0   \n",
       "1                   0                  0                      0   \n",
       "2                   1                  0                      0   \n",
       "3                   0                  0                      0   \n",
       "4                   0                  0                      0   \n",
       "\n",
       "   Destination_Kolkata  Destination_New Delhi  \n",
       "0                    0                      1  \n",
       "1                    0                      0  \n",
       "2                    0                      0  \n",
       "3                    0                      0  \n",
       "4                    0                      1  "
      ]
     },
     "execution_count": 27,
     "metadata": {},
     "output_type": "execute_result"
    }
   ],
   "source": [
    "Destination = df[['Destination']]\n",
    "Destination = pd.get_dummies(Destination,drop_first=True)\n",
    "Destination.head()"
   ]
  },
  {
   "cell_type": "markdown",
   "id": "17c9f4b3",
   "metadata": {
    "papermill": {
     "duration": 0.056528,
     "end_time": "2022-04-19T11:59:12.488195",
     "exception": false,
     "start_time": "2022-04-19T11:59:12.431667",
     "status": "completed"
    },
    "tags": []
   },
   "source": [
    "## Route"
   ]
  },
  {
   "cell_type": "code",
   "execution_count": 28,
   "id": "6d5ee160",
   "metadata": {
    "execution": {
     "iopub.execute_input": "2022-04-19T11:59:12.606080Z",
     "iopub.status.busy": "2022-04-19T11:59:12.604716Z",
     "iopub.status.idle": "2022-04-19T11:59:12.608841Z",
     "shell.execute_reply": "2022-04-19T11:59:12.609245Z",
     "shell.execute_reply.started": "2022-04-19T11:37:13.611968Z"
    },
    "papermill": {
     "duration": 0.064875,
     "end_time": "2022-04-19T11:59:12.609369",
     "exception": false,
     "start_time": "2022-04-19T11:59:12.544494",
     "status": "completed"
    },
    "tags": []
   },
   "outputs": [
    {
     "data": {
      "text/plain": [
       "0                    BLR → DEL\n",
       "1        CCU → IXR → BBI → BLR\n",
       "2        DEL → LKO → BOM → COK\n",
       "3              CCU → NAG → BLR\n",
       "4              BLR → NAG → DEL\n",
       "                 ...          \n",
       "10678                CCU → BLR\n",
       "10679                CCU → BLR\n",
       "10680                BLR → DEL\n",
       "10681                BLR → DEL\n",
       "10682    DEL → GOI → BOM → COK\n",
       "Name: Route, Length: 10682, dtype: object"
      ]
     },
     "execution_count": 28,
     "metadata": {},
     "output_type": "execute_result"
    }
   ],
   "source": [
    "df['Route']"
   ]
  },
  {
   "cell_type": "code",
   "execution_count": 29,
   "id": "02c4de55",
   "metadata": {
    "execution": {
     "iopub.execute_input": "2022-04-19T11:59:12.729225Z",
     "iopub.status.busy": "2022-04-19T11:59:12.728544Z",
     "iopub.status.idle": "2022-04-19T11:59:12.730611Z",
     "shell.execute_reply": "2022-04-19T11:59:12.731008Z",
     "shell.execute_reply.started": "2022-04-19T11:37:13.621640Z"
    },
    "papermill": {
     "duration": 0.063949,
     "end_time": "2022-04-19T11:59:12.731141",
     "exception": false,
     "start_time": "2022-04-19T11:59:12.667192",
     "status": "completed"
    },
    "tags": []
   },
   "outputs": [],
   "source": [
    "# Additional_info contains almost 85% no info\n",
    "# route and total_stops are the same like for this CCU → IXR → BBI → BLR\n",
    "# total stops are 2\n",
    "df.drop(['Route','Additional_Info'],axis=1,inplace=True)"
   ]
  },
  {
   "cell_type": "code",
   "execution_count": 30,
   "id": "2f584286",
   "metadata": {
    "execution": {
     "iopub.execute_input": "2022-04-19T11:59:12.853909Z",
     "iopub.status.busy": "2022-04-19T11:59:12.852781Z",
     "iopub.status.idle": "2022-04-19T11:59:12.855818Z",
     "shell.execute_reply": "2022-04-19T11:59:12.856246Z",
     "shell.execute_reply.started": "2022-04-19T11:37:13.630360Z"
    },
    "papermill": {
     "duration": 0.068408,
     "end_time": "2022-04-19T11:59:12.856370",
     "exception": false,
     "start_time": "2022-04-19T11:59:12.787962",
     "status": "completed"
    },
    "tags": []
   },
   "outputs": [
    {
     "data": {
      "text/plain": [
       "1 stop      5625\n",
       "non-stop    3491\n",
       "2 stops     1520\n",
       "3 stops       45\n",
       "4 stops        1\n",
       "Name: Total_Stops, dtype: int64"
      ]
     },
     "execution_count": 30,
     "metadata": {},
     "output_type": "execute_result"
    }
   ],
   "source": [
    "df['Total_Stops'].value_counts()"
   ]
  },
  {
   "cell_type": "code",
   "execution_count": 31,
   "id": "be3c0411",
   "metadata": {
    "execution": {
     "iopub.execute_input": "2022-04-19T11:59:12.977394Z",
     "iopub.status.busy": "2022-04-19T11:59:12.976634Z",
     "iopub.status.idle": "2022-04-19T11:59:12.993086Z",
     "shell.execute_reply": "2022-04-19T11:59:12.992622Z",
     "shell.execute_reply.started": "2022-04-19T11:37:13.650726Z"
    },
    "papermill": {
     "duration": 0.080722,
     "end_time": "2022-04-19T11:59:12.993198",
     "exception": false,
     "start_time": "2022-04-19T11:59:12.912476",
     "status": "completed"
    },
    "tags": []
   },
   "outputs": [],
   "source": [
    "df.replace({'non-stop':0,'1 stop':1,'2 stops':2,'3 stops':3,'4 stops':4},inplace=True)"
   ]
  },
  {
   "cell_type": "code",
   "execution_count": 32,
   "id": "4497b583",
   "metadata": {
    "execution": {
     "iopub.execute_input": "2022-04-19T11:59:13.118062Z",
     "iopub.status.busy": "2022-04-19T11:59:13.117198Z",
     "iopub.status.idle": "2022-04-19T11:59:13.122176Z",
     "shell.execute_reply": "2022-04-19T11:59:13.121671Z",
     "shell.execute_reply.started": "2022-04-19T11:37:13.690999Z"
    },
    "papermill": {
     "duration": 0.071073,
     "end_time": "2022-04-19T11:59:13.122293",
     "exception": false,
     "start_time": "2022-04-19T11:59:13.051220",
     "status": "completed"
    },
    "tags": []
   },
   "outputs": [],
   "source": [
    "df_new = pd.concat([df,Airline,Source,Destination],axis=1)\n",
    "df_new.drop(['Airline','Destination','Source'],axis=1,inplace=True)"
   ]
  },
  {
   "cell_type": "code",
   "execution_count": 33,
   "id": "cf8db87f",
   "metadata": {
    "execution": {
     "iopub.execute_input": "2022-04-19T11:59:13.296404Z",
     "iopub.status.busy": "2022-04-19T11:59:13.295517Z",
     "iopub.status.idle": "2022-04-19T11:59:13.299115Z",
     "shell.execute_reply": "2022-04-19T11:59:13.299573Z",
     "shell.execute_reply.started": "2022-04-19T11:37:13.710662Z"
    },
    "papermill": {
     "duration": 0.092062,
     "end_time": "2022-04-19T11:59:13.299717",
     "exception": false,
     "start_time": "2022-04-19T11:59:13.207655",
     "status": "completed"
    },
    "tags": []
   },
   "outputs": [
    {
     "data": {
      "text/html": [
       "<div>\n",
       "<style scoped>\n",
       "    .dataframe tbody tr th:only-of-type {\n",
       "        vertical-align: middle;\n",
       "    }\n",
       "\n",
       "    .dataframe tbody tr th {\n",
       "        vertical-align: top;\n",
       "    }\n",
       "\n",
       "    .dataframe thead th {\n",
       "        text-align: right;\n",
       "    }\n",
       "</style>\n",
       "<table border=\"1\" class=\"dataframe\">\n",
       "  <thead>\n",
       "    <tr style=\"text-align: right;\">\n",
       "      <th></th>\n",
       "      <th>Total_Stops</th>\n",
       "      <th>Price</th>\n",
       "      <th>journey_day</th>\n",
       "      <th>journey_month</th>\n",
       "      <th>dep_hr</th>\n",
       "      <th>dep_min</th>\n",
       "      <th>Arr_hr</th>\n",
       "      <th>Arr_min</th>\n",
       "      <th>Duration_hrs</th>\n",
       "      <th>Duration_mins</th>\n",
       "      <th>Airline_Air India</th>\n",
       "      <th>Airline_GoAir</th>\n",
       "      <th>Airline_IndiGo</th>\n",
       "      <th>Airline_Jet Airways</th>\n",
       "      <th>Airline_Jet Airways Business</th>\n",
       "      <th>Airline_Multiple carriers</th>\n",
       "      <th>Airline_Multiple carriers Premium economy</th>\n",
       "      <th>Airline_SpiceJet</th>\n",
       "      <th>Airline_Trujet</th>\n",
       "      <th>Airline_Vistara</th>\n",
       "      <th>Airline_Vistara Premium economy</th>\n",
       "      <th>Source_Chennai</th>\n",
       "      <th>Source_Delhi</th>\n",
       "      <th>Source_Kolkata</th>\n",
       "      <th>Source_Mumbai</th>\n",
       "      <th>Destination_Cochin</th>\n",
       "      <th>Destination_Delhi</th>\n",
       "      <th>Destination_Hyderabad</th>\n",
       "      <th>Destination_Kolkata</th>\n",
       "      <th>Destination_New Delhi</th>\n",
       "    </tr>\n",
       "  </thead>\n",
       "  <tbody>\n",
       "    <tr>\n",
       "      <th>0</th>\n",
       "      <td>0</td>\n",
       "      <td>3897</td>\n",
       "      <td>24</td>\n",
       "      <td>3</td>\n",
       "      <td>22</td>\n",
       "      <td>20</td>\n",
       "      <td>1</td>\n",
       "      <td>10</td>\n",
       "      <td>2</td>\n",
       "      <td>50</td>\n",
       "      <td>0</td>\n",
       "      <td>0</td>\n",
       "      <td>1</td>\n",
       "      <td>0</td>\n",
       "      <td>0</td>\n",
       "      <td>0</td>\n",
       "      <td>0</td>\n",
       "      <td>0</td>\n",
       "      <td>0</td>\n",
       "      <td>0</td>\n",
       "      <td>0</td>\n",
       "      <td>0</td>\n",
       "      <td>0</td>\n",
       "      <td>0</td>\n",
       "      <td>0</td>\n",
       "      <td>0</td>\n",
       "      <td>0</td>\n",
       "      <td>0</td>\n",
       "      <td>0</td>\n",
       "      <td>1</td>\n",
       "    </tr>\n",
       "    <tr>\n",
       "      <th>1</th>\n",
       "      <td>2</td>\n",
       "      <td>7662</td>\n",
       "      <td>1</td>\n",
       "      <td>5</td>\n",
       "      <td>5</td>\n",
       "      <td>50</td>\n",
       "      <td>13</td>\n",
       "      <td>15</td>\n",
       "      <td>7</td>\n",
       "      <td>25</td>\n",
       "      <td>1</td>\n",
       "      <td>0</td>\n",
       "      <td>0</td>\n",
       "      <td>0</td>\n",
       "      <td>0</td>\n",
       "      <td>0</td>\n",
       "      <td>0</td>\n",
       "      <td>0</td>\n",
       "      <td>0</td>\n",
       "      <td>0</td>\n",
       "      <td>0</td>\n",
       "      <td>0</td>\n",
       "      <td>0</td>\n",
       "      <td>1</td>\n",
       "      <td>0</td>\n",
       "      <td>0</td>\n",
       "      <td>0</td>\n",
       "      <td>0</td>\n",
       "      <td>0</td>\n",
       "      <td>0</td>\n",
       "    </tr>\n",
       "    <tr>\n",
       "      <th>2</th>\n",
       "      <td>2</td>\n",
       "      <td>13882</td>\n",
       "      <td>9</td>\n",
       "      <td>6</td>\n",
       "      <td>9</td>\n",
       "      <td>25</td>\n",
       "      <td>4</td>\n",
       "      <td>25</td>\n",
       "      <td>19</td>\n",
       "      <td>0</td>\n",
       "      <td>0</td>\n",
       "      <td>0</td>\n",
       "      <td>0</td>\n",
       "      <td>1</td>\n",
       "      <td>0</td>\n",
       "      <td>0</td>\n",
       "      <td>0</td>\n",
       "      <td>0</td>\n",
       "      <td>0</td>\n",
       "      <td>0</td>\n",
       "      <td>0</td>\n",
       "      <td>0</td>\n",
       "      <td>1</td>\n",
       "      <td>0</td>\n",
       "      <td>0</td>\n",
       "      <td>1</td>\n",
       "      <td>0</td>\n",
       "      <td>0</td>\n",
       "      <td>0</td>\n",
       "      <td>0</td>\n",
       "    </tr>\n",
       "    <tr>\n",
       "      <th>3</th>\n",
       "      <td>1</td>\n",
       "      <td>6218</td>\n",
       "      <td>12</td>\n",
       "      <td>5</td>\n",
       "      <td>18</td>\n",
       "      <td>5</td>\n",
       "      <td>23</td>\n",
       "      <td>30</td>\n",
       "      <td>5</td>\n",
       "      <td>25</td>\n",
       "      <td>0</td>\n",
       "      <td>0</td>\n",
       "      <td>1</td>\n",
       "      <td>0</td>\n",
       "      <td>0</td>\n",
       "      <td>0</td>\n",
       "      <td>0</td>\n",
       "      <td>0</td>\n",
       "      <td>0</td>\n",
       "      <td>0</td>\n",
       "      <td>0</td>\n",
       "      <td>0</td>\n",
       "      <td>0</td>\n",
       "      <td>1</td>\n",
       "      <td>0</td>\n",
       "      <td>0</td>\n",
       "      <td>0</td>\n",
       "      <td>0</td>\n",
       "      <td>0</td>\n",
       "      <td>0</td>\n",
       "    </tr>\n",
       "    <tr>\n",
       "      <th>4</th>\n",
       "      <td>1</td>\n",
       "      <td>13302</td>\n",
       "      <td>1</td>\n",
       "      <td>3</td>\n",
       "      <td>16</td>\n",
       "      <td>50</td>\n",
       "      <td>21</td>\n",
       "      <td>35</td>\n",
       "      <td>4</td>\n",
       "      <td>45</td>\n",
       "      <td>0</td>\n",
       "      <td>0</td>\n",
       "      <td>1</td>\n",
       "      <td>0</td>\n",
       "      <td>0</td>\n",
       "      <td>0</td>\n",
       "      <td>0</td>\n",
       "      <td>0</td>\n",
       "      <td>0</td>\n",
       "      <td>0</td>\n",
       "      <td>0</td>\n",
       "      <td>0</td>\n",
       "      <td>0</td>\n",
       "      <td>0</td>\n",
       "      <td>0</td>\n",
       "      <td>0</td>\n",
       "      <td>0</td>\n",
       "      <td>0</td>\n",
       "      <td>0</td>\n",
       "      <td>1</td>\n",
       "    </tr>\n",
       "  </tbody>\n",
       "</table>\n",
       "</div>"
      ],
      "text/plain": [
       "   Total_Stops  Price  journey_day  journey_month  dep_hr  dep_min  Arr_hr  \\\n",
       "0            0   3897           24              3      22       20       1   \n",
       "1            2   7662            1              5       5       50      13   \n",
       "2            2  13882            9              6       9       25       4   \n",
       "3            1   6218           12              5      18        5      23   \n",
       "4            1  13302            1              3      16       50      21   \n",
       "\n",
       "   Arr_min  Duration_hrs  Duration_mins  Airline_Air India  Airline_GoAir  \\\n",
       "0       10             2             50                  0              0   \n",
       "1       15             7             25                  1              0   \n",
       "2       25            19              0                  0              0   \n",
       "3       30             5             25                  0              0   \n",
       "4       35             4             45                  0              0   \n",
       "\n",
       "   Airline_IndiGo  Airline_Jet Airways  Airline_Jet Airways Business  \\\n",
       "0               1                    0                             0   \n",
       "1               0                    0                             0   \n",
       "2               0                    1                             0   \n",
       "3               1                    0                             0   \n",
       "4               1                    0                             0   \n",
       "\n",
       "   Airline_Multiple carriers  Airline_Multiple carriers Premium economy  \\\n",
       "0                          0                                          0   \n",
       "1                          0                                          0   \n",
       "2                          0                                          0   \n",
       "3                          0                                          0   \n",
       "4                          0                                          0   \n",
       "\n",
       "   Airline_SpiceJet  Airline_Trujet  Airline_Vistara  \\\n",
       "0                 0               0                0   \n",
       "1                 0               0                0   \n",
       "2                 0               0                0   \n",
       "3                 0               0                0   \n",
       "4                 0               0                0   \n",
       "\n",
       "   Airline_Vistara Premium economy  Source_Chennai  Source_Delhi  \\\n",
       "0                                0               0             0   \n",
       "1                                0               0             0   \n",
       "2                                0               0             1   \n",
       "3                                0               0             0   \n",
       "4                                0               0             0   \n",
       "\n",
       "   Source_Kolkata  Source_Mumbai  Destination_Cochin  Destination_Delhi  \\\n",
       "0               0              0                   0                  0   \n",
       "1               1              0                   0                  0   \n",
       "2               0              0                   1                  0   \n",
       "3               1              0                   0                  0   \n",
       "4               0              0                   0                  0   \n",
       "\n",
       "   Destination_Hyderabad  Destination_Kolkata  Destination_New Delhi  \n",
       "0                      0                    0                      1  \n",
       "1                      0                    0                      0  \n",
       "2                      0                    0                      0  \n",
       "3                      0                    0                      0  \n",
       "4                      0                    0                      1  "
      ]
     },
     "execution_count": 33,
     "metadata": {},
     "output_type": "execute_result"
    }
   ],
   "source": [
    "df_new.head()"
   ]
  },
  {
   "cell_type": "code",
   "execution_count": 34,
   "id": "40e2f253",
   "metadata": {
    "execution": {
     "iopub.execute_input": "2022-04-19T11:59:13.433914Z",
     "iopub.status.busy": "2022-04-19T11:59:13.433334Z",
     "iopub.status.idle": "2022-04-19T11:59:13.436103Z",
     "shell.execute_reply": "2022-04-19T11:59:13.436512Z",
     "shell.execute_reply.started": "2022-04-19T11:37:13.749579Z"
    },
    "papermill": {
     "duration": 0.072453,
     "end_time": "2022-04-19T11:59:13.436636",
     "exception": false,
     "start_time": "2022-04-19T11:59:13.364183",
     "status": "completed"
    },
    "tags": []
   },
   "outputs": [
    {
     "data": {
      "text/plain": [
       "(10682, 30)"
      ]
     },
     "execution_count": 34,
     "metadata": {},
     "output_type": "execute_result"
    }
   ],
   "source": [
    "df_new.shape #data_train"
   ]
  },
  {
   "cell_type": "code",
   "execution_count": 35,
   "id": "4ac5f016",
   "metadata": {
    "execution": {
     "iopub.execute_input": "2022-04-19T11:59:13.558224Z",
     "iopub.status.busy": "2022-04-19T11:59:13.557407Z",
     "iopub.status.idle": "2022-04-19T11:59:13.563840Z",
     "shell.execute_reply": "2022-04-19T11:59:13.563404Z",
     "shell.execute_reply.started": "2022-04-19T11:37:13.772499Z"
    },
    "papermill": {
     "duration": 0.069411,
     "end_time": "2022-04-19T11:59:13.563976",
     "exception": false,
     "start_time": "2022-04-19T11:59:13.494565",
     "status": "completed"
    },
    "tags": []
   },
   "outputs": [],
   "source": [
    "df_new.dropna(axis=0,inplace=True)"
   ]
  },
  {
   "cell_type": "markdown",
   "id": "b1f7de47",
   "metadata": {
    "papermill": {
     "duration": 0.058185,
     "end_time": "2022-04-19T11:59:13.680826",
     "exception": false,
     "start_time": "2022-04-19T11:59:13.622641",
     "status": "completed"
    },
    "tags": []
   },
   "source": [
    "## Feature Selection\n",
    "Finding out the best feature which will contribute and have good relation with target variable. Following are some of the feature selection methods,\n",
    "\n",
    "1. <font color='green'> Heatmap </font>\n",
    "2. <font color='green'> feature_importance_ </font>\n",
    "3. <font color='green'> SelectKBest </font>"
   ]
  },
  {
   "cell_type": "code",
   "execution_count": 36,
   "id": "59833593",
   "metadata": {
    "execution": {
     "iopub.execute_input": "2022-04-19T11:59:13.806558Z",
     "iopub.status.busy": "2022-04-19T11:59:13.804959Z",
     "iopub.status.idle": "2022-04-19T11:59:13.810086Z",
     "shell.execute_reply": "2022-04-19T11:59:13.809516Z",
     "shell.execute_reply.started": "2022-04-19T11:37:13.788151Z"
    },
    "papermill": {
     "duration": 0.071438,
     "end_time": "2022-04-19T11:59:13.810210",
     "exception": false,
     "start_time": "2022-04-19T11:59:13.738772",
     "status": "completed"
    },
    "tags": []
   },
   "outputs": [],
   "source": [
    "X = df_new.drop(['Price'],axis=1)\n",
    "y = df_new['Price']"
   ]
  },
  {
   "cell_type": "code",
   "execution_count": 37,
   "id": "0c668725",
   "metadata": {
    "execution": {
     "iopub.execute_input": "2022-04-19T11:59:13.941480Z",
     "iopub.status.busy": "2022-04-19T11:59:13.940645Z",
     "iopub.status.idle": "2022-04-19T11:59:14.743372Z",
     "shell.execute_reply": "2022-04-19T11:59:14.743794Z",
     "shell.execute_reply.started": "2022-04-19T11:37:13.800126Z"
    },
    "papermill": {
     "duration": 0.868303,
     "end_time": "2022-04-19T11:59:14.743954",
     "exception": false,
     "start_time": "2022-04-19T11:59:13.875651",
     "status": "completed"
    },
    "tags": []
   },
   "outputs": [
    {
     "data": {
      "image/png": "[encoded data removed]",
      "text/plain": [
       "<Figure size 1296x1296 with 2 Axes>"
      ]
     },
     "metadata": {},
     "output_type": "display_data"
    }
   ],
   "source": [
    "plt.figure(figsize = (18,18))\n",
    "sns.heatmap(df.corr(), annot = True, cmap = \"RdYlGn\")\n",
    "\n",
    "plt.show()"
   ]
  },
  {
   "cell_type": "code",
   "execution_count": 38,
   "id": "288c75d6",
   "metadata": {
    "execution": {
     "iopub.execute_input": "2022-04-19T11:59:14.871663Z",
     "iopub.status.busy": "2022-04-19T11:59:14.871062Z",
     "iopub.status.idle": "2022-04-19T11:59:17.628702Z",
     "shell.execute_reply": "2022-04-19T11:59:17.629864Z",
     "shell.execute_reply.started": "2022-04-19T11:37:14.924868Z"
    },
    "papermill": {
     "duration": 2.823484,
     "end_time": "2022-04-19T11:59:17.630115",
     "exception": false,
     "start_time": "2022-04-19T11:59:14.806631",
     "status": "completed"
    },
    "tags": []
   },
   "outputs": [
    {
     "data": {
      "text/plain": [
       "ExtraTreesRegressor()"
      ]
     },
     "execution_count": 38,
     "metadata": {},
     "output_type": "execute_result"
    }
   ],
   "source": [
    "# Important Feature using ExtraTreesRegressor\n",
    "from sklearn.ensemble import ExtraTreesRegressor\n",
    "selection = ExtraTreesRegressor()\n",
    "selection.fit(X,y)"
   ]
  },
  {
   "cell_type": "code",
   "execution_count": 39,
   "id": "50966734",
   "metadata": {
    "execution": {
     "iopub.execute_input": "2022-04-19T11:59:17.859794Z",
     "iopub.status.busy": "2022-04-19T11:59:17.858994Z",
     "iopub.status.idle": "2022-04-19T11:59:17.892927Z",
     "shell.execute_reply": "2022-04-19T11:59:17.893504Z",
     "shell.execute_reply.started": "2022-04-19T11:37:17.683429Z"
    },
    "papermill": {
     "duration": 0.14061,
     "end_time": "2022-04-19T11:59:17.893688",
     "exception": false,
     "start_time": "2022-04-19T11:59:17.753078",
     "status": "completed"
    },
    "tags": []
   },
   "outputs": [
    {
     "name": "stdout",
     "output_type": "stream",
     "text": [
      "[2.40984519e-01 1.44342081e-01 5.28901791e-02 2.38694505e-02\n",
      " 2.16049853e-02 2.78439610e-02 1.90726499e-02 1.06688386e-01\n",
      " 1.75607935e-02 1.01254027e-02 2.18336969e-03 1.95966185e-02\n",
      " 1.38829676e-01 6.79631053e-02 1.80485285e-02 9.02532371e-04\n",
      " 2.74980076e-03 8.71088416e-05 4.86085626e-03 8.46987868e-05\n",
      " 4.78537719e-04 1.17950930e-02 3.30988918e-03 6.54553328e-03\n",
      " 1.25178338e-02 1.46515326e-02 5.22710705e-03 5.42495298e-04\n",
      " 2.46432752e-02]\n"
     ]
    }
   ],
   "source": [
    "print(selection.feature_importances_)"
   ]
  },
  {
   "cell_type": "code",
   "execution_count": 40,
   "id": "044b33b9",
   "metadata": {
    "execution": {
     "iopub.execute_input": "2022-04-19T11:59:18.036875Z",
     "iopub.status.busy": "2022-04-19T11:59:18.036302Z",
     "iopub.status.idle": "2022-04-19T11:59:18.387614Z",
     "shell.execute_reply": "2022-04-19T11:59:18.388034Z",
     "shell.execute_reply.started": "2022-04-19T11:37:17.717142Z"
    },
    "papermill": {
     "duration": 0.422785,
     "end_time": "2022-04-19T11:59:18.388190",
     "exception": false,
     "start_time": "2022-04-19T11:59:17.965405",
     "status": "completed"
    },
    "tags": []
   },
   "outputs": [
    {
     "data": {
      "image/png": "[encoded data removed]",
      "text/plain": [
       "<Figure size 864x576 with 1 Axes>"
      ]
     },
     "metadata": {},
     "output_type": "display_data"
    }
   ],
   "source": [
    "#plot graph of feature importances for better visualization\n",
    "plt.figure(figsize = (12,8))\n",
    "feat_importances = pd.Series(selection.feature_importances_, index=X.columns)\n",
    "feat_importances.nlargest(20).plot(kind='barh')\n",
    "plt.show()"
   ]
  },
  {
   "cell_type": "markdown",
   "id": "ae25be18",
   "metadata": {
    "papermill": {
     "duration": 0.062161,
     "end_time": "2022-04-19T11:59:18.513601",
     "exception": false,
     "start_time": "2022-04-19T11:59:18.451440",
     "status": "completed"
    },
    "tags": []
   },
   "source": [
    "# Model Building \n",
    "Random Forest"
   ]
  },
  {
   "cell_type": "code",
   "execution_count": 41,
   "id": "64d1f045",
   "metadata": {
    "execution": {
     "iopub.execute_input": "2022-04-19T11:59:18.644681Z",
     "iopub.status.busy": "2022-04-19T11:59:18.643945Z",
     "iopub.status.idle": "2022-04-19T11:59:18.649597Z",
     "shell.execute_reply": "2022-04-19T11:59:18.649175Z",
     "shell.execute_reply.started": "2022-04-19T11:37:18.203504Z"
    },
    "papermill": {
     "duration": 0.074123,
     "end_time": "2022-04-19T11:59:18.649711",
     "exception": false,
     "start_time": "2022-04-19T11:59:18.575588",
     "status": "completed"
    },
    "tags": []
   },
   "outputs": [],
   "source": [
    "from sklearn.model_selection import train_test_split\n",
    "X_train, X_test, y_train, y_test = train_test_split(X, y, test_size = 0.2, random_state = 42)"
   ]
  },
  {
   "cell_type": "code",
   "execution_count": 42,
   "id": "001d70f3",
   "metadata": {
    "execution": {
     "iopub.execute_input": "2022-04-19T11:59:18.780682Z",
     "iopub.status.busy": "2022-04-19T11:59:18.780086Z",
     "iopub.status.idle": "2022-04-19T11:59:21.234436Z",
     "shell.execute_reply": "2022-04-19T11:59:21.234901Z",
     "shell.execute_reply.started": "2022-04-19T11:54:17.850209Z"
    },
    "papermill": {
     "duration": 2.522377,
     "end_time": "2022-04-19T11:59:21.235076",
     "exception": false,
     "start_time": "2022-04-19T11:59:18.712699",
     "status": "completed"
    },
    "tags": []
   },
   "outputs": [
    {
     "name": "stderr",
     "output_type": "stream",
     "text": [
      "You should provide test set for use best model. use_best_model parameter has been switched to false value.\n"
     ]
    },
    {
     "name": "stdout",
     "output_type": "stream",
     "text": [
      "0:\tlearn: 4463.7896127\ttotal: 54.5ms\tremaining: 27.2s\n",
      "50:\tlearn: 2185.5302111\ttotal: 295ms\tremaining: 2.6s\n",
      "100:\tlearn: 1860.1706016\ttotal: 535ms\tremaining: 2.11s\n",
      "150:\tlearn: 1685.4567462\ttotal: 746ms\tremaining: 1.72s\n",
      "200:\tlearn: 1563.6553415\ttotal: 957ms\tremaining: 1.42s\n",
      "250:\tlearn: 1504.6924292\ttotal: 1.15s\tremaining: 1.14s\n",
      "300:\tlearn: 1437.2979277\ttotal: 1.36s\tremaining: 898ms\n",
      "350:\tlearn: 1390.5936948\ttotal: 1.56s\tremaining: 664ms\n",
      "400:\tlearn: 1338.3785308\ttotal: 1.77s\tremaining: 437ms\n",
      "450:\tlearn: 1288.5315826\ttotal: 1.98s\tremaining: 215ms\n",
      "499:\tlearn: 1245.6393639\ttotal: 2.19s\tremaining: 0us\n"
     ]
    },
    {
     "data": {
      "text/plain": [
       "<catboost.core.CatBoostRegressor at 0x7f42d8ccf210>"
      ]
     },
     "execution_count": 42,
     "metadata": {},
     "output_type": "execute_result"
    }
   ],
   "source": [
    "from catboost import CatBoostRegressor\n",
    "from sklearn import metrics\n",
    "from sklearn.model_selection import RandomizedSearchCV\n",
    "\n",
    "cat = CatBoostRegressor(iterations=500,\n",
    "                             learning_rate=0.05,\n",
    "                             depth=10,\n",
    "                             eval_metric='RMSE',\n",
    "                             random_seed = 42,\n",
    "                             bagging_temperature = 0.2,\n",
    "                             od_type='Iter',\n",
    "                             metric_period = 50,\n",
    "                             od_wait=20)\n",
    "\n",
    "cat.fit(X_train, y_train, use_best_model=True)"
   ]
  },
  {
   "cell_type": "code",
   "execution_count": 43,
   "id": "cf74f792",
   "metadata": {
    "execution": {
     "iopub.execute_input": "2022-04-19T11:59:21.382992Z",
     "iopub.status.busy": "2022-04-19T11:59:21.382250Z",
     "iopub.status.idle": "2022-04-19T11:59:21.416520Z",
     "shell.execute_reply": "2022-04-19T11:59:21.417374Z",
     "shell.execute_reply.started": "2022-04-19T11:54:44.974287Z"
    },
    "papermill": {
     "duration": 0.112684,
     "end_time": "2022-04-19T11:59:21.417586",
     "exception": false,
     "start_time": "2022-04-19T11:59:21.304902",
     "status": "completed"
    },
    "tags": []
   },
   "outputs": [
    {
     "name": "stdout",
     "output_type": "stream",
     "text": [
      "Training Score :  0.9267744223681392\n",
      "Testing Score :  0.8619408700986333\n"
     ]
    }
   ],
   "source": [
    "y_pred = cat.predict(X_test)\n",
    "print(\"Training Score : \",cat.score(X_train, y_train))\n",
    "print(\"Testing Score : \",cat.score(X_test, y_test))"
   ]
  },
  {
   "cell_type": "code",
   "execution_count": 44,
   "id": "8f9c6468",
   "metadata": {
    "execution": {
     "iopub.execute_input": "2022-04-19T11:59:21.574000Z",
     "iopub.status.busy": "2022-04-19T11:59:21.571213Z",
     "iopub.status.idle": "2022-04-19T11:59:21.894739Z",
     "shell.execute_reply": "2022-04-19T11:59:21.895183Z",
     "shell.execute_reply.started": "2022-04-19T11:54:47.012772Z"
    },
    "papermill": {
     "duration": 0.407984,
     "end_time": "2022-04-19T11:59:21.895325",
     "exception": false,
     "start_time": "2022-04-19T11:59:21.487341",
     "status": "completed"
    },
    "tags": []
   },
   "outputs": [
    {
     "data": {
      "image/png": "[encoded data removed]",
      "text/plain": [
       "<Figure size 432x288 with 1 Axes>"
      ]
     },
     "metadata": {},
     "output_type": "display_data"
    }
   ],
   "source": [
    "sns.distplot(y_test-y_pred)\n",
    "plt.show()"
   ]
  },
  {
   "cell_type": "code",
   "execution_count": 45,
   "id": "1eaaf8d1",
   "metadata": {
    "execution": {
     "iopub.execute_input": "2022-04-19T11:59:22.046099Z",
     "iopub.status.busy": "2022-04-19T11:59:22.042878Z",
     "iopub.status.idle": "2022-04-19T11:59:22.259589Z",
     "shell.execute_reply": "2022-04-19T11:59:22.259154Z",
     "shell.execute_reply.started": "2022-04-19T11:54:48.146553Z"
    },
    "papermill": {
     "duration": 0.296407,
     "end_time": "2022-04-19T11:59:22.259703",
     "exception": false,
     "start_time": "2022-04-19T11:59:21.963296",
     "status": "completed"
    },
    "tags": []
   },
   "outputs": [
    {
     "data": {
      "image/png": "[encoded data removed]",
      "text/plain": [
       "<Figure size 432x288 with 1 Axes>"
      ]
     },
     "metadata": {},
     "output_type": "display_data"
    }
   ],
   "source": [
    "plt.scatter(y_test, y_pred, alpha = 0.5)\n",
    "plt.xlabel(\"y_test\")\n",
    "plt.ylabel(\"y_pred\")\n",
    "plt.show()"
   ]
  },
  {
   "cell_type": "code",
   "execution_count": 46,
   "id": "7b590ea5",
   "metadata": {
    "execution": {
     "iopub.execute_input": "2022-04-19T11:59:22.404087Z",
     "iopub.status.busy": "2022-04-19T11:59:22.400349Z",
     "iopub.status.idle": "2022-04-19T11:59:22.411101Z",
     "shell.execute_reply": "2022-04-19T11:59:22.410641Z",
     "shell.execute_reply.started": "2022-04-19T11:57:57.677004Z"
    },
    "papermill": {
     "duration": 0.082266,
     "end_time": "2022-04-19T11:59:22.411219",
     "exception": false,
     "start_time": "2022-04-19T11:59:22.328953",
     "status": "completed"
    },
    "tags": []
   },
   "outputs": [
    {
     "name": "stdout",
     "output_type": "stream",
     "text": [
      "MAE: 1155.4936771373232\n",
      "MSE: 2976838.7349980376\n",
      "RMSE: 1725.3517713782421\n",
      "r2_score: 0.8619408700986333\n"
     ]
    }
   ],
   "source": [
    "from sklearn import metrics\n",
    "print('MAE:', metrics.mean_absolute_error(y_test, y_pred))\n",
    "print('MSE:', metrics.mean_squared_error(y_test, y_pred))\n",
    "print('RMSE:', np.sqrt(metrics.mean_squared_error(y_test, y_pred)))\n",
    "print('r2_score:', metrics.r2_score(y_test, y_pred))"
   ]
  },
  {
   "cell_type": "code",
   "execution_count": null,
   "id": "f719ae85",
   "metadata": {
    "papermill": {
     "duration": 0.06834,
     "end_time": "2022-04-19T11:59:22.549069",
     "exception": false,
     "start_time": "2022-04-19T11:59:22.480729",
     "status": "completed"
    },
    "tags": []
   },
   "outputs": [],
   "source": []
  }
 ],
 "metadata": {
  "kernelspec": {
   "display_name": "Python 3",
   "language": "python",
   "name": "python3"
  },
  "language_info": {
   "codemirror_mode": {
    "name": "ipython",
    "version": 3
   },
   "file_extension": ".py",
   "mimetype": "text/x-python",
   "name": "python",
   "nbconvert_exporter": "python",
   "pygments_lexer": "ipython3",
   "version": "3.7.12"
  },
  "papermill": {
   "default_parameters": {},
   "duration": 37.54625,
   "end_time": "2022-04-19T11:59:23.226078",
   "environment_variables": {},
   "exception": null,
   "input_path": "__notebook__.ipynb",
   "output_path": "__notebook__.ipynb",
   "parameters": {},
   "start_time": "2022-04-19T11:58:45.679828",
   "version": "2.3.3"
  }
 },
 "nbformat": 4,
 "nbformat_minor": 5
}
